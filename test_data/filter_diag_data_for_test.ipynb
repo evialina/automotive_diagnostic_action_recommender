{
 "cells": [
  {
   "cell_type": "code",
   "execution_count": null,
   "id": "ab1f6898-d85f-4161-87b0-52808478be71",
   "metadata": {
    "ExecuteTime": {
     "start_time": "2023-08-07T18:09:45.554659Z",
     "end_time": "2023-08-07T18:09:45.571130Z"
    }
   },
   "outputs": [],
   "source": [
    "import pandas as pd"
   ]
  },
  {
   "cell_type": "markdown",
   "source": [
    "# Prepare data for continuous learning demo setup"
   ],
   "metadata": {
    "collapsed": false
   }
  },
  {
   "cell_type": "code",
   "execution_count": null,
   "outputs": [],
   "source": [
    "# Load the datasets\n",
    "claims_all = pd.read_csv('./data/claims_all.csv', low_memory=False)\n",
    "diagnostic_chunk2 = pd.read_csv('./data/diagnostic_chunk2.csv', low_memory=False)\n",
    "\n",
    "# Filter the diagnostic_chunk2 dataframe to get vehicles with >30 claim records\n",
    "vin_counts = claims_all['anonymised_vin'].value_counts()\n",
    "vins_more_than_30 = vin_counts[vin_counts > 30].index\n",
    "filtered = diagnostic_chunk2[diagnostic_chunk2['anonymised_vin'].isin(vins_more_than_30)]\n",
    "\n",
    "# Save the filtered dataframe to a new CSV file\n",
    "filtered.to_csv('continuous_learning_diagnostics.csv', index=False)"
   ],
   "metadata": {
    "collapsed": false,
    "ExecuteTime": {
     "start_time": "2023-08-07T18:54:06.762580Z",
     "end_time": "2023-08-07T18:54:48.073511Z"
    }
   }
  },
  {
   "cell_type": "code",
   "execution_count": null,
   "id": "1dd46186-4172-4ad3-9cb4-5061fdd43a04",
   "metadata": {
    "ExecuteTime": {
     "start_time": "2023-08-07T19:01:00.299986Z",
     "end_time": "2023-08-07T19:01:00.397718Z"
    }
   },
   "outputs": [],
   "source": [
    "filtered = pd.read_csv('continuous_learning_claims.csv', low_memory=False)\n",
    "filtered2 = pd.read_csv('continuous_learning_diagnostics.csv', low_memory=False)\n",
    "print(f\"There are {filtered['anonymised_vin'].nunique()} unique anonymised_vin values in the claims data.\")\n",
    "print(f\"There are {filtered2['anonymised_vin'].nunique()} unique anonymised_vin values in the diag data.\")"
   ]
  },
  {
   "cell_type": "markdown",
   "source": [
    "# Prepare data for recommender demo setup"
   ],
   "metadata": {
    "collapsed": false
   }
  },
  {
   "cell_type": "code",
   "execution_count": null,
   "outputs": [],
   "source": [
    "diagnostic_chunk3 = pd.read_csv('../data/diagnostic_chunk3.csv', low_memory=False)\n",
    "diagnostic_chunk3['sessiontimestamp'] = pd.to_datetime(diagnostic_chunk3['sessiontimestamp'])\n",
    "\n",
    "# Group by 'anonymised_vin' and 'day', then filter for groups with more than one unique 'dtcfull'\n",
    "diagnostic_chunk3['day'] = diagnostic_chunk3['sessiontimestamp'].dt.date"
   ],
   "metadata": {
    "collapsed": false,
    "ExecuteTime": {
     "start_time": "2023-08-07T19:58:50.056466Z",
     "end_time": "2023-08-07T20:04:50.090225Z"
    }
   }
  },
  {
   "cell_type": "code",
   "execution_count": null,
   "outputs": [],
   "source": [
    "# Filter based on 'otxsequence' being DTC Read (G2725772)\n",
    "filtered_otx = diagnostic_chunk3[diagnostic_chunk3['otxsequence'] == 'G2725772']\n",
    "# Filter out all vins where there are less than 2 unique dtcfull values\n",
    "groups = diagnostic_chunk3.groupby(['anonymised_vin', 'day'])\n",
    "filtered_groups = groups.filter(lambda x: x['dtcfull'].nunique() > 1)"
   ],
   "metadata": {
    "collapsed": false,
    "ExecuteTime": {
     "start_time": "2023-08-07T20:04:50.293116Z",
     "end_time": "2023-08-07T20:05:54.114664Z"
    }
   }
  },
  {
   "cell_type": "code",
   "execution_count": null,
   "outputs": [],
   "source": [
    "# Drop duplicates based on 'anonymised_vin', 'dtcfull', and 'day'\n",
    "filtered_groups = filtered_groups.drop_duplicates(subset=['anonymised_vin', 'dtcfull', 'day'])\n",
    "# Drop the 'day' column as it was only needed for the grouping\n",
    "filtered_groups = filtered_groups.drop(columns='day')\n",
    "filtered_groups.to_csv('recommender_testing_data.csv', index=False)\n",
    "print(f\"There are {filtered_groups['anonymised_vin'].nunique()} unique anonymised_vin values in the data.\")"
   ],
   "metadata": {
    "collapsed": false,
    "ExecuteTime": {
     "start_time": "2023-08-07T20:05:54.173389Z",
     "end_time": "2023-08-07T20:06:04.931121Z"
    }
   }
  },
  {
   "cell_type": "code",
   "execution_count": null,
   "outputs": [],
   "source": [
    "# Randomly select 30 unique anonymised_vin values\n",
    "selected_vins = filtered_groups['anonymised_vin'].drop_duplicates().sample(n=30).values\n",
    "# Filter the dataset to keep only these 30 anonymised_vin values\n",
    "subset = filtered_groups[filtered_groups['anonymised_vin'].isin(selected_vins)]"
   ],
   "metadata": {
    "collapsed": false,
    "ExecuteTime": {
     "start_time": "2023-08-07T20:06:04.998575Z",
     "end_time": "2023-08-07T20:06:05.064299Z"
    }
   }
  },
  {
   "cell_type": "code",
   "execution_count": null,
   "outputs": [],
   "source": [
    "subset.to_csv('recommender_testing_data_30vehicles.csv', index=False)\n",
    "print(f\"There are now {subset['anonymised_vin'].nunique()} unique anonymised_vin values in the subset.\")\n",
    "subset"
   ],
   "metadata": {
    "collapsed": false,
    "ExecuteTime": {
     "start_time": "2023-08-07T20:26:42.585240Z",
     "end_time": "2023-08-07T20:26:42.635391Z"
    }
   }
  }
 ],
 "metadata": {
  "kernelspec": {
   "name": "python3",
   "language": "python",
   "display_name": "Python 3 (ipykernel)"
  },
  "language_info": {
   "codemirror_mode": {
    "name": "ipython",
    "version": 3
   },
   "file_extension": ".py",
   "mimetype": "text/x-python",
   "name": "python",
   "nbconvert_exporter": "python",
   "pygments_lexer": "ipython3",
   "version": "3.9.17"
  }
 },
 "nbformat": 4,
 "nbformat_minor": 5
}
