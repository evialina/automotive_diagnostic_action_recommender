{
 "cells": [
  {
   "cell_type": "code",
   "execution_count": 1,
   "id": "ab1f6898-d85f-4161-87b0-52808478be71",
   "metadata": {},
   "outputs": [
    {
     "name": "stdout",
     "output_type": "stream",
     "text": [
      "Imported\n"
     ]
    }
   ],
   "source": [
    "import pandas as pd\n",
    "\n",
    "# Load the datasets\n",
    "claims_all = pd.read_csv('./data/claims_all.csv', low_memory=False)\n",
    "diagnostic_chunk2 = pd.read_csv('./data/chunks_2m/diagnostic_chunk2.csv', low_memory=False)\n",
    "\n",
    "# Filter the diagnostic_chunk2 dataframe\n",
    "vin_counts = claims_all['anonymised_vin'].value_counts()\n",
    "vins_more_than_once = vin_counts[vin_counts > 30].index\n",
    "\n",
    "# Filter the diagnostic_chunk2 dataframe\n",
    "filtered = diagnostic_chunk2[diagnostic_chunk2['anonymised_vin'].isin(vins_more_than_once)]\n",
    "\n",
    "# Save the filtered dataframe to a new CSV file\n",
    "filtered.to_csv('manual_test_data/manual_test_diag_data.csv', index=False)"
   ]
  },
  {
   "cell_type": "code",
   "execution_count": 2,
   "id": "b81f8f18-17bf-409c-86b9-812fa3da0fc6",
   "metadata": {},
   "outputs": [],
   "source": [
    "filtered = pd.read_csv('manual_test_data/manual_test_diag_data.csv', low_memory=False)"
   ]
  },
  {
   "cell_type": "code",
   "execution_count": 3,
   "id": "1dd46186-4172-4ad3-9cb4-5061fdd43a04",
   "metadata": {},
   "outputs": [
    {
     "name": "stdout",
     "output_type": "stream",
     "text": [
      "There are 36 unique anonymised_vin values in the filtered data.\n"
     ]
    }
   ],
   "source": [
    "num_unique_vins = filtered['anonymised_vin'].nunique()\n",
    "\n",
    "print(f'There are {num_unique_vins} unique anonymised_vin values in the filtered data.')"
   ]
  }
 ],
 "metadata": {
  "kernelspec": {
   "display_name": "myenv",
   "language": "python",
   "name": "myenv"
  },
  "language_info": {
   "codemirror_mode": {
    "name": "ipython",
    "version": 3
   },
   "file_extension": ".py",
   "mimetype": "text/x-python",
   "name": "python",
   "nbconvert_exporter": "python",
   "pygments_lexer": "ipython3",
   "version": "3.9.17"
  }
 },
 "nbformat": 4,
 "nbformat_minor": 5
}
