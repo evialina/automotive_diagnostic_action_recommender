{
 "cells": [
  {
   "cell_type": "code",
   "execution_count": 245,
   "id": "380bb861-1dc8-4f70-827a-c2c34faff4a6",
   "metadata": {
    "ExecuteTime": {
     "start_time": "2023-04-29T23:25:30.791557Z",
     "end_time": "2023-04-29T23:25:30.900627Z"
    }
   },
   "outputs": [],
   "source": [
    "import pandas as pd\n",
    "from pandas.api.types import CategoricalDtype\n",
    "import category_encoders as ce # run `pip install category_encoders`\n",
    "from sklearn.preprocessing import StandardScaler"
   ]
  },
  {
   "cell_type": "markdown",
   "source": [
    "## Data Import and Initial Preprocessing\n",
    "\n",
    "In this step, we import the necessary CSV files, each representing a unique dataset. The list of files includes 'q1', 'q2', 'q3', 'q4', 'q5', and 'q6'. We load each file into a separate pandas DataFrame.\n",
    "\n",
    "One important aspect of our preprocessing at this stage is handling the 'timestamp' column. In our datasets, 'timestamp' is only relevant in the 'q4' file where it denotes the time each diagnostic activity was executed. Therefore, we conditionally remove the 'timestamp' column from all DataFrames except for 'q4'.\n",
    "\n",
    "Each resulting DataFrame is stored in a dictionary, `dataframes`, using its filename as the key for efficient access and manipulation in the subsequent stages."
   ],
   "metadata": {
    "collapsed": false
   }
  },
  {
   "cell_type": "code",
   "execution_count": 246,
   "id": "0124adc2-0616-4b88-a4f7-0d94fa5db5e3",
   "metadata": {
    "ExecuteTime": {
     "start_time": "2023-04-29T23:25:30.802032Z",
     "end_time": "2023-04-29T23:25:38.984271Z"
    }
   },
   "outputs": [],
   "source": [
    "file_names = ['q1', 'q2', 'q3', 'q4', 'q5', 'q6']\n",
    "dataframes = {}\n",
    "\n",
    "for file in file_names:\n",
    "    file_path = f'data/{file}.csv'\n",
    "    df = pd.read_csv(file_path)\n",
    "\n",
    "    # If the file is not 'q4', drop the 'timestamp' column\n",
    "    if file != 'q4':\n",
    "        df = df.drop('timestamp', axis=1)\n",
    "\n",
    "    df = df.truncate(after=1000) # To be removed\n",
    "    dataframes[file] = df"
   ]
  },
  {
   "cell_type": "markdown",
   "source": [
    "## Feature Engineering: Extract Temporal Diagnostic Activity Features\n",
    "\n",
    "In this section, we perform feature engineering on the 'timestamp' field to extract valuable temporal information about each diagnostic activity. The temporal features we derive are:\n",
    "\n",
    "1. **Year**: The year the diagnostic activity was performed. This can help detect yearly trends in the data.\n",
    "2. **Month**: The month the diagnostic activity was performed. This can help identify any monthly patterns.\n",
    "3. **Day of Week**: The day of the week the diagnostic activity was performed. This can reveal weekly trends, such as certain activities being more common on certain days of the week.\n",
    "4. **Week of Year**: The ISO week number of the year the diagnostic activity was performed. This can provide a more granular view of yearly trends.\n",
    "5. **Time Since Last Activity**: The time in seconds since the last diagnostic activity for each consultation. This can help gauge the frequency of activities.\n",
    "6. **Elapsed Time**: The time in seconds since the first diagnostic activity in each consultation. This can provide insight into the duration of consultations.\n",
    "7. **Season of the Year**: The season (Winter, Spring, Summer, Autumn) when the diagnostic activity was performed. This can help identify seasonal trends, such as certain activities being more common in certain seasons.\n",
    "\n",
    "After extracting these features, we drop the original 'timestamp' column as it has been fully utilised. The resulting dataframe now contains several new features that provide additional temporal context about each diagnostic activity."
   ],
   "metadata": {
    "collapsed": false
   }
  },
  {
   "cell_type": "code",
   "execution_count": 247,
   "outputs": [],
   "source": [
    "q4 = dataframes['q4']\n",
    "q4['timestamp'] = pd.to_datetime(q4['timestamp'])\n",
    "q4.sort_values(['consultationId', 'timestamp'], inplace=True)\n",
    "\n",
    "q4['year'] = q4['timestamp'].dt.year\n",
    "q4['month'] = q4['timestamp'].dt.month\n",
    "q4['dayOfWeek'] = q4['timestamp'].dt.dayofweek\n",
    "q4['weekOfYear'] = q4['timestamp'].dt.isocalendar().week\n",
    "q4['timeSinceLastActivitySec'] = q4.groupby('consultationId')['timestamp'].diff().dt.total_seconds().fillna(0)\n",
    "q4['elapsedTimeSec'] = q4.groupby('consultationId')['timestamp'].transform(lambda x: (x - x.min())).dt.total_seconds()"
   ],
   "metadata": {
    "collapsed": false,
    "ExecuteTime": {
     "start_time": "2023-04-29T23:25:38.983043Z",
     "end_time": "2023-04-29T23:25:39.047268Z"
    }
   }
  },
  {
   "cell_type": "code",
   "execution_count": 248,
   "outputs": [
    {
     "data": {
      "text/plain": "             consultationId                 activityName  year  month  \\\n36   uid-162504129815798601            VCI.SELECT_MODULE  2021      7   \n180  uid-162509672601672329          VCI.SELECT_SUPPLIER  2021      7   \n181  uid-162509672601672329            VCI.SELECT_MODULE  2021      7   \n182  uid-162509672601672329  VCI.CHECK_VCI_SERIAL_NUMBER  2021      7   \n183  uid-162509672601672329          OTX.GET_PERSISTENCE  2021      7   \n..                      ...                          ...   ...    ...   \n87   uid-162510583719067147           CONSULTATION_START  2021      7   \n78   uid-162510599405951750           CONSULTATION_START  2021      7   \n86   uid-162510872224217421           CONSULTATION_START  2021      7   \n84   uid-162512405989626584           CONSULTATION_START  2021      7   \n80   uid-162512485340992345           CONSULTATION_START  2021      7   \n\n     dayOfWeek  weekOfYear  timeSinceLastActivitySec  elapsedTimeSec  season  \n36           3          26                     0.000           0.000  Summer  \n180          3          26                     0.000           0.000  Summer  \n181          3          26                     0.192           0.192  Summer  \n182          3          26                     0.311           0.503  Summer  \n183          3          26                     1.383           1.886  Summer  \n..         ...         ...                       ...             ...     ...  \n87           3          26                     0.000           0.000  Summer  \n78           3          26                     0.000           0.000  Summer  \n86           3          26                     0.000           0.000  Summer  \n84           3          26                     0.000           0.000  Summer  \n80           3          26                     0.000           0.000  Summer  \n\n[1001 rows x 9 columns]",
      "text/html": "<div>\n<style scoped>\n    .dataframe tbody tr th:only-of-type {\n        vertical-align: middle;\n    }\n\n    .dataframe tbody tr th {\n        vertical-align: top;\n    }\n\n    .dataframe thead th {\n        text-align: right;\n    }\n</style>\n<table border=\"1\" class=\"dataframe\">\n  <thead>\n    <tr style=\"text-align: right;\">\n      <th></th>\n      <th>consultationId</th>\n      <th>activityName</th>\n      <th>year</th>\n      <th>month</th>\n      <th>dayOfWeek</th>\n      <th>weekOfYear</th>\n      <th>timeSinceLastActivitySec</th>\n      <th>elapsedTimeSec</th>\n      <th>season</th>\n    </tr>\n  </thead>\n  <tbody>\n    <tr>\n      <th>36</th>\n      <td>uid-162504129815798601</td>\n      <td>VCI.SELECT_MODULE</td>\n      <td>2021</td>\n      <td>7</td>\n      <td>3</td>\n      <td>26</td>\n      <td>0.000</td>\n      <td>0.000</td>\n      <td>Summer</td>\n    </tr>\n    <tr>\n      <th>180</th>\n      <td>uid-162509672601672329</td>\n      <td>VCI.SELECT_SUPPLIER</td>\n      <td>2021</td>\n      <td>7</td>\n      <td>3</td>\n      <td>26</td>\n      <td>0.000</td>\n      <td>0.000</td>\n      <td>Summer</td>\n    </tr>\n    <tr>\n      <th>181</th>\n      <td>uid-162509672601672329</td>\n      <td>VCI.SELECT_MODULE</td>\n      <td>2021</td>\n      <td>7</td>\n      <td>3</td>\n      <td>26</td>\n      <td>0.192</td>\n      <td>0.192</td>\n      <td>Summer</td>\n    </tr>\n    <tr>\n      <th>182</th>\n      <td>uid-162509672601672329</td>\n      <td>VCI.CHECK_VCI_SERIAL_NUMBER</td>\n      <td>2021</td>\n      <td>7</td>\n      <td>3</td>\n      <td>26</td>\n      <td>0.311</td>\n      <td>0.503</td>\n      <td>Summer</td>\n    </tr>\n    <tr>\n      <th>183</th>\n      <td>uid-162509672601672329</td>\n      <td>OTX.GET_PERSISTENCE</td>\n      <td>2021</td>\n      <td>7</td>\n      <td>3</td>\n      <td>26</td>\n      <td>1.383</td>\n      <td>1.886</td>\n      <td>Summer</td>\n    </tr>\n    <tr>\n      <th>...</th>\n      <td>...</td>\n      <td>...</td>\n      <td>...</td>\n      <td>...</td>\n      <td>...</td>\n      <td>...</td>\n      <td>...</td>\n      <td>...</td>\n      <td>...</td>\n    </tr>\n    <tr>\n      <th>87</th>\n      <td>uid-162510583719067147</td>\n      <td>CONSULTATION_START</td>\n      <td>2021</td>\n      <td>7</td>\n      <td>3</td>\n      <td>26</td>\n      <td>0.000</td>\n      <td>0.000</td>\n      <td>Summer</td>\n    </tr>\n    <tr>\n      <th>78</th>\n      <td>uid-162510599405951750</td>\n      <td>CONSULTATION_START</td>\n      <td>2021</td>\n      <td>7</td>\n      <td>3</td>\n      <td>26</td>\n      <td>0.000</td>\n      <td>0.000</td>\n      <td>Summer</td>\n    </tr>\n    <tr>\n      <th>86</th>\n      <td>uid-162510872224217421</td>\n      <td>CONSULTATION_START</td>\n      <td>2021</td>\n      <td>7</td>\n      <td>3</td>\n      <td>26</td>\n      <td>0.000</td>\n      <td>0.000</td>\n      <td>Summer</td>\n    </tr>\n    <tr>\n      <th>84</th>\n      <td>uid-162512405989626584</td>\n      <td>CONSULTATION_START</td>\n      <td>2021</td>\n      <td>7</td>\n      <td>3</td>\n      <td>26</td>\n      <td>0.000</td>\n      <td>0.000</td>\n      <td>Summer</td>\n    </tr>\n    <tr>\n      <th>80</th>\n      <td>uid-162512485340992345</td>\n      <td>CONSULTATION_START</td>\n      <td>2021</td>\n      <td>7</td>\n      <td>3</td>\n      <td>26</td>\n      <td>0.000</td>\n      <td>0.000</td>\n      <td>Summer</td>\n    </tr>\n  </tbody>\n</table>\n<p>1001 rows × 9 columns</p>\n</div>"
     },
     "execution_count": 248,
     "metadata": {},
     "output_type": "execute_result"
    }
   ],
   "source": [
    "# Derive 'Season of the Year'\n",
    "# Define a function that maps month to season\n",
    "def month_to_season(month):\n",
    "    if month in [12, 1, 2]:\n",
    "        return 'Winter'\n",
    "    elif month in [3, 4, 5]:\n",
    "        return 'Spring'\n",
    "    elif month in [6, 7, 8]:\n",
    "        return 'Summer'\n",
    "    else:\n",
    "        return 'Autumn'\n",
    "\n",
    "# Apply the function to the 'month' column to create the 'season' column\n",
    "q4['season'] = q4['month'].apply(month_to_season)\n",
    "\n",
    "q4 = q4.drop(columns=['timestamp'], axis=1)\n",
    "q4"
   ],
   "metadata": {
    "collapsed": false,
    "ExecuteTime": {
     "start_time": "2023-04-29T23:25:39.056123Z",
     "end_time": "2023-04-29T23:25:39.084086Z"
    }
   }
  },
  {
   "cell_type": "markdown",
   "source": [
    "## Feature Engineering: Removing Outlier Diagnostic Activities\n",
    "\n",
    "In our dataset, certain diagnostic activities performed by the technicians are extremely common and are recorded in virtually every consultation. While these activities are a routine part of the consultation process, they do not carry significant diagnostic information for our model, and therefore, may not be useful in predicting recommendations. For instance, the 'CONSULTATION_START' activity is logged in every consultation but doesn't contribute meaningful information towards diagnosing a specific vehicle issue.\n",
    "\n",
    "To identify and remove these non-informative activities, we follow a statistical outlier detection approach:\n",
    "\n",
    "1. **Calculate Commonality**: First, we calculate the commonality score for each activity, which is the frequency of the activity divided by the total number of activities.\n",
    "\n",
    "2. **Calculate Mean and Standard Deviation**: We then calculate the mean and standard deviation of these commonality scores.\n",
    "\n",
    "3. **Identify Outliers**: Any activity whose commonality score lies beyond two standard deviations from the mean is considered an outlier. This threshold is based on the empirical rule, which states that for a normal distribution, about 95% of the data lies within two standard deviations of the mean.\n",
    "\n",
    "4. **Remove Outliers**: Finally, we remove these outlier activities from our dataset, leaving us with a set of activities that are varied enough to provide meaningful information for our model."
   ],
   "metadata": {
    "collapsed": false
   }
  },
  {
   "cell_type": "code",
   "execution_count": 249,
   "outputs": [
    {
     "name": "stdout",
     "output_type": "stream",
     "text": [
      "MEAN: 0.014285714285714282  STD: 0.02392732147353882\n"
     ]
    },
    {
     "data": {
      "text/plain": "             activityName  commonalityScore\n0     OTX.GET_PERSISTENCE          0.134865\n1       VCI.SELECT_MODULE          0.090909\n2  REST.VEHICLE.FLASHWARE          0.062937\n3     REST.TRANSFORMATION          0.062937\n4                     ODO          0.062937",
      "text/html": "<div>\n<style scoped>\n    .dataframe tbody tr th:only-of-type {\n        vertical-align: middle;\n    }\n\n    .dataframe tbody tr th {\n        vertical-align: top;\n    }\n\n    .dataframe thead th {\n        text-align: right;\n    }\n</style>\n<table border=\"1\" class=\"dataframe\">\n  <thead>\n    <tr style=\"text-align: right;\">\n      <th></th>\n      <th>activityName</th>\n      <th>commonalityScore</th>\n    </tr>\n  </thead>\n  <tbody>\n    <tr>\n      <th>0</th>\n      <td>OTX.GET_PERSISTENCE</td>\n      <td>0.134865</td>\n    </tr>\n    <tr>\n      <th>1</th>\n      <td>VCI.SELECT_MODULE</td>\n      <td>0.090909</td>\n    </tr>\n    <tr>\n      <th>2</th>\n      <td>REST.VEHICLE.FLASHWARE</td>\n      <td>0.062937</td>\n    </tr>\n    <tr>\n      <th>3</th>\n      <td>REST.TRANSFORMATION</td>\n      <td>0.062937</td>\n    </tr>\n    <tr>\n      <th>4</th>\n      <td>ODO</td>\n      <td>0.062937</td>\n    </tr>\n  </tbody>\n</table>\n</div>"
     },
     "execution_count": 249,
     "metadata": {},
     "output_type": "execute_result"
    }
   ],
   "source": [
    "activity_commonality = q4.value_counts('activityName')/q4['activityName'].count()\n",
    "activity_commonality = activity_commonality.reset_index()\n",
    "activity_commonality.columns = ['activityName', 'commonalityScore']\n",
    "\n",
    "mean = activity_commonality.commonalityScore.mean()\n",
    "std = activity_commonality.commonalityScore.std()\n",
    "print(f'MEAN: {mean}  STD: {std}')\n",
    "\n",
    "lower = mean - (2 * std)\n",
    "upper = mean + (2 * std)\n",
    "\n",
    "# Compose a condition to identify the outliers by checking for commonality score less than or greater than lower and upper bounds respectively.\n",
    "outliers_condition = (activity_commonality.commonalityScore < lower) | (upper < activity_commonality.commonalityScore)\n",
    "most_common_activities = activity_commonality[outliers_condition]\n",
    "\n",
    "most_common_activities"
   ],
   "metadata": {
    "collapsed": false,
    "ExecuteTime": {
     "start_time": "2023-04-29T23:25:39.085082Z",
     "end_time": "2023-04-29T23:25:39.123918Z"
    }
   }
  },
  {
   "cell_type": "code",
   "execution_count": 250,
   "outputs": [
    {
     "data": {
      "text/plain": "             consultationId                    activityName  year  month  \\\n180  uid-162509672601672329             VCI.SELECT_SUPPLIER  2021      7   \n182  uid-162509672601672329     VCI.CHECK_VCI_SERIAL_NUMBER  2021      7   \n184  uid-162509672601672329                   OTX.vehicleid  2021      7   \n185  uid-162509672601672329  REST.DECODE_VEHICLE_IDENTIFIER  2021      7   \n187  uid-162509672601672329                         OTX.vin  2021      7   \n..                      ...                             ...   ...    ...   \n87   uid-162510583719067147              CONSULTATION_START  2021      7   \n78   uid-162510599405951750              CONSULTATION_START  2021      7   \n86   uid-162510872224217421              CONSULTATION_START  2021      7   \n84   uid-162512405989626584              CONSULTATION_START  2021      7   \n80   uid-162512485340992345              CONSULTATION_START  2021      7   \n\n     dayOfWeek  weekOfYear  timeSinceLastActivitySec  elapsedTimeSec  season  \n180          3          26                     0.000           0.000  Summer  \n182          3          26                     0.311           0.503  Summer  \n184          3          26                     0.015           1.901  Summer  \n185          3          26                     0.074           1.975  Summer  \n187          3          26                     0.006           3.131  Summer  \n..         ...         ...                       ...             ...     ...  \n87           3          26                     0.000           0.000  Summer  \n78           3          26                     0.000           0.000  Summer  \n86           3          26                     0.000           0.000  Summer  \n84           3          26                     0.000           0.000  Summer  \n80           3          26                     0.000           0.000  Summer  \n\n[586 rows x 9 columns]",
      "text/html": "<div>\n<style scoped>\n    .dataframe tbody tr th:only-of-type {\n        vertical-align: middle;\n    }\n\n    .dataframe tbody tr th {\n        vertical-align: top;\n    }\n\n    .dataframe thead th {\n        text-align: right;\n    }\n</style>\n<table border=\"1\" class=\"dataframe\">\n  <thead>\n    <tr style=\"text-align: right;\">\n      <th></th>\n      <th>consultationId</th>\n      <th>activityName</th>\n      <th>year</th>\n      <th>month</th>\n      <th>dayOfWeek</th>\n      <th>weekOfYear</th>\n      <th>timeSinceLastActivitySec</th>\n      <th>elapsedTimeSec</th>\n      <th>season</th>\n    </tr>\n  </thead>\n  <tbody>\n    <tr>\n      <th>180</th>\n      <td>uid-162509672601672329</td>\n      <td>VCI.SELECT_SUPPLIER</td>\n      <td>2021</td>\n      <td>7</td>\n      <td>3</td>\n      <td>26</td>\n      <td>0.000</td>\n      <td>0.000</td>\n      <td>Summer</td>\n    </tr>\n    <tr>\n      <th>182</th>\n      <td>uid-162509672601672329</td>\n      <td>VCI.CHECK_VCI_SERIAL_NUMBER</td>\n      <td>2021</td>\n      <td>7</td>\n      <td>3</td>\n      <td>26</td>\n      <td>0.311</td>\n      <td>0.503</td>\n      <td>Summer</td>\n    </tr>\n    <tr>\n      <th>184</th>\n      <td>uid-162509672601672329</td>\n      <td>OTX.vehicleid</td>\n      <td>2021</td>\n      <td>7</td>\n      <td>3</td>\n      <td>26</td>\n      <td>0.015</td>\n      <td>1.901</td>\n      <td>Summer</td>\n    </tr>\n    <tr>\n      <th>185</th>\n      <td>uid-162509672601672329</td>\n      <td>REST.DECODE_VEHICLE_IDENTIFIER</td>\n      <td>2021</td>\n      <td>7</td>\n      <td>3</td>\n      <td>26</td>\n      <td>0.074</td>\n      <td>1.975</td>\n      <td>Summer</td>\n    </tr>\n    <tr>\n      <th>187</th>\n      <td>uid-162509672601672329</td>\n      <td>OTX.vin</td>\n      <td>2021</td>\n      <td>7</td>\n      <td>3</td>\n      <td>26</td>\n      <td>0.006</td>\n      <td>3.131</td>\n      <td>Summer</td>\n    </tr>\n    <tr>\n      <th>...</th>\n      <td>...</td>\n      <td>...</td>\n      <td>...</td>\n      <td>...</td>\n      <td>...</td>\n      <td>...</td>\n      <td>...</td>\n      <td>...</td>\n      <td>...</td>\n    </tr>\n    <tr>\n      <th>87</th>\n      <td>uid-162510583719067147</td>\n      <td>CONSULTATION_START</td>\n      <td>2021</td>\n      <td>7</td>\n      <td>3</td>\n      <td>26</td>\n      <td>0.000</td>\n      <td>0.000</td>\n      <td>Summer</td>\n    </tr>\n    <tr>\n      <th>78</th>\n      <td>uid-162510599405951750</td>\n      <td>CONSULTATION_START</td>\n      <td>2021</td>\n      <td>7</td>\n      <td>3</td>\n      <td>26</td>\n      <td>0.000</td>\n      <td>0.000</td>\n      <td>Summer</td>\n    </tr>\n    <tr>\n      <th>86</th>\n      <td>uid-162510872224217421</td>\n      <td>CONSULTATION_START</td>\n      <td>2021</td>\n      <td>7</td>\n      <td>3</td>\n      <td>26</td>\n      <td>0.000</td>\n      <td>0.000</td>\n      <td>Summer</td>\n    </tr>\n    <tr>\n      <th>84</th>\n      <td>uid-162512405989626584</td>\n      <td>CONSULTATION_START</td>\n      <td>2021</td>\n      <td>7</td>\n      <td>3</td>\n      <td>26</td>\n      <td>0.000</td>\n      <td>0.000</td>\n      <td>Summer</td>\n    </tr>\n    <tr>\n      <th>80</th>\n      <td>uid-162512485340992345</td>\n      <td>CONSULTATION_START</td>\n      <td>2021</td>\n      <td>7</td>\n      <td>3</td>\n      <td>26</td>\n      <td>0.000</td>\n      <td>0.000</td>\n      <td>Summer</td>\n    </tr>\n  </tbody>\n</table>\n<p>586 rows × 9 columns</p>\n</div>"
     },
     "execution_count": 250,
     "metadata": {},
     "output_type": "execute_result"
    }
   ],
   "source": [
    "# Remove identified outlier (the most common) activities\n",
    "q4 = q4[~q4.activityName.isin(most_common_activities.activityName)]\n",
    "q4"
   ],
   "metadata": {
    "collapsed": false,
    "ExecuteTime": {
     "start_time": "2023-04-29T23:25:39.112278Z",
     "end_time": "2023-04-29T23:25:39.198947Z"
    }
   }
  },
  {
   "cell_type": "markdown",
   "source": [
    "## Data Merging: Combining Imported Data\n",
    "\n",
    "In this step, we are merging the imported data into a single dataframe using the `consultationId` as a common identifier.\n",
    "\n",
    "We are using the `merge()` function from pandas library to perform the merging operation. The `on` parameter is set to 'consultationId', which is the common identifier between the data sources. The `how` parameter is set to 'inner', meaning that we are performing an 'inner' join. This type of join returns only the records that have matching values in both merging tables. In other words, it returns the intersection of the dataframes, ensuring that the resulting dataframe contains only the complete information."
   ],
   "metadata": {
    "collapsed": false
   }
  },
  {
   "cell_type": "code",
   "execution_count": 251,
   "outputs": [
    {
     "data": {
      "text/plain": "                                                                      vin  \\\nconsultationId                                                              \nuid-162509762110151072  1A914EAC99CE2399BFB1C60E70BFB0B81475AF25694CF8...   \nuid-162509762110151072  1A914EAC99CE2399BFB1C60E70BFB0B81475AF25694CF8...   \nuid-162509762110151072  1A914EAC99CE2399BFB1C60E70BFB0B81475AF25694CF8...   \nuid-162509762110151072  1A914EAC99CE2399BFB1C60E70BFB0B81475AF25694CF8...   \nuid-162509762110151072  1A914EAC99CE2399BFB1C60E70BFB0B81475AF25694CF8...   \n...                                                                   ...   \nuid-162512405989626584  1A914EAC99CE2399BFB1C60E70BFB0B81475AF25694CF8...   \nuid-162512405989626584  1A914EAC99CE2399BFB1C60E70BFB0B81475AF25694CF8...   \nuid-162512405989626584  1A914EAC99CE2399BFB1C60E70BFB0B81475AF25694CF8...   \nuid-162512405989626584  1A914EAC99CE2399BFB1C60E70BFB0B81475AF25694CF8...   \nuid-162512405989626584  1A914EAC99CE2399BFB1C60E70BFB0B81475AF25694CF8...   \n\n                       project       ODO        activityName  year  month  \\\nconsultationId                                                              \nuid-162509762110151072    J59C  27282 km  CONSULTATION_START  2021      7   \nuid-162509762110151072    J59C  27282 km  CONSULTATION_START  2021      7   \nuid-162509762110151072    J59C  27282 km  CONSULTATION_START  2021      7   \nuid-162509762110151072    J59C  27282 km  CONSULTATION_START  2021      7   \nuid-162509762110151072    J59C  27282 km  CONSULTATION_START  2021      7   \n...                        ...       ...                 ...   ...    ...   \nuid-162512405989626584    J20E      7 km  CONSULTATION_START  2021      7   \nuid-162512405989626584    J20E      7 km  CONSULTATION_START  2021      7   \nuid-162512405989626584    J20E      7 km  CONSULTATION_START  2021      7   \nuid-162512405989626584    J20E      7 km  CONSULTATION_START  2021      7   \nuid-162512405989626584    J20E      7 km  CONSULTATION_START  2021      7   \n\n                        dayOfWeek  weekOfYear  timeSinceLastActivitySec  \\\nconsultationId                                                            \nuid-162509762110151072          3          26                       0.0   \nuid-162509762110151072          3          26                       0.0   \nuid-162509762110151072          3          26                       0.0   \nuid-162509762110151072          3          26                       0.0   \nuid-162509762110151072          3          26                       0.0   \n...                           ...         ...                       ...   \nuid-162512405989626584          3          26                       0.0   \nuid-162512405989626584          3          26                       0.0   \nuid-162512405989626584          3          26                       0.0   \nuid-162512405989626584          3          26                       0.0   \nuid-162512405989626584          3          26                       0.0   \n\n                        elapsedTimeSec  season odxShortName FullCode  \\\nconsultationId                                                         \nuid-162509762110151072             0.0  Summer          VCM  B1B5049   \nuid-162509762110151072             0.0  Summer          PSM  B1B4649   \nuid-162509762110151072             0.0  Summer          PSM  B1B5049   \nuid-162509762110151072             0.0  Summer          PSM  B1B5C49   \nuid-162509762110151072             0.0  Summer          VCM  B1B4649   \n...                                ...     ...          ...      ...   \nuid-162512405989626584             0.0  Summer        0x760  C05D397   \nuid-162512405989626584             0.0  Summer        0x760  C05D397   \nuid-162512405989626584             0.0  Summer        0x760  C05D397   \nuid-162512405989626584             0.0  Summer        0x760  C05D397   \nuid-162512405989626584             0.0  Summer        0x760  C05D397   \n\n                        StatusCode  dtcODO  C_ODO_VALUE dealerCode  \\\nconsultationId                                                       \nuid-162509762110151072           8   27280      27287.0      2527A   \nuid-162509762110151072           8   27280      27287.0      2527A   \nuid-162509762110151072           8   27280      27287.0      2527A   \nuid-162509762110151072           8   27280      27287.0      2527A   \nuid-162509762110151072           8   27280      27287.0      2527A   \n...                            ...     ...          ...        ...   \nuid-162512405989626584         104      -1          7.0  x22BB03CF   \nuid-162512405989626584         104      -1          7.0  x22BB03CF   \nuid-162512405989626584         104      -1          7.0  x22BB03CF   \nuid-162512405989626584         104      -1          7.0  x22BB03CF   \nuid-162512405989626584         104      -1          7.0  x22BB03CF   \n\n                       distributorCode  \nconsultationId                          \nuid-162509762110151072             MJO  \nuid-162509762110151072             MJO  \nuid-162509762110151072             MJO  \nuid-162509762110151072             MJO  \nuid-162509762110151072             MJO  \n...                                ...  \nuid-162512405989626584        MazdaDlr  \nuid-162512405989626584        MazdaDlr  \nuid-162512405989626584        MazdaDlr  \nuid-162512405989626584        MazdaDlr  \nuid-162512405989626584        MazdaDlr  \n\n[7717 rows x 18 columns]",
      "text/html": "<div>\n<style scoped>\n    .dataframe tbody tr th:only-of-type {\n        vertical-align: middle;\n    }\n\n    .dataframe tbody tr th {\n        vertical-align: top;\n    }\n\n    .dataframe thead th {\n        text-align: right;\n    }\n</style>\n<table border=\"1\" class=\"dataframe\">\n  <thead>\n    <tr style=\"text-align: right;\">\n      <th></th>\n      <th>vin</th>\n      <th>project</th>\n      <th>ODO</th>\n      <th>activityName</th>\n      <th>year</th>\n      <th>month</th>\n      <th>dayOfWeek</th>\n      <th>weekOfYear</th>\n      <th>timeSinceLastActivitySec</th>\n      <th>elapsedTimeSec</th>\n      <th>season</th>\n      <th>odxShortName</th>\n      <th>FullCode</th>\n      <th>StatusCode</th>\n      <th>dtcODO</th>\n      <th>C_ODO_VALUE</th>\n      <th>dealerCode</th>\n      <th>distributorCode</th>\n    </tr>\n    <tr>\n      <th>consultationId</th>\n      <th></th>\n      <th></th>\n      <th></th>\n      <th></th>\n      <th></th>\n      <th></th>\n      <th></th>\n      <th></th>\n      <th></th>\n      <th></th>\n      <th></th>\n      <th></th>\n      <th></th>\n      <th></th>\n      <th></th>\n      <th></th>\n      <th></th>\n      <th></th>\n    </tr>\n  </thead>\n  <tbody>\n    <tr>\n      <th>uid-162509762110151072</th>\n      <td>1A914EAC99CE2399BFB1C60E70BFB0B81475AF25694CF8...</td>\n      <td>J59C</td>\n      <td>27282 km</td>\n      <td>CONSULTATION_START</td>\n      <td>2021</td>\n      <td>7</td>\n      <td>3</td>\n      <td>26</td>\n      <td>0.0</td>\n      <td>0.0</td>\n      <td>Summer</td>\n      <td>VCM</td>\n      <td>B1B5049</td>\n      <td>8</td>\n      <td>27280</td>\n      <td>27287.0</td>\n      <td>2527A</td>\n      <td>MJO</td>\n    </tr>\n    <tr>\n      <th>uid-162509762110151072</th>\n      <td>1A914EAC99CE2399BFB1C60E70BFB0B81475AF25694CF8...</td>\n      <td>J59C</td>\n      <td>27282 km</td>\n      <td>CONSULTATION_START</td>\n      <td>2021</td>\n      <td>7</td>\n      <td>3</td>\n      <td>26</td>\n      <td>0.0</td>\n      <td>0.0</td>\n      <td>Summer</td>\n      <td>PSM</td>\n      <td>B1B4649</td>\n      <td>8</td>\n      <td>27280</td>\n      <td>27287.0</td>\n      <td>2527A</td>\n      <td>MJO</td>\n    </tr>\n    <tr>\n      <th>uid-162509762110151072</th>\n      <td>1A914EAC99CE2399BFB1C60E70BFB0B81475AF25694CF8...</td>\n      <td>J59C</td>\n      <td>27282 km</td>\n      <td>CONSULTATION_START</td>\n      <td>2021</td>\n      <td>7</td>\n      <td>3</td>\n      <td>26</td>\n      <td>0.0</td>\n      <td>0.0</td>\n      <td>Summer</td>\n      <td>PSM</td>\n      <td>B1B5049</td>\n      <td>8</td>\n      <td>27280</td>\n      <td>27287.0</td>\n      <td>2527A</td>\n      <td>MJO</td>\n    </tr>\n    <tr>\n      <th>uid-162509762110151072</th>\n      <td>1A914EAC99CE2399BFB1C60E70BFB0B81475AF25694CF8...</td>\n      <td>J59C</td>\n      <td>27282 km</td>\n      <td>CONSULTATION_START</td>\n      <td>2021</td>\n      <td>7</td>\n      <td>3</td>\n      <td>26</td>\n      <td>0.0</td>\n      <td>0.0</td>\n      <td>Summer</td>\n      <td>PSM</td>\n      <td>B1B5C49</td>\n      <td>8</td>\n      <td>27280</td>\n      <td>27287.0</td>\n      <td>2527A</td>\n      <td>MJO</td>\n    </tr>\n    <tr>\n      <th>uid-162509762110151072</th>\n      <td>1A914EAC99CE2399BFB1C60E70BFB0B81475AF25694CF8...</td>\n      <td>J59C</td>\n      <td>27282 km</td>\n      <td>CONSULTATION_START</td>\n      <td>2021</td>\n      <td>7</td>\n      <td>3</td>\n      <td>26</td>\n      <td>0.0</td>\n      <td>0.0</td>\n      <td>Summer</td>\n      <td>VCM</td>\n      <td>B1B4649</td>\n      <td>8</td>\n      <td>27280</td>\n      <td>27287.0</td>\n      <td>2527A</td>\n      <td>MJO</td>\n    </tr>\n    <tr>\n      <th>...</th>\n      <td>...</td>\n      <td>...</td>\n      <td>...</td>\n      <td>...</td>\n      <td>...</td>\n      <td>...</td>\n      <td>...</td>\n      <td>...</td>\n      <td>...</td>\n      <td>...</td>\n      <td>...</td>\n      <td>...</td>\n      <td>...</td>\n      <td>...</td>\n      <td>...</td>\n      <td>...</td>\n      <td>...</td>\n      <td>...</td>\n    </tr>\n    <tr>\n      <th>uid-162512405989626584</th>\n      <td>1A914EAC99CE2399BFB1C60E70BFB0B81475AF25694CF8...</td>\n      <td>J20E</td>\n      <td>7 km</td>\n      <td>CONSULTATION_START</td>\n      <td>2021</td>\n      <td>7</td>\n      <td>3</td>\n      <td>26</td>\n      <td>0.0</td>\n      <td>0.0</td>\n      <td>Summer</td>\n      <td>0x760</td>\n      <td>C05D397</td>\n      <td>104</td>\n      <td>-1</td>\n      <td>7.0</td>\n      <td>x22BB03CF</td>\n      <td>MazdaDlr</td>\n    </tr>\n    <tr>\n      <th>uid-162512405989626584</th>\n      <td>1A914EAC99CE2399BFB1C60E70BFB0B81475AF25694CF8...</td>\n      <td>J20E</td>\n      <td>7 km</td>\n      <td>CONSULTATION_START</td>\n      <td>2021</td>\n      <td>7</td>\n      <td>3</td>\n      <td>26</td>\n      <td>0.0</td>\n      <td>0.0</td>\n      <td>Summer</td>\n      <td>0x760</td>\n      <td>C05D397</td>\n      <td>104</td>\n      <td>-1</td>\n      <td>7.0</td>\n      <td>x22BB03CF</td>\n      <td>MazdaDlr</td>\n    </tr>\n    <tr>\n      <th>uid-162512405989626584</th>\n      <td>1A914EAC99CE2399BFB1C60E70BFB0B81475AF25694CF8...</td>\n      <td>J20E</td>\n      <td>7 km</td>\n      <td>CONSULTATION_START</td>\n      <td>2021</td>\n      <td>7</td>\n      <td>3</td>\n      <td>26</td>\n      <td>0.0</td>\n      <td>0.0</td>\n      <td>Summer</td>\n      <td>0x760</td>\n      <td>C05D397</td>\n      <td>104</td>\n      <td>-1</td>\n      <td>7.0</td>\n      <td>x22BB03CF</td>\n      <td>MazdaDlr</td>\n    </tr>\n    <tr>\n      <th>uid-162512405989626584</th>\n      <td>1A914EAC99CE2399BFB1C60E70BFB0B81475AF25694CF8...</td>\n      <td>J20E</td>\n      <td>7 km</td>\n      <td>CONSULTATION_START</td>\n      <td>2021</td>\n      <td>7</td>\n      <td>3</td>\n      <td>26</td>\n      <td>0.0</td>\n      <td>0.0</td>\n      <td>Summer</td>\n      <td>0x760</td>\n      <td>C05D397</td>\n      <td>104</td>\n      <td>-1</td>\n      <td>7.0</td>\n      <td>x22BB03CF</td>\n      <td>MazdaDlr</td>\n    </tr>\n    <tr>\n      <th>uid-162512405989626584</th>\n      <td>1A914EAC99CE2399BFB1C60E70BFB0B81475AF25694CF8...</td>\n      <td>J20E</td>\n      <td>7 km</td>\n      <td>CONSULTATION_START</td>\n      <td>2021</td>\n      <td>7</td>\n      <td>3</td>\n      <td>26</td>\n      <td>0.0</td>\n      <td>0.0</td>\n      <td>Summer</td>\n      <td>0x760</td>\n      <td>C05D397</td>\n      <td>104</td>\n      <td>-1</td>\n      <td>7.0</td>\n      <td>x22BB03CF</td>\n      <td>MazdaDlr</td>\n    </tr>\n  </tbody>\n</table>\n<p>7717 rows × 18 columns</p>\n</div>"
     },
     "execution_count": 251,
     "metadata": {},
     "output_type": "execute_result"
    }
   ],
   "source": [
    "q1 = dataframes['q1']\n",
    "q2 = dataframes['q2']\n",
    "q3 = dataframes['q3']\n",
    "q5 = dataframes['q5']\n",
    "q6 = dataframes['q6']\n",
    "\n",
    "data = q1 \\\n",
    "    .merge(q2, on='consultationId', how='inner') \\\n",
    "    .merge(q3, on='consultationId', how='inner') \\\n",
    "    .merge(q4, on='consultationId', how='inner') \\\n",
    "    .merge(q5, on='consultationId', how='inner') \\\n",
    "    .merge(q6, on='consultationId', how='inner')\n",
    "data.set_index('consultationId', inplace=True)\n",
    "\n",
    "data"
   ],
   "metadata": {
    "collapsed": false,
    "ExecuteTime": {
     "start_time": "2023-04-29T23:25:39.143642Z",
     "end_time": "2023-04-29T23:25:39.302470Z"
    }
   }
  },
  {
   "cell_type": "markdown",
   "source": [
    "## Data Cleaning: Removing Duplicate Records\n",
    "\n",
    "In this step of the data preprocessing, we aim to remove any duplicate entries in the dataset.\n",
    "\n",
    "We utilize the `drop_duplicates()` function from pandas library for this purpose. The `inplace=True` parameter ensures that the operation is performed on the dataset directly, without the need to assign the result to a new variable."
   ],
   "metadata": {
    "collapsed": false
   }
  },
  {
   "cell_type": "code",
   "execution_count": 252,
   "outputs": [
    {
     "data": {
      "text/plain": "                                                                      vin  \\\nconsultationId                                                              \nuid-162509762110151072  1A914EAC99CE2399BFB1C60E70BFB0B81475AF25694CF8...   \nuid-162509762110151072  1A914EAC99CE2399BFB1C60E70BFB0B81475AF25694CF8...   \nuid-162509762110151072  1A914EAC99CE2399BFB1C60E70BFB0B81475AF25694CF8...   \nuid-162509762110151072  1A914EAC99CE2399BFB1C60E70BFB0B81475AF25694CF8...   \nuid-162509762110151072  1A914EAC99CE2399BFB1C60E70BFB0B81475AF25694CF8...   \n...                                                                   ...   \nuid-162510422438275647  1A914EAC99CE2399BFB1C60E70BFB0B81475AF25694CF8...   \nuid-162510422438275647  1A914EAC99CE2399BFB1C60E70BFB0B81475AF25694CF8...   \nuid-162510422438275647  1A914EAC99CE2399BFB1C60E70BFB0B81475AF25694CF8...   \nuid-162510422438275647  1A914EAC99CE2399BFB1C60E70BFB0B81475AF25694CF8...   \nuid-162512405989626584  1A914EAC99CE2399BFB1C60E70BFB0B81475AF25694CF8...   \n\n                       project       ODO              activityName  year  \\\nconsultationId                                                             \nuid-162509762110151072    J59C  27282 km        CONSULTATION_START  2021   \nuid-162509762110151072    J59C  27282 km        CONSULTATION_START  2021   \nuid-162509762110151072    J59C  27282 km        CONSULTATION_START  2021   \nuid-162509762110151072    J59C  27282 km        CONSULTATION_START  2021   \nuid-162509762110151072    J59C  27282 km        CONSULTATION_START  2021   \n...                        ...       ...                       ...   ...   \nuid-162510422438275647    J59K    754 km                VEHICLE_ID  2021   \nuid-162510422438275647    J59K    754 km  OTX.vehicleSpecification  2021   \nuid-162510422438275647    J59K    754 km  HEALTHCHECK.NETWORK_VIEW  2021   \nuid-162510422438275647    J59K    754 km      HEALTHCHECK.DTC_LIST  2021   \nuid-162512405989626584    J20E      7 km        CONSULTATION_START  2021   \n\n                        month  dayOfWeek  weekOfYear  \\\nconsultationId                                         \nuid-162509762110151072      7          3          26   \nuid-162509762110151072      7          3          26   \nuid-162509762110151072      7          3          26   \nuid-162509762110151072      7          3          26   \nuid-162509762110151072      7          3          26   \n...                       ...        ...         ...   \nuid-162510422438275647      7          3          26   \nuid-162510422438275647      7          3          26   \nuid-162510422438275647      7          3          26   \nuid-162510422438275647      7          3          26   \nuid-162512405989626584      7          3          26   \n\n                        timeSinceLastActivitySec  elapsedTimeSec  season  \\\nconsultationId                                                             \nuid-162509762110151072                     0.000           0.000  Summer   \nuid-162509762110151072                     0.000           0.000  Summer   \nuid-162509762110151072                     0.000           0.000  Summer   \nuid-162509762110151072                     0.000           0.000  Summer   \nuid-162509762110151072                     0.000           0.000  Summer   \n...                                          ...             ...     ...   \nuid-162510422438275647                     0.013          10.500  Summer   \nuid-162510422438275647                     0.019          26.219  Summer   \nuid-162510422438275647                     0.007          26.407  Summer   \nuid-162510422438275647                     0.005          26.412  Summer   \nuid-162512405989626584                     0.000           0.000  Summer   \n\n                       odxShortName FullCode  StatusCode  dtcODO  C_ODO_VALUE  \\\nconsultationId                                                                  \nuid-162509762110151072          VCM  B1B5049           8   27280      27287.0   \nuid-162509762110151072          PSM  B1B4649           8   27280      27287.0   \nuid-162509762110151072          PSM  B1B5049           8   27280      27287.0   \nuid-162509762110151072          PSM  B1B5C49           8   27280      27287.0   \nuid-162509762110151072          VCM  B1B4649           8   27280      27287.0   \n...                             ...      ...         ...     ...          ...   \nuid-162510422438275647          DSC  C05D397          42      -1        754.0   \nuid-162510422438275647          DSC  C05D397          42      -1        754.0   \nuid-162510422438275647          DSC  C05D397          42      -1        754.0   \nuid-162510422438275647          DSC  C05D397          42      -1        754.0   \nuid-162512405989626584        0x760  C05D397         104      -1          7.0   \n\n                       dealerCode distributorCode  \nconsultationId                                     \nuid-162509762110151072      2527A             MJO  \nuid-162509762110151072      2527A             MJO  \nuid-162509762110151072      2527A             MJO  \nuid-162509762110151072      2527A             MJO  \nuid-162509762110151072      2527A             MJO  \n...                           ...             ...  \nuid-162510422438275647       2528             MJO  \nuid-162510422438275647       2528             MJO  \nuid-162510422438275647       2528             MJO  \nuid-162510422438275647       2528             MJO  \nuid-162512405989626584  x22BB03CF        MazdaDlr  \n\n[3862 rows x 18 columns]",
      "text/html": "<div>\n<style scoped>\n    .dataframe tbody tr th:only-of-type {\n        vertical-align: middle;\n    }\n\n    .dataframe tbody tr th {\n        vertical-align: top;\n    }\n\n    .dataframe thead th {\n        text-align: right;\n    }\n</style>\n<table border=\"1\" class=\"dataframe\">\n  <thead>\n    <tr style=\"text-align: right;\">\n      <th></th>\n      <th>vin</th>\n      <th>project</th>\n      <th>ODO</th>\n      <th>activityName</th>\n      <th>year</th>\n      <th>month</th>\n      <th>dayOfWeek</th>\n      <th>weekOfYear</th>\n      <th>timeSinceLastActivitySec</th>\n      <th>elapsedTimeSec</th>\n      <th>season</th>\n      <th>odxShortName</th>\n      <th>FullCode</th>\n      <th>StatusCode</th>\n      <th>dtcODO</th>\n      <th>C_ODO_VALUE</th>\n      <th>dealerCode</th>\n      <th>distributorCode</th>\n    </tr>\n    <tr>\n      <th>consultationId</th>\n      <th></th>\n      <th></th>\n      <th></th>\n      <th></th>\n      <th></th>\n      <th></th>\n      <th></th>\n      <th></th>\n      <th></th>\n      <th></th>\n      <th></th>\n      <th></th>\n      <th></th>\n      <th></th>\n      <th></th>\n      <th></th>\n      <th></th>\n      <th></th>\n    </tr>\n  </thead>\n  <tbody>\n    <tr>\n      <th>uid-162509762110151072</th>\n      <td>1A914EAC99CE2399BFB1C60E70BFB0B81475AF25694CF8...</td>\n      <td>J59C</td>\n      <td>27282 km</td>\n      <td>CONSULTATION_START</td>\n      <td>2021</td>\n      <td>7</td>\n      <td>3</td>\n      <td>26</td>\n      <td>0.000</td>\n      <td>0.000</td>\n      <td>Summer</td>\n      <td>VCM</td>\n      <td>B1B5049</td>\n      <td>8</td>\n      <td>27280</td>\n      <td>27287.0</td>\n      <td>2527A</td>\n      <td>MJO</td>\n    </tr>\n    <tr>\n      <th>uid-162509762110151072</th>\n      <td>1A914EAC99CE2399BFB1C60E70BFB0B81475AF25694CF8...</td>\n      <td>J59C</td>\n      <td>27282 km</td>\n      <td>CONSULTATION_START</td>\n      <td>2021</td>\n      <td>7</td>\n      <td>3</td>\n      <td>26</td>\n      <td>0.000</td>\n      <td>0.000</td>\n      <td>Summer</td>\n      <td>PSM</td>\n      <td>B1B4649</td>\n      <td>8</td>\n      <td>27280</td>\n      <td>27287.0</td>\n      <td>2527A</td>\n      <td>MJO</td>\n    </tr>\n    <tr>\n      <th>uid-162509762110151072</th>\n      <td>1A914EAC99CE2399BFB1C60E70BFB0B81475AF25694CF8...</td>\n      <td>J59C</td>\n      <td>27282 km</td>\n      <td>CONSULTATION_START</td>\n      <td>2021</td>\n      <td>7</td>\n      <td>3</td>\n      <td>26</td>\n      <td>0.000</td>\n      <td>0.000</td>\n      <td>Summer</td>\n      <td>PSM</td>\n      <td>B1B5049</td>\n      <td>8</td>\n      <td>27280</td>\n      <td>27287.0</td>\n      <td>2527A</td>\n      <td>MJO</td>\n    </tr>\n    <tr>\n      <th>uid-162509762110151072</th>\n      <td>1A914EAC99CE2399BFB1C60E70BFB0B81475AF25694CF8...</td>\n      <td>J59C</td>\n      <td>27282 km</td>\n      <td>CONSULTATION_START</td>\n      <td>2021</td>\n      <td>7</td>\n      <td>3</td>\n      <td>26</td>\n      <td>0.000</td>\n      <td>0.000</td>\n      <td>Summer</td>\n      <td>PSM</td>\n      <td>B1B5C49</td>\n      <td>8</td>\n      <td>27280</td>\n      <td>27287.0</td>\n      <td>2527A</td>\n      <td>MJO</td>\n    </tr>\n    <tr>\n      <th>uid-162509762110151072</th>\n      <td>1A914EAC99CE2399BFB1C60E70BFB0B81475AF25694CF8...</td>\n      <td>J59C</td>\n      <td>27282 km</td>\n      <td>CONSULTATION_START</td>\n      <td>2021</td>\n      <td>7</td>\n      <td>3</td>\n      <td>26</td>\n      <td>0.000</td>\n      <td>0.000</td>\n      <td>Summer</td>\n      <td>VCM</td>\n      <td>B1B4649</td>\n      <td>8</td>\n      <td>27280</td>\n      <td>27287.0</td>\n      <td>2527A</td>\n      <td>MJO</td>\n    </tr>\n    <tr>\n      <th>...</th>\n      <td>...</td>\n      <td>...</td>\n      <td>...</td>\n      <td>...</td>\n      <td>...</td>\n      <td>...</td>\n      <td>...</td>\n      <td>...</td>\n      <td>...</td>\n      <td>...</td>\n      <td>...</td>\n      <td>...</td>\n      <td>...</td>\n      <td>...</td>\n      <td>...</td>\n      <td>...</td>\n      <td>...</td>\n      <td>...</td>\n    </tr>\n    <tr>\n      <th>uid-162510422438275647</th>\n      <td>1A914EAC99CE2399BFB1C60E70BFB0B81475AF25694CF8...</td>\n      <td>J59K</td>\n      <td>754 km</td>\n      <td>VEHICLE_ID</td>\n      <td>2021</td>\n      <td>7</td>\n      <td>3</td>\n      <td>26</td>\n      <td>0.013</td>\n      <td>10.500</td>\n      <td>Summer</td>\n      <td>DSC</td>\n      <td>C05D397</td>\n      <td>42</td>\n      <td>-1</td>\n      <td>754.0</td>\n      <td>2528</td>\n      <td>MJO</td>\n    </tr>\n    <tr>\n      <th>uid-162510422438275647</th>\n      <td>1A914EAC99CE2399BFB1C60E70BFB0B81475AF25694CF8...</td>\n      <td>J59K</td>\n      <td>754 km</td>\n      <td>OTX.vehicleSpecification</td>\n      <td>2021</td>\n      <td>7</td>\n      <td>3</td>\n      <td>26</td>\n      <td>0.019</td>\n      <td>26.219</td>\n      <td>Summer</td>\n      <td>DSC</td>\n      <td>C05D397</td>\n      <td>42</td>\n      <td>-1</td>\n      <td>754.0</td>\n      <td>2528</td>\n      <td>MJO</td>\n    </tr>\n    <tr>\n      <th>uid-162510422438275647</th>\n      <td>1A914EAC99CE2399BFB1C60E70BFB0B81475AF25694CF8...</td>\n      <td>J59K</td>\n      <td>754 km</td>\n      <td>HEALTHCHECK.NETWORK_VIEW</td>\n      <td>2021</td>\n      <td>7</td>\n      <td>3</td>\n      <td>26</td>\n      <td>0.007</td>\n      <td>26.407</td>\n      <td>Summer</td>\n      <td>DSC</td>\n      <td>C05D397</td>\n      <td>42</td>\n      <td>-1</td>\n      <td>754.0</td>\n      <td>2528</td>\n      <td>MJO</td>\n    </tr>\n    <tr>\n      <th>uid-162510422438275647</th>\n      <td>1A914EAC99CE2399BFB1C60E70BFB0B81475AF25694CF8...</td>\n      <td>J59K</td>\n      <td>754 km</td>\n      <td>HEALTHCHECK.DTC_LIST</td>\n      <td>2021</td>\n      <td>7</td>\n      <td>3</td>\n      <td>26</td>\n      <td>0.005</td>\n      <td>26.412</td>\n      <td>Summer</td>\n      <td>DSC</td>\n      <td>C05D397</td>\n      <td>42</td>\n      <td>-1</td>\n      <td>754.0</td>\n      <td>2528</td>\n      <td>MJO</td>\n    </tr>\n    <tr>\n      <th>uid-162512405989626584</th>\n      <td>1A914EAC99CE2399BFB1C60E70BFB0B81475AF25694CF8...</td>\n      <td>J20E</td>\n      <td>7 km</td>\n      <td>CONSULTATION_START</td>\n      <td>2021</td>\n      <td>7</td>\n      <td>3</td>\n      <td>26</td>\n      <td>0.000</td>\n      <td>0.000</td>\n      <td>Summer</td>\n      <td>0x760</td>\n      <td>C05D397</td>\n      <td>104</td>\n      <td>-1</td>\n      <td>7.0</td>\n      <td>x22BB03CF</td>\n      <td>MazdaDlr</td>\n    </tr>\n  </tbody>\n</table>\n<p>3862 rows × 18 columns</p>\n</div>"
     },
     "execution_count": 252,
     "metadata": {},
     "output_type": "execute_result"
    }
   ],
   "source": [
    "data.drop_duplicates(inplace=True)\n",
    "data"
   ],
   "metadata": {
    "collapsed": false,
    "ExecuteTime": {
     "start_time": "2023-04-29T23:25:39.217643Z",
     "end_time": "2023-04-29T23:25:39.413856Z"
    }
   }
  },
  {
   "cell_type": "markdown",
   "source": [
    "## Data Cleaning: Handle Missing Values\n",
    "\n",
    "In our dataset, we've identified that the 'ODO' column has missing values.\n",
    "\n",
    "Rather than using common statistical methods like replacing missing values with the mean or median, we opt for a more context-aware approach. We replace the missing 'ODO' values with the 'C_ODO_VALUE' which is the current odometer value collected during the same consultation. This provides a reliable substitute that's closely tied to the actual vehicle data.\n",
    "\n",
    "Additionally, we transform the 'ODO' field to be numerical by removing the 'km' unit formatting."
   ],
   "metadata": {
    "collapsed": false
   }
  },
  {
   "cell_type": "markdown",
   "source": [
    "#### FUTURE CONSIDERATION\n",
    "Another option for imputing a value to replace missing values is to leverage k-nearest neighbor (KNN),\n",
    "were we would be inferring based on some other fields (NOTE: can only be considered once CLAIMS data\n",
    "is available)\n",
    "\n",
    "A more robust approach could involve using a model-based imputation, such as regression imputation or a machine learning model like K-Nearest Neighbors (KNN) or a decision tree, to predict the missing 'ODO' values based on other variables. This could be particularly useful if the 'ODO' values are missing based on some underlying pattern that is related to other variables in your data."
   ],
   "metadata": {
    "collapsed": false
   }
  },
  {
   "cell_type": "code",
   "execution_count": 253,
   "outputs": [
    {
     "data": {
      "text/plain": "vin                         False\nproject                     False\nODO                         False\nactivityName                False\nyear                        False\nmonth                       False\ndayOfWeek                   False\nweekOfYear                  False\ntimeSinceLastActivitySec    False\nelapsedTimeSec              False\nseason                      False\nodxShortName                False\nFullCode                    False\nStatusCode                  False\ndtcODO                      False\nC_ODO_VALUE                 False\ndealerCode                  False\ndistributorCode             False\ndtype: bool"
     },
     "execution_count": 253,
     "metadata": {},
     "output_type": "execute_result"
    }
   ],
   "source": [
    "# Identify which data fields contain missing values\n",
    "data.isna().any()"
   ],
   "metadata": {
    "collapsed": false,
    "ExecuteTime": {
     "start_time": "2023-04-29T23:25:39.284916Z",
     "end_time": "2023-04-29T23:25:39.414408Z"
    }
   }
  },
  {
   "cell_type": "code",
   "execution_count": 254,
   "outputs": [],
   "source": [
    "# Replace 'km' formatting in the 'ODO' field and fill missing values\n",
    "data['ODO'] = data['ODO'].str.replace(' km','')\n",
    "data['ODO'].fillna(value=data.C_ODO_VALUE, inplace=True)"
   ],
   "metadata": {
    "collapsed": false,
    "ExecuteTime": {
     "start_time": "2023-04-29T23:25:39.310055Z",
     "end_time": "2023-04-29T23:25:39.430301Z"
    }
   }
  },
  {
   "cell_type": "markdown",
   "source": [
    "## Data Cleaning/Encoding: Setting Appropriate Data Types\n",
    "\n",
    "As part of this step we ensure that the data is represented in the correct format, using appropriate data type for efficient data manipulation and accurate model training.\n",
    "\n",
    "In this code block, we are setting the data types for each column as follows:\n",
    "\n",
    "* The 'ODO', 'dtcODO', 'timeSinceLastActivitySec', and 'elapsedTimeSec' columns are set to float64 as they contain numerical continuous data with a floating point.\n",
    "* The 'year', 'month', 'dayOfWeek', and 'weekOfYear' columns are set to CategoricalDtype(ordered=True) since they contain categorical temporal data that has a natural order\n",
    "* The 'project', 'activityName', 'odxShortName', 'FullCode', 'StatusCode', 'dealerCode', and 'distributorCode' columns are set to CategoricalDtype(ordered=False) since they contain categorical data without a natural order"
   ],
   "metadata": {
    "collapsed": false
   }
  },
  {
   "cell_type": "code",
   "execution_count": 255,
   "outputs": [
    {
     "data": {
      "text/plain": "vin                           object\nproject                     category\nODO                          float64\nactivityName                category\nyear                           int64\nmonth                       category\ndayOfWeek                   category\nweekOfYear                  category\ntimeSinceLastActivitySec     float64\nelapsedTimeSec               float64\nseason                        object\nodxShortName                category\nFullCode                    category\nStatusCode                  category\ndtcODO                       float64\nC_ODO_VALUE                  float64\ndealerCode                  category\ndistributorCode             category\ndtype: object"
     },
     "execution_count": 255,
     "metadata": {},
     "output_type": "execute_result"
    }
   ],
   "source": [
    "data['ODO'] = data['ODO'].astype('float64')\n",
    "data['dtcODO'] = data['dtcODO'].astype('float64')\n",
    "data['timeSinceLastActivitySec'] = data['timeSinceLastActivitySec'].astype('float64')\n",
    "data['elapsedTimeSec'] = data['elapsedTimeSec'].astype('float64')\n",
    "\n",
    "data['year'] = data['year'].astype(CategoricalDtype(ordered=True))\n",
    "data['month'] = data['month'].astype(CategoricalDtype(ordered=True))\n",
    "data['dayOfWeek'] = data['dayOfWeek'].astype(CategoricalDtype(ordered=True))\n",
    "data['weekOfYear'] = data['weekOfYear'].astype(CategoricalDtype(ordered=True))\n",
    "\n",
    "data['project'] = data['project'].astype(CategoricalDtype(ordered=False))\n",
    "data['activityName'] = data['activityName'].astype(CategoricalDtype(ordered=False))\n",
    "data['odxShortName'] = data['odxShortName'].astype(CategoricalDtype(ordered=False))\n",
    "data['FullCode'] = data['FullCode'].astype(CategoricalDtype(ordered=False))\n",
    "data['StatusCode'] = data['StatusCode'].astype(CategoricalDtype(ordered=False))\n",
    "data['dealerCode'] = data['dealerCode'].astype(CategoricalDtype(ordered=False))\n",
    "data['distributorCode'] = data['distributorCode'].astype(CategoricalDtype(ordered=False))\n",
    "\n",
    "data.dtypes"
   ],
   "metadata": {
    "collapsed": false,
    "ExecuteTime": {
     "start_time": "2023-04-29T23:25:39.336489Z",
     "end_time": "2023-04-29T23:25:39.581373Z"
    }
   }
  },
  {
   "cell_type": "markdown",
   "source": [
    "## Data Encoding: Encode Categorical Features\n",
    "\n",
    "We conduct Binary Encoding for categorical variables. The model will require numerical input, and encoding will convert our categorical variables into a numerical format that our model can process.\n",
    "\n",
    "In this step, we are using binary encoding to convert categorical variables into a form that can be provided to our model to improve its performance. The categorical variables being encoded include 'project', 'activityName', 'odxShortName', 'FullCode', 'StatusCode', 'dealerCode', and 'distributorCode'.\n",
    "\n",
    "Binary encoding is a combination of Hash encoding and one-hot encoding. In binary encoding, first the categories are encoded as ordinal, then those integers are converted into binary code, then the digits from that binary string are split into separate columns. This makes binary encoding more space efficient than one-hot encoding, especially for high cardinality variables.\n",
    "\n",
    "We are using the category_encoders' BinaryEncoder for this task. The 'return_df' parameter is set to True which means the method will return a pandas DataFrame.\n"
   ],
   "metadata": {
    "collapsed": false
   }
  },
  {
   "cell_type": "code",
   "execution_count": 256,
   "outputs": [
    {
     "data": {
      "text/plain": "                                                                      vin  \\\nconsultationId                                                              \nuid-162509762110151072  1A914EAC99CE2399BFB1C60E70BFB0B81475AF25694CF8...   \nuid-162509762110151072  1A914EAC99CE2399BFB1C60E70BFB0B81475AF25694CF8...   \nuid-162509762110151072  1A914EAC99CE2399BFB1C60E70BFB0B81475AF25694CF8...   \nuid-162509762110151072  1A914EAC99CE2399BFB1C60E70BFB0B81475AF25694CF8...   \nuid-162509762110151072  1A914EAC99CE2399BFB1C60E70BFB0B81475AF25694CF8...   \n...                                                                   ...   \nuid-162510422438275647  1A914EAC99CE2399BFB1C60E70BFB0B81475AF25694CF8...   \nuid-162510422438275647  1A914EAC99CE2399BFB1C60E70BFB0B81475AF25694CF8...   \nuid-162510422438275647  1A914EAC99CE2399BFB1C60E70BFB0B81475AF25694CF8...   \nuid-162510422438275647  1A914EAC99CE2399BFB1C60E70BFB0B81475AF25694CF8...   \nuid-162512405989626584  1A914EAC99CE2399BFB1C60E70BFB0B81475AF25694CF8...   \n\n                        project_0  project_1  project_2      ODO  \\\nconsultationId                                                     \nuid-162509762110151072          0          0          1  27282.0   \nuid-162509762110151072          0          0          1  27282.0   \nuid-162509762110151072          0          0          1  27282.0   \nuid-162509762110151072          0          0          1  27282.0   \nuid-162509762110151072          0          0          1  27282.0   \n...                           ...        ...        ...      ...   \nuid-162510422438275647          0          1          1    754.0   \nuid-162510422438275647          0          1          1    754.0   \nuid-162510422438275647          0          1          1    754.0   \nuid-162510422438275647          0          1          1    754.0   \nuid-162512405989626584          1          0          1      7.0   \n\n                        activityName_0  activityName_1  activityName_2  \\\nconsultationId                                                           \nuid-162509762110151072               0               0               0   \nuid-162509762110151072               0               0               0   \nuid-162509762110151072               0               0               0   \nuid-162509762110151072               0               0               0   \nuid-162509762110151072               0               0               0   \n...                                ...             ...             ...   \nuid-162510422438275647               0               0               0   \nuid-162510422438275647               0               0               1   \nuid-162510422438275647               0               0               1   \nuid-162510422438275647               0               0               1   \nuid-162512405989626584               0               0               0   \n\n                        activityName_3  activityName_4  ...  StatusCode_2  \\\nconsultationId                                          ...                 \nuid-162509762110151072               0               0  ...             0   \nuid-162509762110151072               0               0  ...             0   \nuid-162509762110151072               0               0  ...             0   \nuid-162509762110151072               0               0  ...             0   \nuid-162509762110151072               0               0  ...             0   \n...                                ...             ...  ...           ...   \nuid-162510422438275647               1               1  ...             0   \nuid-162510422438275647               0               0  ...             0   \nuid-162510422438275647               0               0  ...             0   \nuid-162510422438275647               0               1  ...             0   \nuid-162512405989626584               0               0  ...             1   \n\n                        StatusCode_3   dtcODO C_ODO_VALUE dealerCode_0  \\\nconsultationId                                                           \nuid-162509762110151072             1  27280.0     27287.0            0   \nuid-162509762110151072             1  27280.0     27287.0            0   \nuid-162509762110151072             1  27280.0     27287.0            0   \nuid-162509762110151072             1  27280.0     27287.0            0   \nuid-162509762110151072             1  27280.0     27287.0            0   \n...                              ...      ...         ...          ...   \nuid-162510422438275647             1     -1.0       754.0            1   \nuid-162510422438275647             1     -1.0       754.0            1   \nuid-162510422438275647             1     -1.0       754.0            1   \nuid-162510422438275647             1     -1.0       754.0            1   \nuid-162512405989626584             0     -1.0         7.0            1   \n\n                        dealerCode_1  dealerCode_2  dealerCode_3  \\\nconsultationId                                                     \nuid-162509762110151072             0             0             1   \nuid-162509762110151072             0             0             1   \nuid-162509762110151072             0             0             1   \nuid-162509762110151072             0             0             1   \nuid-162509762110151072             0             0             1   \n...                              ...           ...           ...   \nuid-162510422438275647             0             0             0   \nuid-162510422438275647             0             0             0   \nuid-162510422438275647             0             0             0   \nuid-162510422438275647             0             0             0   \nuid-162512405989626584             0             0             1   \n\n                        distributorCode_0  distributorCode_1  \nconsultationId                                                \nuid-162509762110151072                  0                  1  \nuid-162509762110151072                  0                  1  \nuid-162509762110151072                  0                  1  \nuid-162509762110151072                  0                  1  \nuid-162509762110151072                  0                  1  \n...                                   ...                ...  \nuid-162510422438275647                  0                  1  \nuid-162510422438275647                  0                  1  \nuid-162510422438275647                  0                  1  \nuid-162510422438275647                  0                  1  \nuid-162512405989626584                  1                  0  \n\n[3862 rows x 40 columns]",
      "text/html": "<div>\n<style scoped>\n    .dataframe tbody tr th:only-of-type {\n        vertical-align: middle;\n    }\n\n    .dataframe tbody tr th {\n        vertical-align: top;\n    }\n\n    .dataframe thead th {\n        text-align: right;\n    }\n</style>\n<table border=\"1\" class=\"dataframe\">\n  <thead>\n    <tr style=\"text-align: right;\">\n      <th></th>\n      <th>vin</th>\n      <th>project_0</th>\n      <th>project_1</th>\n      <th>project_2</th>\n      <th>ODO</th>\n      <th>activityName_0</th>\n      <th>activityName_1</th>\n      <th>activityName_2</th>\n      <th>activityName_3</th>\n      <th>activityName_4</th>\n      <th>...</th>\n      <th>StatusCode_2</th>\n      <th>StatusCode_3</th>\n      <th>dtcODO</th>\n      <th>C_ODO_VALUE</th>\n      <th>dealerCode_0</th>\n      <th>dealerCode_1</th>\n      <th>dealerCode_2</th>\n      <th>dealerCode_3</th>\n      <th>distributorCode_0</th>\n      <th>distributorCode_1</th>\n    </tr>\n    <tr>\n      <th>consultationId</th>\n      <th></th>\n      <th></th>\n      <th></th>\n      <th></th>\n      <th></th>\n      <th></th>\n      <th></th>\n      <th></th>\n      <th></th>\n      <th></th>\n      <th></th>\n      <th></th>\n      <th></th>\n      <th></th>\n      <th></th>\n      <th></th>\n      <th></th>\n      <th></th>\n      <th></th>\n      <th></th>\n      <th></th>\n    </tr>\n  </thead>\n  <tbody>\n    <tr>\n      <th>uid-162509762110151072</th>\n      <td>1A914EAC99CE2399BFB1C60E70BFB0B81475AF25694CF8...</td>\n      <td>0</td>\n      <td>0</td>\n      <td>1</td>\n      <td>27282.0</td>\n      <td>0</td>\n      <td>0</td>\n      <td>0</td>\n      <td>0</td>\n      <td>0</td>\n      <td>...</td>\n      <td>0</td>\n      <td>1</td>\n      <td>27280.0</td>\n      <td>27287.0</td>\n      <td>0</td>\n      <td>0</td>\n      <td>0</td>\n      <td>1</td>\n      <td>0</td>\n      <td>1</td>\n    </tr>\n    <tr>\n      <th>uid-162509762110151072</th>\n      <td>1A914EAC99CE2399BFB1C60E70BFB0B81475AF25694CF8...</td>\n      <td>0</td>\n      <td>0</td>\n      <td>1</td>\n      <td>27282.0</td>\n      <td>0</td>\n      <td>0</td>\n      <td>0</td>\n      <td>0</td>\n      <td>0</td>\n      <td>...</td>\n      <td>0</td>\n      <td>1</td>\n      <td>27280.0</td>\n      <td>27287.0</td>\n      <td>0</td>\n      <td>0</td>\n      <td>0</td>\n      <td>1</td>\n      <td>0</td>\n      <td>1</td>\n    </tr>\n    <tr>\n      <th>uid-162509762110151072</th>\n      <td>1A914EAC99CE2399BFB1C60E70BFB0B81475AF25694CF8...</td>\n      <td>0</td>\n      <td>0</td>\n      <td>1</td>\n      <td>27282.0</td>\n      <td>0</td>\n      <td>0</td>\n      <td>0</td>\n      <td>0</td>\n      <td>0</td>\n      <td>...</td>\n      <td>0</td>\n      <td>1</td>\n      <td>27280.0</td>\n      <td>27287.0</td>\n      <td>0</td>\n      <td>0</td>\n      <td>0</td>\n      <td>1</td>\n      <td>0</td>\n      <td>1</td>\n    </tr>\n    <tr>\n      <th>uid-162509762110151072</th>\n      <td>1A914EAC99CE2399BFB1C60E70BFB0B81475AF25694CF8...</td>\n      <td>0</td>\n      <td>0</td>\n      <td>1</td>\n      <td>27282.0</td>\n      <td>0</td>\n      <td>0</td>\n      <td>0</td>\n      <td>0</td>\n      <td>0</td>\n      <td>...</td>\n      <td>0</td>\n      <td>1</td>\n      <td>27280.0</td>\n      <td>27287.0</td>\n      <td>0</td>\n      <td>0</td>\n      <td>0</td>\n      <td>1</td>\n      <td>0</td>\n      <td>1</td>\n    </tr>\n    <tr>\n      <th>uid-162509762110151072</th>\n      <td>1A914EAC99CE2399BFB1C60E70BFB0B81475AF25694CF8...</td>\n      <td>0</td>\n      <td>0</td>\n      <td>1</td>\n      <td>27282.0</td>\n      <td>0</td>\n      <td>0</td>\n      <td>0</td>\n      <td>0</td>\n      <td>0</td>\n      <td>...</td>\n      <td>0</td>\n      <td>1</td>\n      <td>27280.0</td>\n      <td>27287.0</td>\n      <td>0</td>\n      <td>0</td>\n      <td>0</td>\n      <td>1</td>\n      <td>0</td>\n      <td>1</td>\n    </tr>\n    <tr>\n      <th>...</th>\n      <td>...</td>\n      <td>...</td>\n      <td>...</td>\n      <td>...</td>\n      <td>...</td>\n      <td>...</td>\n      <td>...</td>\n      <td>...</td>\n      <td>...</td>\n      <td>...</td>\n      <td>...</td>\n      <td>...</td>\n      <td>...</td>\n      <td>...</td>\n      <td>...</td>\n      <td>...</td>\n      <td>...</td>\n      <td>...</td>\n      <td>...</td>\n      <td>...</td>\n      <td>...</td>\n    </tr>\n    <tr>\n      <th>uid-162510422438275647</th>\n      <td>1A914EAC99CE2399BFB1C60E70BFB0B81475AF25694CF8...</td>\n      <td>0</td>\n      <td>1</td>\n      <td>1</td>\n      <td>754.0</td>\n      <td>0</td>\n      <td>0</td>\n      <td>0</td>\n      <td>1</td>\n      <td>1</td>\n      <td>...</td>\n      <td>0</td>\n      <td>1</td>\n      <td>-1.0</td>\n      <td>754.0</td>\n      <td>1</td>\n      <td>0</td>\n      <td>0</td>\n      <td>0</td>\n      <td>0</td>\n      <td>1</td>\n    </tr>\n    <tr>\n      <th>uid-162510422438275647</th>\n      <td>1A914EAC99CE2399BFB1C60E70BFB0B81475AF25694CF8...</td>\n      <td>0</td>\n      <td>1</td>\n      <td>1</td>\n      <td>754.0</td>\n      <td>0</td>\n      <td>0</td>\n      <td>1</td>\n      <td>0</td>\n      <td>0</td>\n      <td>...</td>\n      <td>0</td>\n      <td>1</td>\n      <td>-1.0</td>\n      <td>754.0</td>\n      <td>1</td>\n      <td>0</td>\n      <td>0</td>\n      <td>0</td>\n      <td>0</td>\n      <td>1</td>\n    </tr>\n    <tr>\n      <th>uid-162510422438275647</th>\n      <td>1A914EAC99CE2399BFB1C60E70BFB0B81475AF25694CF8...</td>\n      <td>0</td>\n      <td>1</td>\n      <td>1</td>\n      <td>754.0</td>\n      <td>0</td>\n      <td>0</td>\n      <td>1</td>\n      <td>0</td>\n      <td>0</td>\n      <td>...</td>\n      <td>0</td>\n      <td>1</td>\n      <td>-1.0</td>\n      <td>754.0</td>\n      <td>1</td>\n      <td>0</td>\n      <td>0</td>\n      <td>0</td>\n      <td>0</td>\n      <td>1</td>\n    </tr>\n    <tr>\n      <th>uid-162510422438275647</th>\n      <td>1A914EAC99CE2399BFB1C60E70BFB0B81475AF25694CF8...</td>\n      <td>0</td>\n      <td>1</td>\n      <td>1</td>\n      <td>754.0</td>\n      <td>0</td>\n      <td>0</td>\n      <td>1</td>\n      <td>0</td>\n      <td>1</td>\n      <td>...</td>\n      <td>0</td>\n      <td>1</td>\n      <td>-1.0</td>\n      <td>754.0</td>\n      <td>1</td>\n      <td>0</td>\n      <td>0</td>\n      <td>0</td>\n      <td>0</td>\n      <td>1</td>\n    </tr>\n    <tr>\n      <th>uid-162512405989626584</th>\n      <td>1A914EAC99CE2399BFB1C60E70BFB0B81475AF25694CF8...</td>\n      <td>1</td>\n      <td>0</td>\n      <td>1</td>\n      <td>7.0</td>\n      <td>0</td>\n      <td>0</td>\n      <td>0</td>\n      <td>0</td>\n      <td>0</td>\n      <td>...</td>\n      <td>1</td>\n      <td>0</td>\n      <td>-1.0</td>\n      <td>7.0</td>\n      <td>1</td>\n      <td>0</td>\n      <td>0</td>\n      <td>1</td>\n      <td>1</td>\n      <td>0</td>\n    </tr>\n  </tbody>\n</table>\n<p>3862 rows × 40 columns</p>\n</div>"
     },
     "execution_count": 256,
     "metadata": {},
     "output_type": "execute_result"
    }
   ],
   "source": [
    "encoder = ce.BinaryEncoder(cols = ['project', 'activityName', 'odxShortName', 'FullCode', 'StatusCode', 'dealerCode', 'distributorCode', 'dayOfWeek', 'weekOfYear', 'month', 'season'], return_df = True)\n",
    "data = encoder.fit_transform(data)\n",
    "data"
   ],
   "metadata": {
    "collapsed": false,
    "ExecuteTime": {
     "start_time": "2023-04-29T23:25:39.379005Z",
     "end_time": "2023-04-29T23:25:40.045169Z"
    }
   }
  },
  {
   "cell_type": "markdown",
   "source": [
    "## Data Normalisation: Standardise Numerical Data\n",
    "\n",
    "In this step, we are standardising the values of the 'elapsedTimeSec', 'timeSinceLastActivitySec', 'ODO', 'dtcODO', and 'C_ODO_VALUE' columns. These columns represent continuous numerical data (temporal data and odometer readings), which we expect to follow a normal-like distribution.\n",
    "\n",
    "We are using sklearn's StandardScaler for this task. This method standardizes features by removing the mean and scaling to unit variance. This transformation helps to achieve properties of a standard normal distribution where the mean (average) of each feature is 0 and the standard deviation is 1.\n",
    "\n",
    "By doing this, we are ensuring that these features have the same scale and thus contributing equally to the model's performance."
   ],
   "metadata": {
    "collapsed": false
   }
  },
  {
   "cell_type": "code",
   "execution_count": 257,
   "outputs": [
    {
     "data": {
      "text/plain": "                                                                      vin  \\\nconsultationId                                                              \nuid-162509762110151072  1A914EAC99CE2399BFB1C60E70BFB0B81475AF25694CF8...   \nuid-162509762110151072  1A914EAC99CE2399BFB1C60E70BFB0B81475AF25694CF8...   \nuid-162509762110151072  1A914EAC99CE2399BFB1C60E70BFB0B81475AF25694CF8...   \nuid-162509762110151072  1A914EAC99CE2399BFB1C60E70BFB0B81475AF25694CF8...   \nuid-162509762110151072  1A914EAC99CE2399BFB1C60E70BFB0B81475AF25694CF8...   \n...                                                                   ...   \nuid-162510422438275647  1A914EAC99CE2399BFB1C60E70BFB0B81475AF25694CF8...   \nuid-162510422438275647  1A914EAC99CE2399BFB1C60E70BFB0B81475AF25694CF8...   \nuid-162510422438275647  1A914EAC99CE2399BFB1C60E70BFB0B81475AF25694CF8...   \nuid-162510422438275647  1A914EAC99CE2399BFB1C60E70BFB0B81475AF25694CF8...   \nuid-162512405989626584  1A914EAC99CE2399BFB1C60E70BFB0B81475AF25694CF8...   \n\n                        project_0  project_1  project_2       ODO  \\\nconsultationId                                                      \nuid-162509762110151072          0          0          1  1.482517   \nuid-162509762110151072          0          0          1  1.482517   \nuid-162509762110151072          0          0          1  1.482517   \nuid-162509762110151072          0          0          1  1.482517   \nuid-162509762110151072          0          0          1  1.482517   \n...                           ...        ...        ...       ...   \nuid-162510422438275647          0          1          1 -2.750520   \nuid-162510422438275647          0          1          1 -2.750520   \nuid-162510422438275647          0          1          1 -2.750520   \nuid-162510422438275647          0          1          1 -2.750520   \nuid-162512405989626584          1          0          1 -2.869717   \n\n                        activityName_0  activityName_1  activityName_2  \\\nconsultationId                                                           \nuid-162509762110151072               0               0               0   \nuid-162509762110151072               0               0               0   \nuid-162509762110151072               0               0               0   \nuid-162509762110151072               0               0               0   \nuid-162509762110151072               0               0               0   \n...                                ...             ...             ...   \nuid-162510422438275647               0               0               0   \nuid-162510422438275647               0               0               1   \nuid-162510422438275647               0               0               1   \nuid-162510422438275647               0               0               1   \nuid-162512405989626584               0               0               0   \n\n                        activityName_3  activityName_4  ...  StatusCode_2  \\\nconsultationId                                          ...                 \nuid-162509762110151072               0               0  ...             0   \nuid-162509762110151072               0               0  ...             0   \nuid-162509762110151072               0               0  ...             0   \nuid-162509762110151072               0               0  ...             0   \nuid-162509762110151072               0               0  ...             0   \n...                                ...             ...  ...           ...   \nuid-162510422438275647               1               1  ...             0   \nuid-162510422438275647               0               0  ...             0   \nuid-162510422438275647               0               0  ...             0   \nuid-162510422438275647               0               1  ...             0   \nuid-162512405989626584               0               0  ...             1   \n\n                        StatusCode_3    dtcODO C_ODO_VALUE dealerCode_0  \\\nconsultationId                                                            \nuid-162509762110151072             1  1.483277    1.482133            0   \nuid-162509762110151072             1  1.483277    1.482133            0   \nuid-162509762110151072             1  1.483277    1.482133            0   \nuid-162509762110151072             1  1.483277    1.482133            0   \nuid-162509762110151072             1  1.483277    1.482133            0   \n...                              ...       ...         ...          ...   \nuid-162510422438275647             1 -2.865516   -2.751690            1   \nuid-162510422438275647             1 -2.865516   -2.751690            1   \nuid-162510422438275647             1 -2.865516   -2.751690            1   \nuid-162510422438275647             1 -2.865516   -2.751690            1   \nuid-162512405989626584             0 -2.865516   -2.870888            1   \n\n                        dealerCode_1  dealerCode_2  dealerCode_3  \\\nconsultationId                                                     \nuid-162509762110151072             0             0             1   \nuid-162509762110151072             0             0             1   \nuid-162509762110151072             0             0             1   \nuid-162509762110151072             0             0             1   \nuid-162509762110151072             0             0             1   \n...                              ...           ...           ...   \nuid-162510422438275647             0             0             0   \nuid-162510422438275647             0             0             0   \nuid-162510422438275647             0             0             0   \nuid-162510422438275647             0             0             0   \nuid-162512405989626584             0             0             1   \n\n                        distributorCode_0  distributorCode_1  \nconsultationId                                                \nuid-162509762110151072                  0                  1  \nuid-162509762110151072                  0                  1  \nuid-162509762110151072                  0                  1  \nuid-162509762110151072                  0                  1  \nuid-162509762110151072                  0                  1  \n...                                   ...                ...  \nuid-162510422438275647                  0                  1  \nuid-162510422438275647                  0                  1  \nuid-162510422438275647                  0                  1  \nuid-162510422438275647                  0                  1  \nuid-162512405989626584                  1                  0  \n\n[3862 rows x 40 columns]",
      "text/html": "<div>\n<style scoped>\n    .dataframe tbody tr th:only-of-type {\n        vertical-align: middle;\n    }\n\n    .dataframe tbody tr th {\n        vertical-align: top;\n    }\n\n    .dataframe thead th {\n        text-align: right;\n    }\n</style>\n<table border=\"1\" class=\"dataframe\">\n  <thead>\n    <tr style=\"text-align: right;\">\n      <th></th>\n      <th>vin</th>\n      <th>project_0</th>\n      <th>project_1</th>\n      <th>project_2</th>\n      <th>ODO</th>\n      <th>activityName_0</th>\n      <th>activityName_1</th>\n      <th>activityName_2</th>\n      <th>activityName_3</th>\n      <th>activityName_4</th>\n      <th>...</th>\n      <th>StatusCode_2</th>\n      <th>StatusCode_3</th>\n      <th>dtcODO</th>\n      <th>C_ODO_VALUE</th>\n      <th>dealerCode_0</th>\n      <th>dealerCode_1</th>\n      <th>dealerCode_2</th>\n      <th>dealerCode_3</th>\n      <th>distributorCode_0</th>\n      <th>distributorCode_1</th>\n    </tr>\n    <tr>\n      <th>consultationId</th>\n      <th></th>\n      <th></th>\n      <th></th>\n      <th></th>\n      <th></th>\n      <th></th>\n      <th></th>\n      <th></th>\n      <th></th>\n      <th></th>\n      <th></th>\n      <th></th>\n      <th></th>\n      <th></th>\n      <th></th>\n      <th></th>\n      <th></th>\n      <th></th>\n      <th></th>\n      <th></th>\n      <th></th>\n    </tr>\n  </thead>\n  <tbody>\n    <tr>\n      <th>uid-162509762110151072</th>\n      <td>1A914EAC99CE2399BFB1C60E70BFB0B81475AF25694CF8...</td>\n      <td>0</td>\n      <td>0</td>\n      <td>1</td>\n      <td>1.482517</td>\n      <td>0</td>\n      <td>0</td>\n      <td>0</td>\n      <td>0</td>\n      <td>0</td>\n      <td>...</td>\n      <td>0</td>\n      <td>1</td>\n      <td>1.483277</td>\n      <td>1.482133</td>\n      <td>0</td>\n      <td>0</td>\n      <td>0</td>\n      <td>1</td>\n      <td>0</td>\n      <td>1</td>\n    </tr>\n    <tr>\n      <th>uid-162509762110151072</th>\n      <td>1A914EAC99CE2399BFB1C60E70BFB0B81475AF25694CF8...</td>\n      <td>0</td>\n      <td>0</td>\n      <td>1</td>\n      <td>1.482517</td>\n      <td>0</td>\n      <td>0</td>\n      <td>0</td>\n      <td>0</td>\n      <td>0</td>\n      <td>...</td>\n      <td>0</td>\n      <td>1</td>\n      <td>1.483277</td>\n      <td>1.482133</td>\n      <td>0</td>\n      <td>0</td>\n      <td>0</td>\n      <td>1</td>\n      <td>0</td>\n      <td>1</td>\n    </tr>\n    <tr>\n      <th>uid-162509762110151072</th>\n      <td>1A914EAC99CE2399BFB1C60E70BFB0B81475AF25694CF8...</td>\n      <td>0</td>\n      <td>0</td>\n      <td>1</td>\n      <td>1.482517</td>\n      <td>0</td>\n      <td>0</td>\n      <td>0</td>\n      <td>0</td>\n      <td>0</td>\n      <td>...</td>\n      <td>0</td>\n      <td>1</td>\n      <td>1.483277</td>\n      <td>1.482133</td>\n      <td>0</td>\n      <td>0</td>\n      <td>0</td>\n      <td>1</td>\n      <td>0</td>\n      <td>1</td>\n    </tr>\n    <tr>\n      <th>uid-162509762110151072</th>\n      <td>1A914EAC99CE2399BFB1C60E70BFB0B81475AF25694CF8...</td>\n      <td>0</td>\n      <td>0</td>\n      <td>1</td>\n      <td>1.482517</td>\n      <td>0</td>\n      <td>0</td>\n      <td>0</td>\n      <td>0</td>\n      <td>0</td>\n      <td>...</td>\n      <td>0</td>\n      <td>1</td>\n      <td>1.483277</td>\n      <td>1.482133</td>\n      <td>0</td>\n      <td>0</td>\n      <td>0</td>\n      <td>1</td>\n      <td>0</td>\n      <td>1</td>\n    </tr>\n    <tr>\n      <th>uid-162509762110151072</th>\n      <td>1A914EAC99CE2399BFB1C60E70BFB0B81475AF25694CF8...</td>\n      <td>0</td>\n      <td>0</td>\n      <td>1</td>\n      <td>1.482517</td>\n      <td>0</td>\n      <td>0</td>\n      <td>0</td>\n      <td>0</td>\n      <td>0</td>\n      <td>...</td>\n      <td>0</td>\n      <td>1</td>\n      <td>1.483277</td>\n      <td>1.482133</td>\n      <td>0</td>\n      <td>0</td>\n      <td>0</td>\n      <td>1</td>\n      <td>0</td>\n      <td>1</td>\n    </tr>\n    <tr>\n      <th>...</th>\n      <td>...</td>\n      <td>...</td>\n      <td>...</td>\n      <td>...</td>\n      <td>...</td>\n      <td>...</td>\n      <td>...</td>\n      <td>...</td>\n      <td>...</td>\n      <td>...</td>\n      <td>...</td>\n      <td>...</td>\n      <td>...</td>\n      <td>...</td>\n      <td>...</td>\n      <td>...</td>\n      <td>...</td>\n      <td>...</td>\n      <td>...</td>\n      <td>...</td>\n      <td>...</td>\n    </tr>\n    <tr>\n      <th>uid-162510422438275647</th>\n      <td>1A914EAC99CE2399BFB1C60E70BFB0B81475AF25694CF8...</td>\n      <td>0</td>\n      <td>1</td>\n      <td>1</td>\n      <td>-2.750520</td>\n      <td>0</td>\n      <td>0</td>\n      <td>0</td>\n      <td>1</td>\n      <td>1</td>\n      <td>...</td>\n      <td>0</td>\n      <td>1</td>\n      <td>-2.865516</td>\n      <td>-2.751690</td>\n      <td>1</td>\n      <td>0</td>\n      <td>0</td>\n      <td>0</td>\n      <td>0</td>\n      <td>1</td>\n    </tr>\n    <tr>\n      <th>uid-162510422438275647</th>\n      <td>1A914EAC99CE2399BFB1C60E70BFB0B81475AF25694CF8...</td>\n      <td>0</td>\n      <td>1</td>\n      <td>1</td>\n      <td>-2.750520</td>\n      <td>0</td>\n      <td>0</td>\n      <td>1</td>\n      <td>0</td>\n      <td>0</td>\n      <td>...</td>\n      <td>0</td>\n      <td>1</td>\n      <td>-2.865516</td>\n      <td>-2.751690</td>\n      <td>1</td>\n      <td>0</td>\n      <td>0</td>\n      <td>0</td>\n      <td>0</td>\n      <td>1</td>\n    </tr>\n    <tr>\n      <th>uid-162510422438275647</th>\n      <td>1A914EAC99CE2399BFB1C60E70BFB0B81475AF25694CF8...</td>\n      <td>0</td>\n      <td>1</td>\n      <td>1</td>\n      <td>-2.750520</td>\n      <td>0</td>\n      <td>0</td>\n      <td>1</td>\n      <td>0</td>\n      <td>0</td>\n      <td>...</td>\n      <td>0</td>\n      <td>1</td>\n      <td>-2.865516</td>\n      <td>-2.751690</td>\n      <td>1</td>\n      <td>0</td>\n      <td>0</td>\n      <td>0</td>\n      <td>0</td>\n      <td>1</td>\n    </tr>\n    <tr>\n      <th>uid-162510422438275647</th>\n      <td>1A914EAC99CE2399BFB1C60E70BFB0B81475AF25694CF8...</td>\n      <td>0</td>\n      <td>1</td>\n      <td>1</td>\n      <td>-2.750520</td>\n      <td>0</td>\n      <td>0</td>\n      <td>1</td>\n      <td>0</td>\n      <td>1</td>\n      <td>...</td>\n      <td>0</td>\n      <td>1</td>\n      <td>-2.865516</td>\n      <td>-2.751690</td>\n      <td>1</td>\n      <td>0</td>\n      <td>0</td>\n      <td>0</td>\n      <td>0</td>\n      <td>1</td>\n    </tr>\n    <tr>\n      <th>uid-162512405989626584</th>\n      <td>1A914EAC99CE2399BFB1C60E70BFB0B81475AF25694CF8...</td>\n      <td>1</td>\n      <td>0</td>\n      <td>1</td>\n      <td>-2.869717</td>\n      <td>0</td>\n      <td>0</td>\n      <td>0</td>\n      <td>0</td>\n      <td>0</td>\n      <td>...</td>\n      <td>1</td>\n      <td>0</td>\n      <td>-2.865516</td>\n      <td>-2.870888</td>\n      <td>1</td>\n      <td>0</td>\n      <td>0</td>\n      <td>1</td>\n      <td>1</td>\n      <td>0</td>\n    </tr>\n  </tbody>\n</table>\n<p>3862 rows × 40 columns</p>\n</div>"
     },
     "execution_count": 257,
     "metadata": {},
     "output_type": "execute_result"
    }
   ],
   "source": [
    "data_scaler = StandardScaler()\n",
    "data[['elapsedTimeSec', 'timeSinceLastActivitySec', 'ODO', 'dtcODO', 'C_ODO_VALUE']] = data_scaler.fit_transform(data[['elapsedTimeSec', 'timeSinceLastActivitySec', 'ODO', 'dtcODO', 'C_ODO_VALUE']])\n",
    "data"
   ],
   "metadata": {
    "collapsed": false,
    "ExecuteTime": {
     "start_time": "2023-04-29T23:25:39.661248Z",
     "end_time": "2023-04-29T23:25:40.049055Z"
    }
   }
  }
 ],
 "metadata": {
  "kernelspec": {
   "display_name": "Python 3 (ipykernel)",
   "language": "python",
   "name": "python3"
  },
  "language_info": {
   "codemirror_mode": {
    "name": "ipython",
    "version": 3
   },
   "file_extension": ".py",
   "mimetype": "text/x-python",
   "name": "python",
   "nbconvert_exporter": "python",
   "pygments_lexer": "ipython3",
   "version": "3.10.9"
  }
 },
 "nbformat": 4,
 "nbformat_minor": 5
}
