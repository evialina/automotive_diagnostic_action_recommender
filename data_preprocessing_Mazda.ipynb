{
 "cells": [
  {
   "cell_type": "code",
   "execution_count": 3,
   "id": "380bb861-1dc8-4f70-827a-c2c34faff4a6",
   "metadata": {
    "ExecuteTime": {
     "start_time": "2023-07-18T17:07:21.660597Z",
     "end_time": "2023-07-18T17:07:21.779815Z"
    }
   },
   "outputs": [],
   "source": [
    "# run `pip install category_encoders`\n",
    "\n",
    "import pandas as pd\n",
    "import category_encoders as ce\n",
    "from pandas.api.types import CategoricalDtype\n",
    "from sklearn.preprocessing import StandardScaler"
   ]
  },
  {
   "cell_type": "markdown",
   "source": [
    "## Data Import and Initial Preprocessing\n",
    "\n",
    "In this step, we import the necessary CSV files, each representing a unique dataset. The list of files includes 'q1', 'q2', 'q3', 'q4', 'q5', and 'q6'. We load each file into a separate pandas DataFrame.\n",
    "\n",
    "One aspect of our preprocessing at this stage is handling the 'timestamp' column. In our datasets, 'timestamp' is only relevant in the 'q4' file where it denotes the time each diagnostic activity was executed. Therefore, we conditionally remove the 'timestamp' column from all DataFrames except for 'q4'.\n",
    "\n",
    "Each resulting DataFrame is stored in a dictionary, `dataframes`, using its filename as the key for efficient access and manipulation in the subsequent stages."
   ],
   "metadata": {
    "collapsed": false
   }
  },
  {
   "cell_type": "code",
   "execution_count": 4,
   "id": "0124adc2-0616-4b88-a4f7-0d94fa5db5e3",
   "metadata": {
    "ExecuteTime": {
     "start_time": "2023-07-18T17:07:21.674592Z",
     "end_time": "2023-07-18T17:07:45.189424Z"
    }
   },
   "outputs": [],
   "source": [
    "file_names = ['q1', 'q2', 'q3', 'q4', 'q5', 'q6']\n",
    "dataframes = {}\n",
    "\n",
    "for file in file_names:\n",
    "    file_path = f'data/{file}.csv'\n",
    "    df = pd.read_csv(file_path)\n",
    "\n",
    "    # If the file is not 'q4', drop the 'timestamp' column\n",
    "    if file != 'q4':\n",
    "        df = df.drop('timestamp', axis=1)\n",
    "\n",
    "    df = df.truncate(after=100000) # To be removed\n",
    "    dataframes[file] = df"
   ]
  },
  {
   "cell_type": "markdown",
   "source": [
    "## Feature Engineering: Extract Temporal Diagnostic Activity Features\n",
    "\n",
    "In this section, we perform feature engineering on the 'timestamp' field to extract valuable temporal information about each diagnostic activity. The temporal features we derive are:\n",
    "\n",
    "1. **Year**: The year the diagnostic activity was performed. This can help detect yearly trends in the data.\n",
    "2. **Month**: The month the diagnostic activity was performed. This can help identify any monthly patterns.\n",
    "3. **Day of Week**: The day of the week the diagnostic activity was performed. This can reveal weekly trends, such as certain activities being more common on certain days of the week.\n",
    "4. **Week of Year**: The ISO week number of the year the diagnostic activity was performed. This can provide a more granular view of yearly trends.\n",
    "5. **Time Since Last Activity**: The time in seconds since the last diagnostic activity for each consultation. This can help gauge the frequency of activities.\n",
    "6. **Elapsed Time**: The time in seconds since the first diagnostic activity in each consultation. This can provide insight into the duration of consultations.\n",
    "7. **Season of the Year**: The season (Winter, Spring, Summer, Autumn) when the diagnostic activity was performed. This can help identify seasonal trends, such as certain activities being more common in certain seasons.\n",
    "\n",
    "The resulting dataframe now contains several new features that provide additional temporal context about each diagnostic activity."
   ],
   "metadata": {
    "collapsed": false
   }
  },
  {
   "cell_type": "code",
   "execution_count": 5,
   "outputs": [],
   "source": [
    "q4 = dataframes['q4']\n",
    "q4['timestamp'] = pd.to_datetime(q4['timestamp'])\n",
    "q4.sort_values(['consultationId', 'timestamp'], inplace=True)\n",
    "\n",
    "q4['year'] = q4['timestamp'].dt.year\n",
    "q4['month'] = q4['timestamp'].dt.month\n",
    "q4['dayOfWeek'] = q4['timestamp'].dt.dayofweek\n",
    "q4['weekOfYear'] = q4['timestamp'].dt.isocalendar().week\n",
    "q4['timeSinceLastActivitySec'] = q4.groupby('consultationId')['timestamp'].diff().dt.total_seconds().fillna(0)\n",
    "q4['elapsedTimeSec'] = q4.groupby('consultationId')['timestamp'].transform(lambda x: (x - x.min())).dt.total_seconds()"
   ],
   "metadata": {
    "collapsed": false,
    "ExecuteTime": {
     "start_time": "2023-07-18T17:07:45.192157Z",
     "end_time": "2023-07-18T17:07:47.532576Z"
    }
   }
  },
  {
   "cell_type": "code",
   "execution_count": 6,
   "outputs": [
    {
     "data": {
      "text/plain": "                consultationId            activityName  \\\n1526    uid-162502747749226177       VCI.SELECT_MODULE   \n1539    uid-162502747749226177     OTX.GET_PERSISTENCE   \n1540    uid-162502747749226177                     ODO   \n1541    uid-162502747749226177            OTX.readDtcs   \n1600    uid-162502747749226177  REST.VEHICLE.FLASHWARE   \n...                        ...                     ...   \n99996   uid-163107999250525772     OTX.GET_PERSISTENCE   \n99997   uid-163107999250525772                 OTX.vin   \n99998   uid-163107999250525772              VEHICLE_ID   \n99999   uid-163107999250525772     OTX.GET_PERSISTENCE   \n100000  uid-163107999250525772                     ODO   \n\n                              timestamp  year  month  dayOfWeek  weekOfYear  \\\n1526   2021-07-01 02:22:53.656000+00:00  2021      7          3          26   \n1539   2021-07-01 02:23:18.323000+00:00  2021      7          3          26   \n1540   2021-07-01 02:23:18.331000+00:00  2021      7          3          26   \n1541   2021-07-01 02:23:18.339000+00:00  2021      7          3          26   \n1600   2021-07-01 02:25:53.168000+00:00  2021      7          3          26   \n...                                 ...   ...    ...        ...         ...   \n99996  2021-09-08 05:48:17.187000+00:00  2021      9          2          36   \n99997  2021-09-08 05:48:17.197000+00:00  2021      9          2          36   \n99998  2021-09-08 05:48:17.233000+00:00  2021      9          2          36   \n99999  2021-09-08 05:48:32.033000+00:00  2021      9          2          36   \n100000 2021-09-08 05:48:32.057000+00:00  2021      9          2          36   \n\n        timeSinceLastActivitySec  elapsedTimeSec  season  \n1526                       0.000           0.000  Summer  \n1539                      24.667          24.667  Summer  \n1540                       0.008          24.675  Summer  \n1541                       0.008          24.683  Summer  \n1600                     154.829         179.512  Summer  \n...                          ...             ...     ...  \n99996                      1.211         104.773  Autumn  \n99997                      0.010         104.783  Autumn  \n99998                      0.036         104.819  Autumn  \n99999                     14.800         119.619  Autumn  \n100000                     0.024         119.643  Autumn  \n\n[100001 rows x 10 columns]",
      "text/html": "<div>\n<style scoped>\n    .dataframe tbody tr th:only-of-type {\n        vertical-align: middle;\n    }\n\n    .dataframe tbody tr th {\n        vertical-align: top;\n    }\n\n    .dataframe thead th {\n        text-align: right;\n    }\n</style>\n<table border=\"1\" class=\"dataframe\">\n  <thead>\n    <tr style=\"text-align: right;\">\n      <th></th>\n      <th>consultationId</th>\n      <th>activityName</th>\n      <th>timestamp</th>\n      <th>year</th>\n      <th>month</th>\n      <th>dayOfWeek</th>\n      <th>weekOfYear</th>\n      <th>timeSinceLastActivitySec</th>\n      <th>elapsedTimeSec</th>\n      <th>season</th>\n    </tr>\n  </thead>\n  <tbody>\n    <tr>\n      <th>1526</th>\n      <td>uid-162502747749226177</td>\n      <td>VCI.SELECT_MODULE</td>\n      <td>2021-07-01 02:22:53.656000+00:00</td>\n      <td>2021</td>\n      <td>7</td>\n      <td>3</td>\n      <td>26</td>\n      <td>0.000</td>\n      <td>0.000</td>\n      <td>Summer</td>\n    </tr>\n    <tr>\n      <th>1539</th>\n      <td>uid-162502747749226177</td>\n      <td>OTX.GET_PERSISTENCE</td>\n      <td>2021-07-01 02:23:18.323000+00:00</td>\n      <td>2021</td>\n      <td>7</td>\n      <td>3</td>\n      <td>26</td>\n      <td>24.667</td>\n      <td>24.667</td>\n      <td>Summer</td>\n    </tr>\n    <tr>\n      <th>1540</th>\n      <td>uid-162502747749226177</td>\n      <td>ODO</td>\n      <td>2021-07-01 02:23:18.331000+00:00</td>\n      <td>2021</td>\n      <td>7</td>\n      <td>3</td>\n      <td>26</td>\n      <td>0.008</td>\n      <td>24.675</td>\n      <td>Summer</td>\n    </tr>\n    <tr>\n      <th>1541</th>\n      <td>uid-162502747749226177</td>\n      <td>OTX.readDtcs</td>\n      <td>2021-07-01 02:23:18.339000+00:00</td>\n      <td>2021</td>\n      <td>7</td>\n      <td>3</td>\n      <td>26</td>\n      <td>0.008</td>\n      <td>24.683</td>\n      <td>Summer</td>\n    </tr>\n    <tr>\n      <th>1600</th>\n      <td>uid-162502747749226177</td>\n      <td>REST.VEHICLE.FLASHWARE</td>\n      <td>2021-07-01 02:25:53.168000+00:00</td>\n      <td>2021</td>\n      <td>7</td>\n      <td>3</td>\n      <td>26</td>\n      <td>154.829</td>\n      <td>179.512</td>\n      <td>Summer</td>\n    </tr>\n    <tr>\n      <th>...</th>\n      <td>...</td>\n      <td>...</td>\n      <td>...</td>\n      <td>...</td>\n      <td>...</td>\n      <td>...</td>\n      <td>...</td>\n      <td>...</td>\n      <td>...</td>\n      <td>...</td>\n    </tr>\n    <tr>\n      <th>99996</th>\n      <td>uid-163107999250525772</td>\n      <td>OTX.GET_PERSISTENCE</td>\n      <td>2021-09-08 05:48:17.187000+00:00</td>\n      <td>2021</td>\n      <td>9</td>\n      <td>2</td>\n      <td>36</td>\n      <td>1.211</td>\n      <td>104.773</td>\n      <td>Autumn</td>\n    </tr>\n    <tr>\n      <th>99997</th>\n      <td>uid-163107999250525772</td>\n      <td>OTX.vin</td>\n      <td>2021-09-08 05:48:17.197000+00:00</td>\n      <td>2021</td>\n      <td>9</td>\n      <td>2</td>\n      <td>36</td>\n      <td>0.010</td>\n      <td>104.783</td>\n      <td>Autumn</td>\n    </tr>\n    <tr>\n      <th>99998</th>\n      <td>uid-163107999250525772</td>\n      <td>VEHICLE_ID</td>\n      <td>2021-09-08 05:48:17.233000+00:00</td>\n      <td>2021</td>\n      <td>9</td>\n      <td>2</td>\n      <td>36</td>\n      <td>0.036</td>\n      <td>104.819</td>\n      <td>Autumn</td>\n    </tr>\n    <tr>\n      <th>99999</th>\n      <td>uid-163107999250525772</td>\n      <td>OTX.GET_PERSISTENCE</td>\n      <td>2021-09-08 05:48:32.033000+00:00</td>\n      <td>2021</td>\n      <td>9</td>\n      <td>2</td>\n      <td>36</td>\n      <td>14.800</td>\n      <td>119.619</td>\n      <td>Autumn</td>\n    </tr>\n    <tr>\n      <th>100000</th>\n      <td>uid-163107999250525772</td>\n      <td>ODO</td>\n      <td>2021-09-08 05:48:32.057000+00:00</td>\n      <td>2021</td>\n      <td>9</td>\n      <td>2</td>\n      <td>36</td>\n      <td>0.024</td>\n      <td>119.643</td>\n      <td>Autumn</td>\n    </tr>\n  </tbody>\n</table>\n<p>100001 rows × 10 columns</p>\n</div>"
     },
     "execution_count": 6,
     "metadata": {},
     "output_type": "execute_result"
    }
   ],
   "source": [
    "# Derive 'Season of the Year'\n",
    "# Define a function that maps month to season\n",
    "def month_to_season(month):\n",
    "    if month in [12, 1, 2]:\n",
    "        return 'Winter'\n",
    "    elif month in [3, 4, 5]:\n",
    "        return 'Spring'\n",
    "    elif month in [6, 7, 8]:\n",
    "        return 'Summer'\n",
    "    else:\n",
    "        return 'Autumn'\n",
    "\n",
    "# Apply the function to the 'month' column to create the 'season' column\n",
    "q4['season'] = q4['month'].apply(month_to_season)\n",
    "\n",
    "q4"
   ],
   "metadata": {
    "collapsed": false,
    "ExecuteTime": {
     "start_time": "2023-07-18T17:07:47.534697Z",
     "end_time": "2023-07-18T17:07:47.624567Z"
    }
   }
  },
  {
   "cell_type": "markdown",
   "source": [
    "## Feature Engineering: Removing Outlier Diagnostic Activities\n",
    "\n",
    "In our dataset, certain diagnostic activities performed by the technicians are extremely common and are recorded in virtually every consultation. While these activities are a routine part of the consultation process, they do not carry significant diagnostic information for our model, and therefore, may not be useful in predicting recommendations. For instance, the 'CONSULTATION_START' activity is logged in every consultation but doesn't contribute meaningful information towards diagnosing a specific vehicle issue.\n",
    "\n",
    "To identify and remove these non-informative activities, we follow a statistical outlier detection approach:\n",
    "\n",
    "1. **Calculate Commonality**: First, we calculate the commonality score for each activity, which is the frequency of the activity divided by the total number of activities.\n",
    "\n",
    "2. **Calculate Mean and Standard Deviation**: We then calculate the mean and standard deviation of these commonality scores.\n",
    "\n",
    "3. **Identify Outliers**: Any activity whose commonality score lies beyond two standard deviations from the mean is considered an outlier. This threshold is based on the empirical rule, which states that for a normal distribution, about 95% of the data lies within two standard deviations of the mean.\n",
    "\n",
    "4. **Remove Outliers**: Finally, we remove these outlier activities from our dataset, leaving us with a set of activities that are varied enough to provide meaningful information for our model."
   ],
   "metadata": {
    "collapsed": false
   }
  },
  {
   "cell_type": "code",
   "execution_count": 7,
   "outputs": [
    {
     "name": "stdout",
     "output_type": "stream",
     "text": [
      "MEAN: 0.0017152658662092624  STD: 0.008966686459682351\n"
     ]
    },
    {
     "data": {
      "text/plain": "                        activityName  commonalityScore\n0                OTX.GET_PERSISTENCE          0.138379\n1             REST.VEHICLE.FLASHWARE          0.061569\n2                REST.TRANSFORMATION          0.061569\n3                                ODO          0.061239\n4                  VCI.SELECT_MODULE          0.051859\n5                  OTX.odrSequenceV2          0.035850\n6   HEALTHCHECK.REFRESH.NETWORK_VIEW          0.034520\n7       HEALTHCHECK.REFRESH.DTC_LIST          0.034520\n8                       OTX.readDtcs          0.032940\n9                VCI.SELECT_SUPPLIER          0.032930\n10       VCI.CHECK_VCI_SERIAL_NUMBER          0.030360\n11    REST.DECODE_VEHICLE_IDENTIFIER          0.030270\n12                     OTX.vehicleid          0.030060\n13          OTX.vehicleSpecification          0.029920\n14                        VEHICLE_ID          0.028420\n15          HEALTHCHECK.NETWORK_VIEW          0.028330\n16              HEALTHCHECK.DTC_LIST          0.028330\n17                CONSULTATION_START          0.028000\n18                           OTX.vin          0.027450\n19                     ODR.AUTOMATIC          0.025240",
      "text/html": "<div>\n<style scoped>\n    .dataframe tbody tr th:only-of-type {\n        vertical-align: middle;\n    }\n\n    .dataframe tbody tr th {\n        vertical-align: top;\n    }\n\n    .dataframe thead th {\n        text-align: right;\n    }\n</style>\n<table border=\"1\" class=\"dataframe\">\n  <thead>\n    <tr style=\"text-align: right;\">\n      <th></th>\n      <th>activityName</th>\n      <th>commonalityScore</th>\n    </tr>\n  </thead>\n  <tbody>\n    <tr>\n      <th>0</th>\n      <td>OTX.GET_PERSISTENCE</td>\n      <td>0.138379</td>\n    </tr>\n    <tr>\n      <th>1</th>\n      <td>REST.VEHICLE.FLASHWARE</td>\n      <td>0.061569</td>\n    </tr>\n    <tr>\n      <th>2</th>\n      <td>REST.TRANSFORMATION</td>\n      <td>0.061569</td>\n    </tr>\n    <tr>\n      <th>3</th>\n      <td>ODO</td>\n      <td>0.061239</td>\n    </tr>\n    <tr>\n      <th>4</th>\n      <td>VCI.SELECT_MODULE</td>\n      <td>0.051859</td>\n    </tr>\n    <tr>\n      <th>5</th>\n      <td>OTX.odrSequenceV2</td>\n      <td>0.035850</td>\n    </tr>\n    <tr>\n      <th>6</th>\n      <td>HEALTHCHECK.REFRESH.NETWORK_VIEW</td>\n      <td>0.034520</td>\n    </tr>\n    <tr>\n      <th>7</th>\n      <td>HEALTHCHECK.REFRESH.DTC_LIST</td>\n      <td>0.034520</td>\n    </tr>\n    <tr>\n      <th>8</th>\n      <td>OTX.readDtcs</td>\n      <td>0.032940</td>\n    </tr>\n    <tr>\n      <th>9</th>\n      <td>VCI.SELECT_SUPPLIER</td>\n      <td>0.032930</td>\n    </tr>\n    <tr>\n      <th>10</th>\n      <td>VCI.CHECK_VCI_SERIAL_NUMBER</td>\n      <td>0.030360</td>\n    </tr>\n    <tr>\n      <th>11</th>\n      <td>REST.DECODE_VEHICLE_IDENTIFIER</td>\n      <td>0.030270</td>\n    </tr>\n    <tr>\n      <th>12</th>\n      <td>OTX.vehicleid</td>\n      <td>0.030060</td>\n    </tr>\n    <tr>\n      <th>13</th>\n      <td>OTX.vehicleSpecification</td>\n      <td>0.029920</td>\n    </tr>\n    <tr>\n      <th>14</th>\n      <td>VEHICLE_ID</td>\n      <td>0.028420</td>\n    </tr>\n    <tr>\n      <th>15</th>\n      <td>HEALTHCHECK.NETWORK_VIEW</td>\n      <td>0.028330</td>\n    </tr>\n    <tr>\n      <th>16</th>\n      <td>HEALTHCHECK.DTC_LIST</td>\n      <td>0.028330</td>\n    </tr>\n    <tr>\n      <th>17</th>\n      <td>CONSULTATION_START</td>\n      <td>0.028000</td>\n    </tr>\n    <tr>\n      <th>18</th>\n      <td>OTX.vin</td>\n      <td>0.027450</td>\n    </tr>\n    <tr>\n      <th>19</th>\n      <td>ODR.AUTOMATIC</td>\n      <td>0.025240</td>\n    </tr>\n  </tbody>\n</table>\n</div>"
     },
     "execution_count": 7,
     "metadata": {},
     "output_type": "execute_result"
    }
   ],
   "source": [
    "activity_commonality = q4.value_counts('activityName')/q4['activityName'].count()\n",
    "activity_commonality = activity_commonality.reset_index()\n",
    "activity_commonality.columns = ['activityName', 'commonalityScore']\n",
    "\n",
    "mean = activity_commonality.commonalityScore.mean()\n",
    "std = activity_commonality.commonalityScore.std()\n",
    "print(f'MEAN: {mean}  STD: {std}')\n",
    "\n",
    "lower = mean - (2 * std)\n",
    "upper = mean + (2 * std)\n",
    "\n",
    "# Compose a condition to identify the outliers by checking for commonality score less than or greater than lower and upper bounds respectively.\n",
    "outliers_condition = (activity_commonality.commonalityScore < lower) | (upper < activity_commonality.commonalityScore)\n",
    "most_common_activities = activity_commonality[outliers_condition]\n",
    "\n",
    "most_common_activities"
   ],
   "metadata": {
    "collapsed": false,
    "ExecuteTime": {
     "start_time": "2023-07-18T17:07:47.634744Z",
     "end_time": "2023-07-18T17:07:47.733728Z"
    }
   }
  },
  {
   "cell_type": "code",
   "execution_count": 8,
   "outputs": [
    {
     "data": {
      "text/plain": "               consultationId            activityName  \\\n1799   uid-162502747749226177  HEALTHCHECK.CLEAR_DTCS   \n1800   uid-162502747749226177           OTX.clearDtcs   \n1921   uid-162502747749226177  HEALTHCHECK.CLEAR_DTCS   \n1922   uid-162502747749226177           OTX.clearDtcs   \n2044   uid-162502747749226177      VCI.RELEASE_MODULE   \n...                       ...                     ...   \n99986  uid-163107957988936004            OTX.PCMFlash   \n99987  uid-163107957988936004    OTX.VehiclePostFlash   \n99989  uid-163107957988936004        OTX.PCMPostFlash   \n99912   uid-16310796452633650              userAction   \n99920  uid-163107970099331713              userAction   \n\n                             timestamp  year  month  dayOfWeek  weekOfYear  \\\n1799  2021-07-01 02:32:13.472000+00:00  2021      7          3          26   \n1800  2021-07-01 02:32:13.476000+00:00  2021      7          3          26   \n1921  2021-07-01 02:34:19.675000+00:00  2021      7          3          26   \n1922  2021-07-01 02:34:19.679000+00:00  2021      7          3          26   \n2044  2021-07-01 02:39:24.800000+00:00  2021      7          3          26   \n...                                ...   ...    ...        ...         ...   \n99986 2021-09-08 05:47:49.361000+00:00  2021      9          2          36   \n99987 2021-09-08 05:47:58.375000+00:00  2021      9          2          36   \n99989 2021-09-08 05:47:58.558000+00:00  2021      9          2          36   \n99912 2021-09-08 05:41:03.192000+00:00  2021      9          2          36   \n99920 2021-09-08 05:41:44.506000+00:00  2021      9          2          36   \n\n       timeSinceLastActivitySec  elapsedTimeSec  season  \n1799                     26.933         559.816  Summer  \n1800                      0.004         559.820  Summer  \n1921                     13.328         686.019  Summer  \n1922                      0.004         686.023  Summer  \n2044                    288.468         991.144  Summer  \n...                         ...             ...     ...  \n99986                     0.003         489.505  Autumn  \n99987                     9.014         498.519  Autumn  \n99989                     0.004         498.702  Autumn  \n99912                    10.665         702.501  Autumn  \n99920                     3.551           3.551  Autumn  \n\n[16825 rows x 10 columns]",
      "text/html": "<div>\n<style scoped>\n    .dataframe tbody tr th:only-of-type {\n        vertical-align: middle;\n    }\n\n    .dataframe tbody tr th {\n        vertical-align: top;\n    }\n\n    .dataframe thead th {\n        text-align: right;\n    }\n</style>\n<table border=\"1\" class=\"dataframe\">\n  <thead>\n    <tr style=\"text-align: right;\">\n      <th></th>\n      <th>consultationId</th>\n      <th>activityName</th>\n      <th>timestamp</th>\n      <th>year</th>\n      <th>month</th>\n      <th>dayOfWeek</th>\n      <th>weekOfYear</th>\n      <th>timeSinceLastActivitySec</th>\n      <th>elapsedTimeSec</th>\n      <th>season</th>\n    </tr>\n  </thead>\n  <tbody>\n    <tr>\n      <th>1799</th>\n      <td>uid-162502747749226177</td>\n      <td>HEALTHCHECK.CLEAR_DTCS</td>\n      <td>2021-07-01 02:32:13.472000+00:00</td>\n      <td>2021</td>\n      <td>7</td>\n      <td>3</td>\n      <td>26</td>\n      <td>26.933</td>\n      <td>559.816</td>\n      <td>Summer</td>\n    </tr>\n    <tr>\n      <th>1800</th>\n      <td>uid-162502747749226177</td>\n      <td>OTX.clearDtcs</td>\n      <td>2021-07-01 02:32:13.476000+00:00</td>\n      <td>2021</td>\n      <td>7</td>\n      <td>3</td>\n      <td>26</td>\n      <td>0.004</td>\n      <td>559.820</td>\n      <td>Summer</td>\n    </tr>\n    <tr>\n      <th>1921</th>\n      <td>uid-162502747749226177</td>\n      <td>HEALTHCHECK.CLEAR_DTCS</td>\n      <td>2021-07-01 02:34:19.675000+00:00</td>\n      <td>2021</td>\n      <td>7</td>\n      <td>3</td>\n      <td>26</td>\n      <td>13.328</td>\n      <td>686.019</td>\n      <td>Summer</td>\n    </tr>\n    <tr>\n      <th>1922</th>\n      <td>uid-162502747749226177</td>\n      <td>OTX.clearDtcs</td>\n      <td>2021-07-01 02:34:19.679000+00:00</td>\n      <td>2021</td>\n      <td>7</td>\n      <td>3</td>\n      <td>26</td>\n      <td>0.004</td>\n      <td>686.023</td>\n      <td>Summer</td>\n    </tr>\n    <tr>\n      <th>2044</th>\n      <td>uid-162502747749226177</td>\n      <td>VCI.RELEASE_MODULE</td>\n      <td>2021-07-01 02:39:24.800000+00:00</td>\n      <td>2021</td>\n      <td>7</td>\n      <td>3</td>\n      <td>26</td>\n      <td>288.468</td>\n      <td>991.144</td>\n      <td>Summer</td>\n    </tr>\n    <tr>\n      <th>...</th>\n      <td>...</td>\n      <td>...</td>\n      <td>...</td>\n      <td>...</td>\n      <td>...</td>\n      <td>...</td>\n      <td>...</td>\n      <td>...</td>\n      <td>...</td>\n      <td>...</td>\n    </tr>\n    <tr>\n      <th>99986</th>\n      <td>uid-163107957988936004</td>\n      <td>OTX.PCMFlash</td>\n      <td>2021-09-08 05:47:49.361000+00:00</td>\n      <td>2021</td>\n      <td>9</td>\n      <td>2</td>\n      <td>36</td>\n      <td>0.003</td>\n      <td>489.505</td>\n      <td>Autumn</td>\n    </tr>\n    <tr>\n      <th>99987</th>\n      <td>uid-163107957988936004</td>\n      <td>OTX.VehiclePostFlash</td>\n      <td>2021-09-08 05:47:58.375000+00:00</td>\n      <td>2021</td>\n      <td>9</td>\n      <td>2</td>\n      <td>36</td>\n      <td>9.014</td>\n      <td>498.519</td>\n      <td>Autumn</td>\n    </tr>\n    <tr>\n      <th>99989</th>\n      <td>uid-163107957988936004</td>\n      <td>OTX.PCMPostFlash</td>\n      <td>2021-09-08 05:47:58.558000+00:00</td>\n      <td>2021</td>\n      <td>9</td>\n      <td>2</td>\n      <td>36</td>\n      <td>0.004</td>\n      <td>498.702</td>\n      <td>Autumn</td>\n    </tr>\n    <tr>\n      <th>99912</th>\n      <td>uid-16310796452633650</td>\n      <td>userAction</td>\n      <td>2021-09-08 05:41:03.192000+00:00</td>\n      <td>2021</td>\n      <td>9</td>\n      <td>2</td>\n      <td>36</td>\n      <td>10.665</td>\n      <td>702.501</td>\n      <td>Autumn</td>\n    </tr>\n    <tr>\n      <th>99920</th>\n      <td>uid-163107970099331713</td>\n      <td>userAction</td>\n      <td>2021-09-08 05:41:44.506000+00:00</td>\n      <td>2021</td>\n      <td>9</td>\n      <td>2</td>\n      <td>36</td>\n      <td>3.551</td>\n      <td>3.551</td>\n      <td>Autumn</td>\n    </tr>\n  </tbody>\n</table>\n<p>16825 rows × 10 columns</p>\n</div>"
     },
     "execution_count": 8,
     "metadata": {},
     "output_type": "execute_result"
    }
   ],
   "source": [
    "# Remove identified outlier (the most common) activities\n",
    "q4 = q4[~q4.activityName.isin(most_common_activities.activityName)]\n",
    "q4"
   ],
   "metadata": {
    "collapsed": false,
    "ExecuteTime": {
     "start_time": "2023-07-18T17:07:47.678622Z",
     "end_time": "2023-07-18T17:07:48.037776Z"
    }
   }
  },
  {
   "cell_type": "markdown",
   "source": [
    "## Data Merging: Combining Imported Data\n",
    "\n",
    "In this step, we are merging the imported data into a single dataframe using the `consultationId` as a common identifier.\n",
    "\n",
    "We are using the `merge()` function from pandas library to perform the merging operation. The `on` parameter is set to 'consultationId', which is the common identifier between the data sources. The `how` parameter is set to 'inner', meaning that we are performing an 'inner' join. This type of join returns only the records that have matching values in both merging tables. In other words, it returns the intersection of the dataframes, ensuring that the resulting dataframe contains only the complete information."
   ],
   "metadata": {
    "collapsed": false
   }
  },
  {
   "cell_type": "code",
   "execution_count": 9,
   "outputs": [
    {
     "data": {
      "text/plain": "                                                                      vin  \\\nconsultationId                                                              \nuid-162509762110151072  1A914EAC99CE2399BFB1C60E70BFB0B81475AF25694CF8...   \nuid-162509762110151072  1A914EAC99CE2399BFB1C60E70BFB0B81475AF25694CF8...   \nuid-162509762110151072  1A914EAC99CE2399BFB1C60E70BFB0B81475AF25694CF8...   \nuid-162509762110151072  1A914EAC99CE2399BFB1C60E70BFB0B81475AF25694CF8...   \nuid-162509762110151072  1A914EAC99CE2399BFB1C60E70BFB0B81475AF25694CF8...   \n...                                                                   ...   \nuid-162513522884055541  1A914EAC99CE2399BFB1C60E70BFB0B81475AF25694CF8...   \nuid-162513522884055541  1A914EAC99CE2399BFB1C60E70BFB0B81475AF25694CF8...   \nuid-162513522884055541  1A914EAC99CE2399BFB1C60E70BFB0B81475AF25694CF8...   \nuid-162513522884055541  1A914EAC99CE2399BFB1C60E70BFB0B81475AF25694CF8...   \nuid-162513522884055541  1A914EAC99CE2399BFB1C60E70BFB0B81475AF25694CF8...   \n\n                       project       ODO            activityName  \\\nconsultationId                                                     \nuid-162509762110151072    J59C  27282 km  HEALTHCHECK.CLEAR_DTCS   \nuid-162509762110151072    J59C  27282 km  HEALTHCHECK.CLEAR_DTCS   \nuid-162509762110151072    J59C  27282 km  HEALTHCHECK.CLEAR_DTCS   \nuid-162509762110151072    J59C  27282 km  HEALTHCHECK.CLEAR_DTCS   \nuid-162509762110151072    J59C  27282 km  HEALTHCHECK.CLEAR_DTCS   \n...                        ...       ...                     ...   \nuid-162513522884055541    J59C   6222 km           OTX.clearDtcs   \nuid-162513522884055541    J59C   6222 km           OTX.clearDtcs   \nuid-162513522884055541    J59C   6222 km           OTX.clearDtcs   \nuid-162513522884055541    J59C   6222 km           OTX.clearDtcs   \nuid-162513522884055541    J59C   6222 km           OTX.clearDtcs   \n\n                                              timestamp  year  month  \\\nconsultationId                                                         \nuid-162509762110151072 2021-07-01 00:01:15.377000+00:00  2021      7   \nuid-162509762110151072 2021-07-01 00:01:15.377000+00:00  2021      7   \nuid-162509762110151072 2021-07-01 00:01:15.377000+00:00  2021      7   \nuid-162509762110151072 2021-07-01 00:01:15.377000+00:00  2021      7   \nuid-162509762110151072 2021-07-01 00:01:15.377000+00:00  2021      7   \n...                                                 ...   ...    ...   \nuid-162513522884055541 2021-07-01 10:28:06.506000+00:00  2021      7   \nuid-162513522884055541 2021-07-01 10:28:06.506000+00:00  2021      7   \nuid-162513522884055541 2021-07-01 10:28:06.506000+00:00  2021      7   \nuid-162513522884055541 2021-07-01 10:28:06.506000+00:00  2021      7   \nuid-162513522884055541 2021-07-01 10:28:06.506000+00:00  2021      7   \n\n                        dayOfWeek  weekOfYear  timeSinceLastActivitySec  \\\nconsultationId                                                            \nuid-162509762110151072          3          26                    15.026   \nuid-162509762110151072          3          26                    15.026   \nuid-162509762110151072          3          26                    15.026   \nuid-162509762110151072          3          26                    15.026   \nuid-162509762110151072          3          26                    15.026   \n...                           ...         ...                       ...   \nuid-162513522884055541          3          26                     0.004   \nuid-162513522884055541          3          26                     0.004   \nuid-162513522884055541          3          26                     0.004   \nuid-162513522884055541          3          26                     0.004   \nuid-162513522884055541          3          26                     0.004   \n\n                        elapsedTimeSec  season odxShortName FullCode  \\\nconsultationId                                                         \nuid-162509762110151072          54.310  Summer          VCM  B1B5049   \nuid-162509762110151072          54.310  Summer          PSM  B1B4649   \nuid-162509762110151072          54.310  Summer          PSM  B1B5049   \nuid-162509762110151072          54.310  Summer          PSM  B1B5C49   \nuid-162509762110151072          54.310  Summer          VCM  B1B4649   \n...                                ...     ...          ...      ...   \nuid-162513522884055541          57.714  Summer          VCM  B1B4449   \nuid-162513522884055541          57.714  Summer          VCM  U213900   \nuid-162513522884055541          57.714  Summer          PSM  B1B4849   \nuid-162513522884055541          57.714  Summer          VCM  B1B4849   \nuid-162513522884055541          57.714  Summer          PSM  B1B4649   \n\n                        StatusCode  dtcODO  C_ODO_VALUE dealerCode  \\\nconsultationId                                                       \nuid-162509762110151072           8   27280      27287.0      2527A   \nuid-162509762110151072           8   27280      27287.0      2527A   \nuid-162509762110151072           8   27280      27287.0      2527A   \nuid-162509762110151072           8   27280      27287.0      2527A   \nuid-162509762110151072           8   27280      27287.0      2527A   \n...                            ...     ...          ...        ...   \nuid-162513522884055541           8    6221       6222.0       2528   \nuid-162513522884055541           8    6221       6222.0       2528   \nuid-162513522884055541           8    6221       6222.0       2528   \nuid-162513522884055541           8    6221       6222.0       2528   \nuid-162513522884055541           8    6221       6222.0       2528   \n\n                       distributorCode  \nconsultationId                          \nuid-162509762110151072             MJO  \nuid-162509762110151072             MJO  \nuid-162509762110151072             MJO  \nuid-162509762110151072             MJO  \nuid-162509762110151072             MJO  \n...                                ...  \nuid-162513522884055541             MJO  \nuid-162513522884055541             MJO  \nuid-162513522884055541             MJO  \nuid-162513522884055541             MJO  \nuid-162513522884055541             MJO  \n\n[15750 rows x 19 columns]",
      "text/html": "<div>\n<style scoped>\n    .dataframe tbody tr th:only-of-type {\n        vertical-align: middle;\n    }\n\n    .dataframe tbody tr th {\n        vertical-align: top;\n    }\n\n    .dataframe thead th {\n        text-align: right;\n    }\n</style>\n<table border=\"1\" class=\"dataframe\">\n  <thead>\n    <tr style=\"text-align: right;\">\n      <th></th>\n      <th>vin</th>\n      <th>project</th>\n      <th>ODO</th>\n      <th>activityName</th>\n      <th>timestamp</th>\n      <th>year</th>\n      <th>month</th>\n      <th>dayOfWeek</th>\n      <th>weekOfYear</th>\n      <th>timeSinceLastActivitySec</th>\n      <th>elapsedTimeSec</th>\n      <th>season</th>\n      <th>odxShortName</th>\n      <th>FullCode</th>\n      <th>StatusCode</th>\n      <th>dtcODO</th>\n      <th>C_ODO_VALUE</th>\n      <th>dealerCode</th>\n      <th>distributorCode</th>\n    </tr>\n    <tr>\n      <th>consultationId</th>\n      <th></th>\n      <th></th>\n      <th></th>\n      <th></th>\n      <th></th>\n      <th></th>\n      <th></th>\n      <th></th>\n      <th></th>\n      <th></th>\n      <th></th>\n      <th></th>\n      <th></th>\n      <th></th>\n      <th></th>\n      <th></th>\n      <th></th>\n      <th></th>\n      <th></th>\n    </tr>\n  </thead>\n  <tbody>\n    <tr>\n      <th>uid-162509762110151072</th>\n      <td>1A914EAC99CE2399BFB1C60E70BFB0B81475AF25694CF8...</td>\n      <td>J59C</td>\n      <td>27282 km</td>\n      <td>HEALTHCHECK.CLEAR_DTCS</td>\n      <td>2021-07-01 00:01:15.377000+00:00</td>\n      <td>2021</td>\n      <td>7</td>\n      <td>3</td>\n      <td>26</td>\n      <td>15.026</td>\n      <td>54.310</td>\n      <td>Summer</td>\n      <td>VCM</td>\n      <td>B1B5049</td>\n      <td>8</td>\n      <td>27280</td>\n      <td>27287.0</td>\n      <td>2527A</td>\n      <td>MJO</td>\n    </tr>\n    <tr>\n      <th>uid-162509762110151072</th>\n      <td>1A914EAC99CE2399BFB1C60E70BFB0B81475AF25694CF8...</td>\n      <td>J59C</td>\n      <td>27282 km</td>\n      <td>HEALTHCHECK.CLEAR_DTCS</td>\n      <td>2021-07-01 00:01:15.377000+00:00</td>\n      <td>2021</td>\n      <td>7</td>\n      <td>3</td>\n      <td>26</td>\n      <td>15.026</td>\n      <td>54.310</td>\n      <td>Summer</td>\n      <td>PSM</td>\n      <td>B1B4649</td>\n      <td>8</td>\n      <td>27280</td>\n      <td>27287.0</td>\n      <td>2527A</td>\n      <td>MJO</td>\n    </tr>\n    <tr>\n      <th>uid-162509762110151072</th>\n      <td>1A914EAC99CE2399BFB1C60E70BFB0B81475AF25694CF8...</td>\n      <td>J59C</td>\n      <td>27282 km</td>\n      <td>HEALTHCHECK.CLEAR_DTCS</td>\n      <td>2021-07-01 00:01:15.377000+00:00</td>\n      <td>2021</td>\n      <td>7</td>\n      <td>3</td>\n      <td>26</td>\n      <td>15.026</td>\n      <td>54.310</td>\n      <td>Summer</td>\n      <td>PSM</td>\n      <td>B1B5049</td>\n      <td>8</td>\n      <td>27280</td>\n      <td>27287.0</td>\n      <td>2527A</td>\n      <td>MJO</td>\n    </tr>\n    <tr>\n      <th>uid-162509762110151072</th>\n      <td>1A914EAC99CE2399BFB1C60E70BFB0B81475AF25694CF8...</td>\n      <td>J59C</td>\n      <td>27282 km</td>\n      <td>HEALTHCHECK.CLEAR_DTCS</td>\n      <td>2021-07-01 00:01:15.377000+00:00</td>\n      <td>2021</td>\n      <td>7</td>\n      <td>3</td>\n      <td>26</td>\n      <td>15.026</td>\n      <td>54.310</td>\n      <td>Summer</td>\n      <td>PSM</td>\n      <td>B1B5C49</td>\n      <td>8</td>\n      <td>27280</td>\n      <td>27287.0</td>\n      <td>2527A</td>\n      <td>MJO</td>\n    </tr>\n    <tr>\n      <th>uid-162509762110151072</th>\n      <td>1A914EAC99CE2399BFB1C60E70BFB0B81475AF25694CF8...</td>\n      <td>J59C</td>\n      <td>27282 km</td>\n      <td>HEALTHCHECK.CLEAR_DTCS</td>\n      <td>2021-07-01 00:01:15.377000+00:00</td>\n      <td>2021</td>\n      <td>7</td>\n      <td>3</td>\n      <td>26</td>\n      <td>15.026</td>\n      <td>54.310</td>\n      <td>Summer</td>\n      <td>VCM</td>\n      <td>B1B4649</td>\n      <td>8</td>\n      <td>27280</td>\n      <td>27287.0</td>\n      <td>2527A</td>\n      <td>MJO</td>\n    </tr>\n    <tr>\n      <th>...</th>\n      <td>...</td>\n      <td>...</td>\n      <td>...</td>\n      <td>...</td>\n      <td>...</td>\n      <td>...</td>\n      <td>...</td>\n      <td>...</td>\n      <td>...</td>\n      <td>...</td>\n      <td>...</td>\n      <td>...</td>\n      <td>...</td>\n      <td>...</td>\n      <td>...</td>\n      <td>...</td>\n      <td>...</td>\n      <td>...</td>\n      <td>...</td>\n    </tr>\n    <tr>\n      <th>uid-162513522884055541</th>\n      <td>1A914EAC99CE2399BFB1C60E70BFB0B81475AF25694CF8...</td>\n      <td>J59C</td>\n      <td>6222 km</td>\n      <td>OTX.clearDtcs</td>\n      <td>2021-07-01 10:28:06.506000+00:00</td>\n      <td>2021</td>\n      <td>7</td>\n      <td>3</td>\n      <td>26</td>\n      <td>0.004</td>\n      <td>57.714</td>\n      <td>Summer</td>\n      <td>VCM</td>\n      <td>B1B4449</td>\n      <td>8</td>\n      <td>6221</td>\n      <td>6222.0</td>\n      <td>2528</td>\n      <td>MJO</td>\n    </tr>\n    <tr>\n      <th>uid-162513522884055541</th>\n      <td>1A914EAC99CE2399BFB1C60E70BFB0B81475AF25694CF8...</td>\n      <td>J59C</td>\n      <td>6222 km</td>\n      <td>OTX.clearDtcs</td>\n      <td>2021-07-01 10:28:06.506000+00:00</td>\n      <td>2021</td>\n      <td>7</td>\n      <td>3</td>\n      <td>26</td>\n      <td>0.004</td>\n      <td>57.714</td>\n      <td>Summer</td>\n      <td>VCM</td>\n      <td>U213900</td>\n      <td>8</td>\n      <td>6221</td>\n      <td>6222.0</td>\n      <td>2528</td>\n      <td>MJO</td>\n    </tr>\n    <tr>\n      <th>uid-162513522884055541</th>\n      <td>1A914EAC99CE2399BFB1C60E70BFB0B81475AF25694CF8...</td>\n      <td>J59C</td>\n      <td>6222 km</td>\n      <td>OTX.clearDtcs</td>\n      <td>2021-07-01 10:28:06.506000+00:00</td>\n      <td>2021</td>\n      <td>7</td>\n      <td>3</td>\n      <td>26</td>\n      <td>0.004</td>\n      <td>57.714</td>\n      <td>Summer</td>\n      <td>PSM</td>\n      <td>B1B4849</td>\n      <td>8</td>\n      <td>6221</td>\n      <td>6222.0</td>\n      <td>2528</td>\n      <td>MJO</td>\n    </tr>\n    <tr>\n      <th>uid-162513522884055541</th>\n      <td>1A914EAC99CE2399BFB1C60E70BFB0B81475AF25694CF8...</td>\n      <td>J59C</td>\n      <td>6222 km</td>\n      <td>OTX.clearDtcs</td>\n      <td>2021-07-01 10:28:06.506000+00:00</td>\n      <td>2021</td>\n      <td>7</td>\n      <td>3</td>\n      <td>26</td>\n      <td>0.004</td>\n      <td>57.714</td>\n      <td>Summer</td>\n      <td>VCM</td>\n      <td>B1B4849</td>\n      <td>8</td>\n      <td>6221</td>\n      <td>6222.0</td>\n      <td>2528</td>\n      <td>MJO</td>\n    </tr>\n    <tr>\n      <th>uid-162513522884055541</th>\n      <td>1A914EAC99CE2399BFB1C60E70BFB0B81475AF25694CF8...</td>\n      <td>J59C</td>\n      <td>6222 km</td>\n      <td>OTX.clearDtcs</td>\n      <td>2021-07-01 10:28:06.506000+00:00</td>\n      <td>2021</td>\n      <td>7</td>\n      <td>3</td>\n      <td>26</td>\n      <td>0.004</td>\n      <td>57.714</td>\n      <td>Summer</td>\n      <td>PSM</td>\n      <td>B1B4649</td>\n      <td>8</td>\n      <td>6221</td>\n      <td>6222.0</td>\n      <td>2528</td>\n      <td>MJO</td>\n    </tr>\n  </tbody>\n</table>\n<p>15750 rows × 19 columns</p>\n</div>"
     },
     "execution_count": 9,
     "metadata": {},
     "output_type": "execute_result"
    }
   ],
   "source": [
    "q1 = dataframes['q1']\n",
    "q2 = dataframes['q2']\n",
    "q3 = dataframes['q3']\n",
    "q5 = dataframes['q5']\n",
    "q6 = dataframes['q6']\n",
    "\n",
    "data = q1 \\\n",
    "    .merge(q2, on='consultationId', how='inner') \\\n",
    "    .merge(q3, on='consultationId', how='inner') \\\n",
    "    .merge(q4, on='consultationId', how='inner') \\\n",
    "    .merge(q5, on='consultationId', how='inner') \\\n",
    "    .merge(q6, on='consultationId', how='inner')\n",
    "data.set_index('consultationId', inplace=True)\n",
    "\n",
    "data"
   ],
   "metadata": {
    "collapsed": false,
    "ExecuteTime": {
     "start_time": "2023-07-18T17:07:47.813283Z",
     "end_time": "2023-07-18T17:07:48.205651Z"
    }
   }
  },
  {
   "cell_type": "markdown",
   "source": [
    "## Data Cleaning: Removing Duplicate Records\n",
    "\n",
    "In this step of the data preprocessing, we aim to remove any duplicate entries in the dataset.\n",
    "\n",
    "We utilize the `drop_duplicates()` function from pandas library for this purpose. The `inplace=True` parameter ensures that the operation is performed on the dataset directly, without the need to assign the result to a new variable."
   ],
   "metadata": {
    "collapsed": false
   }
  },
  {
   "cell_type": "code",
   "execution_count": 10,
   "outputs": [
    {
     "data": {
      "text/plain": "                                                                      vin  \\\nconsultationId                                                              \nuid-162509762110151072  1A914EAC99CE2399BFB1C60E70BFB0B81475AF25694CF8...   \nuid-162509762110151072  1A914EAC99CE2399BFB1C60E70BFB0B81475AF25694CF8...   \nuid-162509762110151072  1A914EAC99CE2399BFB1C60E70BFB0B81475AF25694CF8...   \nuid-162509762110151072  1A914EAC99CE2399BFB1C60E70BFB0B81475AF25694CF8...   \nuid-162509762110151072  1A914EAC99CE2399BFB1C60E70BFB0B81475AF25694CF8...   \n...                                                                   ...   \nuid-162513522884055541  1A914EAC99CE2399BFB1C60E70BFB0B81475AF25694CF8...   \nuid-162513522884055541  1A914EAC99CE2399BFB1C60E70BFB0B81475AF25694CF8...   \nuid-162513522884055541  1A914EAC99CE2399BFB1C60E70BFB0B81475AF25694CF8...   \nuid-162513522884055541  1A914EAC99CE2399BFB1C60E70BFB0B81475AF25694CF8...   \nuid-162513522884055541  1A914EAC99CE2399BFB1C60E70BFB0B81475AF25694CF8...   \n\n                       project       ODO            activityName  \\\nconsultationId                                                     \nuid-162509762110151072    J59C  27282 km  HEALTHCHECK.CLEAR_DTCS   \nuid-162509762110151072    J59C  27282 km  HEALTHCHECK.CLEAR_DTCS   \nuid-162509762110151072    J59C  27282 km  HEALTHCHECK.CLEAR_DTCS   \nuid-162509762110151072    J59C  27282 km  HEALTHCHECK.CLEAR_DTCS   \nuid-162509762110151072    J59C  27282 km  HEALTHCHECK.CLEAR_DTCS   \n...                        ...       ...                     ...   \nuid-162513522884055541    J59C   6222 km           OTX.clearDtcs   \nuid-162513522884055541    J59C   6222 km           OTX.clearDtcs   \nuid-162513522884055541    J59C   6222 km           OTX.clearDtcs   \nuid-162513522884055541    J59C   6222 km           OTX.clearDtcs   \nuid-162513522884055541    J59C   6222 km           OTX.clearDtcs   \n\n                                              timestamp  year  month  \\\nconsultationId                                                         \nuid-162509762110151072 2021-07-01 00:01:15.377000+00:00  2021      7   \nuid-162509762110151072 2021-07-01 00:01:15.377000+00:00  2021      7   \nuid-162509762110151072 2021-07-01 00:01:15.377000+00:00  2021      7   \nuid-162509762110151072 2021-07-01 00:01:15.377000+00:00  2021      7   \nuid-162509762110151072 2021-07-01 00:01:15.377000+00:00  2021      7   \n...                                                 ...   ...    ...   \nuid-162513522884055541 2021-07-01 10:28:06.506000+00:00  2021      7   \nuid-162513522884055541 2021-07-01 10:28:06.506000+00:00  2021      7   \nuid-162513522884055541 2021-07-01 10:28:06.506000+00:00  2021      7   \nuid-162513522884055541 2021-07-01 10:28:06.506000+00:00  2021      7   \nuid-162513522884055541 2021-07-01 10:28:06.506000+00:00  2021      7   \n\n                        dayOfWeek  weekOfYear  timeSinceLastActivitySec  \\\nconsultationId                                                            \nuid-162509762110151072          3          26                    15.026   \nuid-162509762110151072          3          26                    15.026   \nuid-162509762110151072          3          26                    15.026   \nuid-162509762110151072          3          26                    15.026   \nuid-162509762110151072          3          26                    15.026   \n...                           ...         ...                       ...   \nuid-162513522884055541          3          26                     0.004   \nuid-162513522884055541          3          26                     0.004   \nuid-162513522884055541          3          26                     0.004   \nuid-162513522884055541          3          26                     0.004   \nuid-162513522884055541          3          26                     0.004   \n\n                        elapsedTimeSec  season odxShortName FullCode  \\\nconsultationId                                                         \nuid-162509762110151072          54.310  Summer          VCM  B1B5049   \nuid-162509762110151072          54.310  Summer          PSM  B1B4649   \nuid-162509762110151072          54.310  Summer          PSM  B1B5049   \nuid-162509762110151072          54.310  Summer          PSM  B1B5C49   \nuid-162509762110151072          54.310  Summer          VCM  B1B4649   \n...                                ...     ...          ...      ...   \nuid-162513522884055541          57.714  Summer          VCM  B1B4449   \nuid-162513522884055541          57.714  Summer          VCM  U213900   \nuid-162513522884055541          57.714  Summer          PSM  B1B4849   \nuid-162513522884055541          57.714  Summer          VCM  B1B4849   \nuid-162513522884055541          57.714  Summer          PSM  B1B4649   \n\n                        StatusCode  dtcODO  C_ODO_VALUE dealerCode  \\\nconsultationId                                                       \nuid-162509762110151072           8   27280      27287.0      2527A   \nuid-162509762110151072           8   27280      27287.0      2527A   \nuid-162509762110151072           8   27280      27287.0      2527A   \nuid-162509762110151072           8   27280      27287.0      2527A   \nuid-162509762110151072           8   27280      27287.0      2527A   \n...                            ...     ...          ...        ...   \nuid-162513522884055541           8    6221       6222.0       2528   \nuid-162513522884055541           8    6221       6222.0       2528   \nuid-162513522884055541           8    6221       6222.0       2528   \nuid-162513522884055541           8    6221       6222.0       2528   \nuid-162513522884055541           8    6221       6222.0       2528   \n\n                       distributorCode  \nconsultationId                          \nuid-162509762110151072             MJO  \nuid-162509762110151072             MJO  \nuid-162509762110151072             MJO  \nuid-162509762110151072             MJO  \nuid-162509762110151072             MJO  \n...                                ...  \nuid-162513522884055541             MJO  \nuid-162513522884055541             MJO  \nuid-162513522884055541             MJO  \nuid-162513522884055541             MJO  \nuid-162513522884055541             MJO  \n\n[6632 rows x 19 columns]",
      "text/html": "<div>\n<style scoped>\n    .dataframe tbody tr th:only-of-type {\n        vertical-align: middle;\n    }\n\n    .dataframe tbody tr th {\n        vertical-align: top;\n    }\n\n    .dataframe thead th {\n        text-align: right;\n    }\n</style>\n<table border=\"1\" class=\"dataframe\">\n  <thead>\n    <tr style=\"text-align: right;\">\n      <th></th>\n      <th>vin</th>\n      <th>project</th>\n      <th>ODO</th>\n      <th>activityName</th>\n      <th>timestamp</th>\n      <th>year</th>\n      <th>month</th>\n      <th>dayOfWeek</th>\n      <th>weekOfYear</th>\n      <th>timeSinceLastActivitySec</th>\n      <th>elapsedTimeSec</th>\n      <th>season</th>\n      <th>odxShortName</th>\n      <th>FullCode</th>\n      <th>StatusCode</th>\n      <th>dtcODO</th>\n      <th>C_ODO_VALUE</th>\n      <th>dealerCode</th>\n      <th>distributorCode</th>\n    </tr>\n    <tr>\n      <th>consultationId</th>\n      <th></th>\n      <th></th>\n      <th></th>\n      <th></th>\n      <th></th>\n      <th></th>\n      <th></th>\n      <th></th>\n      <th></th>\n      <th></th>\n      <th></th>\n      <th></th>\n      <th></th>\n      <th></th>\n      <th></th>\n      <th></th>\n      <th></th>\n      <th></th>\n      <th></th>\n    </tr>\n  </thead>\n  <tbody>\n    <tr>\n      <th>uid-162509762110151072</th>\n      <td>1A914EAC99CE2399BFB1C60E70BFB0B81475AF25694CF8...</td>\n      <td>J59C</td>\n      <td>27282 km</td>\n      <td>HEALTHCHECK.CLEAR_DTCS</td>\n      <td>2021-07-01 00:01:15.377000+00:00</td>\n      <td>2021</td>\n      <td>7</td>\n      <td>3</td>\n      <td>26</td>\n      <td>15.026</td>\n      <td>54.310</td>\n      <td>Summer</td>\n      <td>VCM</td>\n      <td>B1B5049</td>\n      <td>8</td>\n      <td>27280</td>\n      <td>27287.0</td>\n      <td>2527A</td>\n      <td>MJO</td>\n    </tr>\n    <tr>\n      <th>uid-162509762110151072</th>\n      <td>1A914EAC99CE2399BFB1C60E70BFB0B81475AF25694CF8...</td>\n      <td>J59C</td>\n      <td>27282 km</td>\n      <td>HEALTHCHECK.CLEAR_DTCS</td>\n      <td>2021-07-01 00:01:15.377000+00:00</td>\n      <td>2021</td>\n      <td>7</td>\n      <td>3</td>\n      <td>26</td>\n      <td>15.026</td>\n      <td>54.310</td>\n      <td>Summer</td>\n      <td>PSM</td>\n      <td>B1B4649</td>\n      <td>8</td>\n      <td>27280</td>\n      <td>27287.0</td>\n      <td>2527A</td>\n      <td>MJO</td>\n    </tr>\n    <tr>\n      <th>uid-162509762110151072</th>\n      <td>1A914EAC99CE2399BFB1C60E70BFB0B81475AF25694CF8...</td>\n      <td>J59C</td>\n      <td>27282 km</td>\n      <td>HEALTHCHECK.CLEAR_DTCS</td>\n      <td>2021-07-01 00:01:15.377000+00:00</td>\n      <td>2021</td>\n      <td>7</td>\n      <td>3</td>\n      <td>26</td>\n      <td>15.026</td>\n      <td>54.310</td>\n      <td>Summer</td>\n      <td>PSM</td>\n      <td>B1B5049</td>\n      <td>8</td>\n      <td>27280</td>\n      <td>27287.0</td>\n      <td>2527A</td>\n      <td>MJO</td>\n    </tr>\n    <tr>\n      <th>uid-162509762110151072</th>\n      <td>1A914EAC99CE2399BFB1C60E70BFB0B81475AF25694CF8...</td>\n      <td>J59C</td>\n      <td>27282 km</td>\n      <td>HEALTHCHECK.CLEAR_DTCS</td>\n      <td>2021-07-01 00:01:15.377000+00:00</td>\n      <td>2021</td>\n      <td>7</td>\n      <td>3</td>\n      <td>26</td>\n      <td>15.026</td>\n      <td>54.310</td>\n      <td>Summer</td>\n      <td>PSM</td>\n      <td>B1B5C49</td>\n      <td>8</td>\n      <td>27280</td>\n      <td>27287.0</td>\n      <td>2527A</td>\n      <td>MJO</td>\n    </tr>\n    <tr>\n      <th>uid-162509762110151072</th>\n      <td>1A914EAC99CE2399BFB1C60E70BFB0B81475AF25694CF8...</td>\n      <td>J59C</td>\n      <td>27282 km</td>\n      <td>HEALTHCHECK.CLEAR_DTCS</td>\n      <td>2021-07-01 00:01:15.377000+00:00</td>\n      <td>2021</td>\n      <td>7</td>\n      <td>3</td>\n      <td>26</td>\n      <td>15.026</td>\n      <td>54.310</td>\n      <td>Summer</td>\n      <td>VCM</td>\n      <td>B1B4649</td>\n      <td>8</td>\n      <td>27280</td>\n      <td>27287.0</td>\n      <td>2527A</td>\n      <td>MJO</td>\n    </tr>\n    <tr>\n      <th>...</th>\n      <td>...</td>\n      <td>...</td>\n      <td>...</td>\n      <td>...</td>\n      <td>...</td>\n      <td>...</td>\n      <td>...</td>\n      <td>...</td>\n      <td>...</td>\n      <td>...</td>\n      <td>...</td>\n      <td>...</td>\n      <td>...</td>\n      <td>...</td>\n      <td>...</td>\n      <td>...</td>\n      <td>...</td>\n      <td>...</td>\n      <td>...</td>\n    </tr>\n    <tr>\n      <th>uid-162513522884055541</th>\n      <td>1A914EAC99CE2399BFB1C60E70BFB0B81475AF25694CF8...</td>\n      <td>J59C</td>\n      <td>6222 km</td>\n      <td>OTX.clearDtcs</td>\n      <td>2021-07-01 10:28:06.506000+00:00</td>\n      <td>2021</td>\n      <td>7</td>\n      <td>3</td>\n      <td>26</td>\n      <td>0.004</td>\n      <td>57.714</td>\n      <td>Summer</td>\n      <td>VCM</td>\n      <td>B1B4449</td>\n      <td>8</td>\n      <td>6221</td>\n      <td>6222.0</td>\n      <td>2528</td>\n      <td>MJO</td>\n    </tr>\n    <tr>\n      <th>uid-162513522884055541</th>\n      <td>1A914EAC99CE2399BFB1C60E70BFB0B81475AF25694CF8...</td>\n      <td>J59C</td>\n      <td>6222 km</td>\n      <td>OTX.clearDtcs</td>\n      <td>2021-07-01 10:28:06.506000+00:00</td>\n      <td>2021</td>\n      <td>7</td>\n      <td>3</td>\n      <td>26</td>\n      <td>0.004</td>\n      <td>57.714</td>\n      <td>Summer</td>\n      <td>VCM</td>\n      <td>U213900</td>\n      <td>8</td>\n      <td>6221</td>\n      <td>6222.0</td>\n      <td>2528</td>\n      <td>MJO</td>\n    </tr>\n    <tr>\n      <th>uid-162513522884055541</th>\n      <td>1A914EAC99CE2399BFB1C60E70BFB0B81475AF25694CF8...</td>\n      <td>J59C</td>\n      <td>6222 km</td>\n      <td>OTX.clearDtcs</td>\n      <td>2021-07-01 10:28:06.506000+00:00</td>\n      <td>2021</td>\n      <td>7</td>\n      <td>3</td>\n      <td>26</td>\n      <td>0.004</td>\n      <td>57.714</td>\n      <td>Summer</td>\n      <td>PSM</td>\n      <td>B1B4849</td>\n      <td>8</td>\n      <td>6221</td>\n      <td>6222.0</td>\n      <td>2528</td>\n      <td>MJO</td>\n    </tr>\n    <tr>\n      <th>uid-162513522884055541</th>\n      <td>1A914EAC99CE2399BFB1C60E70BFB0B81475AF25694CF8...</td>\n      <td>J59C</td>\n      <td>6222 km</td>\n      <td>OTX.clearDtcs</td>\n      <td>2021-07-01 10:28:06.506000+00:00</td>\n      <td>2021</td>\n      <td>7</td>\n      <td>3</td>\n      <td>26</td>\n      <td>0.004</td>\n      <td>57.714</td>\n      <td>Summer</td>\n      <td>VCM</td>\n      <td>B1B4849</td>\n      <td>8</td>\n      <td>6221</td>\n      <td>6222.0</td>\n      <td>2528</td>\n      <td>MJO</td>\n    </tr>\n    <tr>\n      <th>uid-162513522884055541</th>\n      <td>1A914EAC99CE2399BFB1C60E70BFB0B81475AF25694CF8...</td>\n      <td>J59C</td>\n      <td>6222 km</td>\n      <td>OTX.clearDtcs</td>\n      <td>2021-07-01 10:28:06.506000+00:00</td>\n      <td>2021</td>\n      <td>7</td>\n      <td>3</td>\n      <td>26</td>\n      <td>0.004</td>\n      <td>57.714</td>\n      <td>Summer</td>\n      <td>PSM</td>\n      <td>B1B4649</td>\n      <td>8</td>\n      <td>6221</td>\n      <td>6222.0</td>\n      <td>2528</td>\n      <td>MJO</td>\n    </tr>\n  </tbody>\n</table>\n<p>6632 rows × 19 columns</p>\n</div>"
     },
     "execution_count": 10,
     "metadata": {},
     "output_type": "execute_result"
    }
   ],
   "source": [
    "data.drop_duplicates(inplace=True)\n",
    "data"
   ],
   "metadata": {
    "collapsed": false,
    "ExecuteTime": {
     "start_time": "2023-07-18T17:07:48.084202Z",
     "end_time": "2023-07-18T17:07:48.269570Z"
    }
   }
  },
  {
   "cell_type": "markdown",
   "source": [
    "## Data Cleaning: Handle Missing Values\n",
    "\n",
    "In our dataset, we've identified that the 'ODO' column has missing values.\n",
    "\n",
    "Rather than using common statistical methods like replacing missing values with the mean or median, we opt for a more context-aware approach. We replace the missing 'ODO' values with the 'C_ODO_VALUE' which is the current odometer value collected during the same consultation. This provides a reliable substitute that's closely tied to the actual vehicle data.\n",
    "\n",
    "Additionally, we transform the 'ODO' field to be numerical by removing the 'km' unit formatting."
   ],
   "metadata": {
    "collapsed": false
   }
  },
  {
   "cell_type": "markdown",
   "source": [
    "#### FUTURE CONSIDERATION\n",
    "Another option for imputing a value to replace missing values is to leverage k-nearest neighbor (KNN),\n",
    "were we would be inferring based on some other fields (NOTE: can only be considered once CLAIMS data\n",
    "is available)\n",
    "\n",
    "A more robust approach could involve using a model-based imputation, such as regression imputation or a machine learning model like K-Nearest Neighbors (KNN) or a decision tree, to predict the missing 'ODO' values based on other variables. This could be particularly useful if the 'ODO' values are missing based on some underlying pattern that is related to other variables in your data."
   ],
   "metadata": {
    "collapsed": false
   }
  },
  {
   "cell_type": "code",
   "execution_count": 11,
   "outputs": [
    {
     "data": {
      "text/plain": "vin                         False\nproject                     False\nODO                          True\nactivityName                False\ntimestamp                   False\nyear                        False\nmonth                       False\ndayOfWeek                   False\nweekOfYear                  False\ntimeSinceLastActivitySec    False\nelapsedTimeSec              False\nseason                      False\nodxShortName                False\nFullCode                    False\nStatusCode                  False\ndtcODO                      False\nC_ODO_VALUE                 False\ndealerCode                  False\ndistributorCode             False\ndtype: bool"
     },
     "execution_count": 11,
     "metadata": {},
     "output_type": "execute_result"
    }
   ],
   "source": [
    "# Identify which data fields contain missing values\n",
    "data.isna().any()"
   ],
   "metadata": {
    "collapsed": false,
    "ExecuteTime": {
     "start_time": "2023-07-18T17:07:48.180276Z",
     "end_time": "2023-07-18T17:07:48.271768Z"
    }
   }
  },
  {
   "cell_type": "code",
   "execution_count": 12,
   "outputs": [],
   "source": [
    "# Replace 'km' formatting in the 'ODO' field and fill missing values\n",
    "data['ODO'] = data['ODO'].str.replace(' km','')\n",
    "data['ODO'].fillna(value=data.C_ODO_VALUE, inplace=True)"
   ],
   "metadata": {
    "collapsed": false,
    "ExecuteTime": {
     "start_time": "2023-07-18T17:07:48.217875Z",
     "end_time": "2023-07-18T17:07:48.393616Z"
    }
   }
  },
  {
   "cell_type": "markdown",
   "source": [
    "## Data Cleaning: Setting Appropriate Data Types\n",
    "\n",
    "As part of this step we ensure that the data is represented in the correct format, using appropriate data type for efficient data manipulation and accurate model training.\n",
    "\n",
    "In this code block, we are setting the data types for each column as follows:\n",
    "\n",
    "* The 'ODO', 'dtcODO', 'timeSinceLastActivitySec', and 'elapsedTimeSec' columns are set to float64 as they contain numerical continuous data with a floating point.\n",
    "* The 'year', 'month', 'dayOfWeek', and 'weekOfYear' columns are set to CategoricalDtype(ordered=True) since they contain categorical temporal data that has a natural order\n",
    "* The 'project', 'activityName', 'odxShortName', 'FullCode', 'StatusCode', 'dealerCode', and 'distributorCode' columns are set to CategoricalDtype(ordered=False) since they contain categorical data without a natural order"
   ],
   "metadata": {
    "collapsed": false
   }
  },
  {
   "cell_type": "code",
   "execution_count": 13,
   "outputs": [
    {
     "data": {
      "text/plain": "vin                                      object\nproject                                category\nODO                                     float64\nactivityName                           category\ntimestamp                   datetime64[ns, UTC]\nyear                                   category\nmonth                                  category\ndayOfWeek                              category\nweekOfYear                             category\ntimeSinceLastActivitySec                float64\nelapsedTimeSec                          float64\nseason                                   object\nodxShortName                           category\nFullCode                               category\nStatusCode                             category\ndtcODO                                  float64\nC_ODO_VALUE                             float64\ndealerCode                             category\ndistributorCode                        category\ndtype: object"
     },
     "execution_count": 13,
     "metadata": {},
     "output_type": "execute_result"
    }
   ],
   "source": [
    "data['ODO'] = data['ODO'].astype('float64')\n",
    "data['dtcODO'] = data['dtcODO'].astype('float64')\n",
    "data['timeSinceLastActivitySec'] = data['timeSinceLastActivitySec'].astype('float64')\n",
    "data['elapsedTimeSec'] = data['elapsedTimeSec'].astype('float64')\n",
    "\n",
    "data['year'] = data['year'].astype(CategoricalDtype(ordered=True))\n",
    "data['month'] = data['month'].astype(CategoricalDtype(ordered=True))\n",
    "data['dayOfWeek'] = data['dayOfWeek'].astype(CategoricalDtype(ordered=True))\n",
    "data['weekOfYear'] = data['weekOfYear'].astype(CategoricalDtype(ordered=True))\n",
    "\n",
    "data['project'] = data['project'].astype(CategoricalDtype(ordered=False))\n",
    "data['activityName'] = data['activityName'].astype(CategoricalDtype(ordered=False))\n",
    "data['odxShortName'] = data['odxShortName'].astype(CategoricalDtype(ordered=False))\n",
    "data['FullCode'] = data['FullCode'].astype(CategoricalDtype(ordered=False))\n",
    "data['StatusCode'] = data['StatusCode'].astype(CategoricalDtype(ordered=False))\n",
    "data['dealerCode'] = data['dealerCode'].astype(CategoricalDtype(ordered=False))\n",
    "data['distributorCode'] = data['distributorCode'].astype(CategoricalDtype(ordered=False))\n",
    "\n",
    "data.dtypes"
   ],
   "metadata": {
    "collapsed": false,
    "ExecuteTime": {
     "start_time": "2023-07-18T17:07:48.237300Z",
     "end_time": "2023-07-18T17:07:48.394558Z"
    }
   }
  },
  {
   "cell_type": "markdown",
   "source": [
    "## Data Normalisation: Standardise Numerical Data\n",
    "\n",
    "In this step, we are standardising the values of the 'elapsedTimeSec', 'timeSinceLastActivitySec', 'ODO', 'dtcODO', and 'C_ODO_VALUE' columns. These columns represent continuous numerical data (temporal data and odometer readings), which we expect to follow a normal-like distribution.\n",
    "\n",
    "We are using sklearn's StandardScaler for this task. This method standardizes features by removing the mean and scaling to unit variance. This transformation helps to achieve properties of a standard normal distribution where the mean (average) of each feature is 0 and the standard deviation is 1.\n",
    "\n",
    "By doing this, we are ensuring that these features have the same scale and thus contributing equally to the model's performance."
   ],
   "metadata": {
    "collapsed": false
   }
  },
  {
   "cell_type": "code",
   "execution_count": 14,
   "outputs": [
    {
     "data": {
      "text/plain": "                                                                      vin  \\\nconsultationId                                                              \nuid-162509762110151072  1A914EAC99CE2399BFB1C60E70BFB0B81475AF25694CF8...   \nuid-162509762110151072  1A914EAC99CE2399BFB1C60E70BFB0B81475AF25694CF8...   \nuid-162509762110151072  1A914EAC99CE2399BFB1C60E70BFB0B81475AF25694CF8...   \nuid-162509762110151072  1A914EAC99CE2399BFB1C60E70BFB0B81475AF25694CF8...   \nuid-162509762110151072  1A914EAC99CE2399BFB1C60E70BFB0B81475AF25694CF8...   \n...                                                                   ...   \nuid-162513522884055541  1A914EAC99CE2399BFB1C60E70BFB0B81475AF25694CF8...   \nuid-162513522884055541  1A914EAC99CE2399BFB1C60E70BFB0B81475AF25694CF8...   \nuid-162513522884055541  1A914EAC99CE2399BFB1C60E70BFB0B81475AF25694CF8...   \nuid-162513522884055541  1A914EAC99CE2399BFB1C60E70BFB0B81475AF25694CF8...   \nuid-162513522884055541  1A914EAC99CE2399BFB1C60E70BFB0B81475AF25694CF8...   \n\n                       project       ODO            activityName  \\\nconsultationId                                                     \nuid-162509762110151072    J59C  1.760231  HEALTHCHECK.CLEAR_DTCS   \nuid-162509762110151072    J59C  1.760231  HEALTHCHECK.CLEAR_DTCS   \nuid-162509762110151072    J59C  1.760231  HEALTHCHECK.CLEAR_DTCS   \nuid-162509762110151072    J59C  1.760231  HEALTHCHECK.CLEAR_DTCS   \nuid-162509762110151072    J59C  1.760231  HEALTHCHECK.CLEAR_DTCS   \n...                        ...       ...                     ...   \nuid-162513522884055541    J59C -0.636043           OTX.clearDtcs   \nuid-162513522884055541    J59C -0.636043           OTX.clearDtcs   \nuid-162513522884055541    J59C -0.636043           OTX.clearDtcs   \nuid-162513522884055541    J59C -0.636043           OTX.clearDtcs   \nuid-162513522884055541    J59C -0.636043           OTX.clearDtcs   \n\n                                              timestamp  year month dayOfWeek  \\\nconsultationId                                                                  \nuid-162509762110151072 2021-07-01 00:01:15.377000+00:00  2021     7         3   \nuid-162509762110151072 2021-07-01 00:01:15.377000+00:00  2021     7         3   \nuid-162509762110151072 2021-07-01 00:01:15.377000+00:00  2021     7         3   \nuid-162509762110151072 2021-07-01 00:01:15.377000+00:00  2021     7         3   \nuid-162509762110151072 2021-07-01 00:01:15.377000+00:00  2021     7         3   \n...                                                 ...   ...   ...       ...   \nuid-162513522884055541 2021-07-01 10:28:06.506000+00:00  2021     7         3   \nuid-162513522884055541 2021-07-01 10:28:06.506000+00:00  2021     7         3   \nuid-162513522884055541 2021-07-01 10:28:06.506000+00:00  2021     7         3   \nuid-162513522884055541 2021-07-01 10:28:06.506000+00:00  2021     7         3   \nuid-162513522884055541 2021-07-01 10:28:06.506000+00:00  2021     7         3   \n\n                       weekOfYear  timeSinceLastActivitySec  elapsedTimeSec  \\\nconsultationId                                                                \nuid-162509762110151072         26                 -0.260100       -0.619171   \nuid-162509762110151072         26                 -0.260100       -0.619171   \nuid-162509762110151072         26                 -0.260100       -0.619171   \nuid-162509762110151072         26                 -0.260100       -0.619171   \nuid-162509762110151072         26                 -0.260100       -0.619171   \n...                           ...                       ...             ...   \nuid-162513522884055541         26                 -0.284041       -0.617521   \nuid-162513522884055541         26                 -0.284041       -0.617521   \nuid-162513522884055541         26                 -0.284041       -0.617521   \nuid-162513522884055541         26                 -0.284041       -0.617521   \nuid-162513522884055541         26                 -0.284041       -0.617521   \n\n                        season odxShortName FullCode StatusCode    dtcODO  \\\nconsultationId                                                              \nuid-162509762110151072  Summer          VCM  B1B5049          8  1.762017   \nuid-162509762110151072  Summer          PSM  B1B4649          8  1.762017   \nuid-162509762110151072  Summer          PSM  B1B5049          8  1.762017   \nuid-162509762110151072  Summer          PSM  B1B5C49          8  1.762017   \nuid-162509762110151072  Summer          VCM  B1B4649          8  1.762017   \n...                        ...          ...      ...        ...       ...   \nuid-162513522884055541  Summer          VCM  B1B4449          8 -0.629484   \nuid-162513522884055541  Summer          VCM  U213900          8 -0.629484   \nuid-162513522884055541  Summer          PSM  B1B4849          8 -0.629484   \nuid-162513522884055541  Summer          VCM  B1B4849          8 -0.629484   \nuid-162513522884055541  Summer          PSM  B1B4649          8 -0.629484   \n\n                        C_ODO_VALUE dealerCode distributorCode  \nconsultationId                                                  \nuid-162509762110151072     1.760069      2527A             MJO  \nuid-162509762110151072     1.760069      2527A             MJO  \nuid-162509762110151072     1.760069      2527A             MJO  \nuid-162509762110151072     1.760069      2527A             MJO  \nuid-162509762110151072     1.760069      2527A             MJO  \n...                             ...        ...             ...  \nuid-162513522884055541    -0.636354       2528             MJO  \nuid-162513522884055541    -0.636354       2528             MJO  \nuid-162513522884055541    -0.636354       2528             MJO  \nuid-162513522884055541    -0.636354       2528             MJO  \nuid-162513522884055541    -0.636354       2528             MJO  \n\n[6632 rows x 19 columns]",
      "text/html": "<div>\n<style scoped>\n    .dataframe tbody tr th:only-of-type {\n        vertical-align: middle;\n    }\n\n    .dataframe tbody tr th {\n        vertical-align: top;\n    }\n\n    .dataframe thead th {\n        text-align: right;\n    }\n</style>\n<table border=\"1\" class=\"dataframe\">\n  <thead>\n    <tr style=\"text-align: right;\">\n      <th></th>\n      <th>vin</th>\n      <th>project</th>\n      <th>ODO</th>\n      <th>activityName</th>\n      <th>timestamp</th>\n      <th>year</th>\n      <th>month</th>\n      <th>dayOfWeek</th>\n      <th>weekOfYear</th>\n      <th>timeSinceLastActivitySec</th>\n      <th>elapsedTimeSec</th>\n      <th>season</th>\n      <th>odxShortName</th>\n      <th>FullCode</th>\n      <th>StatusCode</th>\n      <th>dtcODO</th>\n      <th>C_ODO_VALUE</th>\n      <th>dealerCode</th>\n      <th>distributorCode</th>\n    </tr>\n    <tr>\n      <th>consultationId</th>\n      <th></th>\n      <th></th>\n      <th></th>\n      <th></th>\n      <th></th>\n      <th></th>\n      <th></th>\n      <th></th>\n      <th></th>\n      <th></th>\n      <th></th>\n      <th></th>\n      <th></th>\n      <th></th>\n      <th></th>\n      <th></th>\n      <th></th>\n      <th></th>\n      <th></th>\n    </tr>\n  </thead>\n  <tbody>\n    <tr>\n      <th>uid-162509762110151072</th>\n      <td>1A914EAC99CE2399BFB1C60E70BFB0B81475AF25694CF8...</td>\n      <td>J59C</td>\n      <td>1.760231</td>\n      <td>HEALTHCHECK.CLEAR_DTCS</td>\n      <td>2021-07-01 00:01:15.377000+00:00</td>\n      <td>2021</td>\n      <td>7</td>\n      <td>3</td>\n      <td>26</td>\n      <td>-0.260100</td>\n      <td>-0.619171</td>\n      <td>Summer</td>\n      <td>VCM</td>\n      <td>B1B5049</td>\n      <td>8</td>\n      <td>1.762017</td>\n      <td>1.760069</td>\n      <td>2527A</td>\n      <td>MJO</td>\n    </tr>\n    <tr>\n      <th>uid-162509762110151072</th>\n      <td>1A914EAC99CE2399BFB1C60E70BFB0B81475AF25694CF8...</td>\n      <td>J59C</td>\n      <td>1.760231</td>\n      <td>HEALTHCHECK.CLEAR_DTCS</td>\n      <td>2021-07-01 00:01:15.377000+00:00</td>\n      <td>2021</td>\n      <td>7</td>\n      <td>3</td>\n      <td>26</td>\n      <td>-0.260100</td>\n      <td>-0.619171</td>\n      <td>Summer</td>\n      <td>PSM</td>\n      <td>B1B4649</td>\n      <td>8</td>\n      <td>1.762017</td>\n      <td>1.760069</td>\n      <td>2527A</td>\n      <td>MJO</td>\n    </tr>\n    <tr>\n      <th>uid-162509762110151072</th>\n      <td>1A914EAC99CE2399BFB1C60E70BFB0B81475AF25694CF8...</td>\n      <td>J59C</td>\n      <td>1.760231</td>\n      <td>HEALTHCHECK.CLEAR_DTCS</td>\n      <td>2021-07-01 00:01:15.377000+00:00</td>\n      <td>2021</td>\n      <td>7</td>\n      <td>3</td>\n      <td>26</td>\n      <td>-0.260100</td>\n      <td>-0.619171</td>\n      <td>Summer</td>\n      <td>PSM</td>\n      <td>B1B5049</td>\n      <td>8</td>\n      <td>1.762017</td>\n      <td>1.760069</td>\n      <td>2527A</td>\n      <td>MJO</td>\n    </tr>\n    <tr>\n      <th>uid-162509762110151072</th>\n      <td>1A914EAC99CE2399BFB1C60E70BFB0B81475AF25694CF8...</td>\n      <td>J59C</td>\n      <td>1.760231</td>\n      <td>HEALTHCHECK.CLEAR_DTCS</td>\n      <td>2021-07-01 00:01:15.377000+00:00</td>\n      <td>2021</td>\n      <td>7</td>\n      <td>3</td>\n      <td>26</td>\n      <td>-0.260100</td>\n      <td>-0.619171</td>\n      <td>Summer</td>\n      <td>PSM</td>\n      <td>B1B5C49</td>\n      <td>8</td>\n      <td>1.762017</td>\n      <td>1.760069</td>\n      <td>2527A</td>\n      <td>MJO</td>\n    </tr>\n    <tr>\n      <th>uid-162509762110151072</th>\n      <td>1A914EAC99CE2399BFB1C60E70BFB0B81475AF25694CF8...</td>\n      <td>J59C</td>\n      <td>1.760231</td>\n      <td>HEALTHCHECK.CLEAR_DTCS</td>\n      <td>2021-07-01 00:01:15.377000+00:00</td>\n      <td>2021</td>\n      <td>7</td>\n      <td>3</td>\n      <td>26</td>\n      <td>-0.260100</td>\n      <td>-0.619171</td>\n      <td>Summer</td>\n      <td>VCM</td>\n      <td>B1B4649</td>\n      <td>8</td>\n      <td>1.762017</td>\n      <td>1.760069</td>\n      <td>2527A</td>\n      <td>MJO</td>\n    </tr>\n    <tr>\n      <th>...</th>\n      <td>...</td>\n      <td>...</td>\n      <td>...</td>\n      <td>...</td>\n      <td>...</td>\n      <td>...</td>\n      <td>...</td>\n      <td>...</td>\n      <td>...</td>\n      <td>...</td>\n      <td>...</td>\n      <td>...</td>\n      <td>...</td>\n      <td>...</td>\n      <td>...</td>\n      <td>...</td>\n      <td>...</td>\n      <td>...</td>\n      <td>...</td>\n    </tr>\n    <tr>\n      <th>uid-162513522884055541</th>\n      <td>1A914EAC99CE2399BFB1C60E70BFB0B81475AF25694CF8...</td>\n      <td>J59C</td>\n      <td>-0.636043</td>\n      <td>OTX.clearDtcs</td>\n      <td>2021-07-01 10:28:06.506000+00:00</td>\n      <td>2021</td>\n      <td>7</td>\n      <td>3</td>\n      <td>26</td>\n      <td>-0.284041</td>\n      <td>-0.617521</td>\n      <td>Summer</td>\n      <td>VCM</td>\n      <td>B1B4449</td>\n      <td>8</td>\n      <td>-0.629484</td>\n      <td>-0.636354</td>\n      <td>2528</td>\n      <td>MJO</td>\n    </tr>\n    <tr>\n      <th>uid-162513522884055541</th>\n      <td>1A914EAC99CE2399BFB1C60E70BFB0B81475AF25694CF8...</td>\n      <td>J59C</td>\n      <td>-0.636043</td>\n      <td>OTX.clearDtcs</td>\n      <td>2021-07-01 10:28:06.506000+00:00</td>\n      <td>2021</td>\n      <td>7</td>\n      <td>3</td>\n      <td>26</td>\n      <td>-0.284041</td>\n      <td>-0.617521</td>\n      <td>Summer</td>\n      <td>VCM</td>\n      <td>U213900</td>\n      <td>8</td>\n      <td>-0.629484</td>\n      <td>-0.636354</td>\n      <td>2528</td>\n      <td>MJO</td>\n    </tr>\n    <tr>\n      <th>uid-162513522884055541</th>\n      <td>1A914EAC99CE2399BFB1C60E70BFB0B81475AF25694CF8...</td>\n      <td>J59C</td>\n      <td>-0.636043</td>\n      <td>OTX.clearDtcs</td>\n      <td>2021-07-01 10:28:06.506000+00:00</td>\n      <td>2021</td>\n      <td>7</td>\n      <td>3</td>\n      <td>26</td>\n      <td>-0.284041</td>\n      <td>-0.617521</td>\n      <td>Summer</td>\n      <td>PSM</td>\n      <td>B1B4849</td>\n      <td>8</td>\n      <td>-0.629484</td>\n      <td>-0.636354</td>\n      <td>2528</td>\n      <td>MJO</td>\n    </tr>\n    <tr>\n      <th>uid-162513522884055541</th>\n      <td>1A914EAC99CE2399BFB1C60E70BFB0B81475AF25694CF8...</td>\n      <td>J59C</td>\n      <td>-0.636043</td>\n      <td>OTX.clearDtcs</td>\n      <td>2021-07-01 10:28:06.506000+00:00</td>\n      <td>2021</td>\n      <td>7</td>\n      <td>3</td>\n      <td>26</td>\n      <td>-0.284041</td>\n      <td>-0.617521</td>\n      <td>Summer</td>\n      <td>VCM</td>\n      <td>B1B4849</td>\n      <td>8</td>\n      <td>-0.629484</td>\n      <td>-0.636354</td>\n      <td>2528</td>\n      <td>MJO</td>\n    </tr>\n    <tr>\n      <th>uid-162513522884055541</th>\n      <td>1A914EAC99CE2399BFB1C60E70BFB0B81475AF25694CF8...</td>\n      <td>J59C</td>\n      <td>-0.636043</td>\n      <td>OTX.clearDtcs</td>\n      <td>2021-07-01 10:28:06.506000+00:00</td>\n      <td>2021</td>\n      <td>7</td>\n      <td>3</td>\n      <td>26</td>\n      <td>-0.284041</td>\n      <td>-0.617521</td>\n      <td>Summer</td>\n      <td>PSM</td>\n      <td>B1B4649</td>\n      <td>8</td>\n      <td>-0.629484</td>\n      <td>-0.636354</td>\n      <td>2528</td>\n      <td>MJO</td>\n    </tr>\n  </tbody>\n</table>\n<p>6632 rows × 19 columns</p>\n</div>"
     },
     "execution_count": 14,
     "metadata": {},
     "output_type": "execute_result"
    }
   ],
   "source": [
    "data_scaler = StandardScaler()\n",
    "data[['elapsedTimeSec', 'timeSinceLastActivitySec', 'ODO', 'dtcODO', 'C_ODO_VALUE']] = data_scaler.fit_transform(data[['elapsedTimeSec', 'timeSinceLastActivitySec', 'ODO', 'dtcODO', 'C_ODO_VALUE']])\n",
    "data"
   ],
   "metadata": {
    "collapsed": false,
    "ExecuteTime": {
     "start_time": "2023-07-18T17:07:48.275062Z",
     "end_time": "2023-07-18T17:07:48.425039Z"
    }
   }
  },
  {
   "cell_type": "markdown",
   "source": [
    "## Data Encoding: Encode Categorical Features\n",
    "\n",
    "We conduct Binary Encoding for categorical variables. The model will require numerical input, and encoding will convert our categorical variables into a numerical format that our model can process.\n",
    "\n",
    "In this step, we are using binary encoding to convert categorical variables into a form that can be provided to our model to improve its performance. The categorical variables being encoded include 'project', 'activityName', 'odxShortName', 'FullCode', 'StatusCode', 'dealerCode', and 'distributorCode'.\n",
    "\n",
    "Binary encoding is a combination of Hash encoding and one-hot encoding. In binary encoding, first the categories are encoded as ordinal, then those integers are converted into binary code, then the digits from that binary string are split into separate columns. This makes binary encoding more space efficient than one-hot encoding, especially for high cardinality variables.\n",
    "\n",
    "We are using the category_encoders' BinaryEncoder for this task. The 'return_df' parameter is set to True which means the method will return a pandas DataFrame.\n"
   ],
   "metadata": {
    "collapsed": false
   }
  },
  {
   "cell_type": "code",
   "execution_count": 15,
   "outputs": [
    {
     "data": {
      "text/plain": "                                                                      vin  \\\nconsultationId                                                              \nuid-162509762110151072  1A914EAC99CE2399BFB1C60E70BFB0B81475AF25694CF8...   \nuid-162509762110151072  1A914EAC99CE2399BFB1C60E70BFB0B81475AF25694CF8...   \nuid-162509762110151072  1A914EAC99CE2399BFB1C60E70BFB0B81475AF25694CF8...   \nuid-162509762110151072  1A914EAC99CE2399BFB1C60E70BFB0B81475AF25694CF8...   \nuid-162509762110151072  1A914EAC99CE2399BFB1C60E70BFB0B81475AF25694CF8...   \n...                                                                   ...   \nuid-162513522884055541  1A914EAC99CE2399BFB1C60E70BFB0B81475AF25694CF8...   \nuid-162513522884055541  1A914EAC99CE2399BFB1C60E70BFB0B81475AF25694CF8...   \nuid-162513522884055541  1A914EAC99CE2399BFB1C60E70BFB0B81475AF25694CF8...   \nuid-162513522884055541  1A914EAC99CE2399BFB1C60E70BFB0B81475AF25694CF8...   \nuid-162513522884055541  1A914EAC99CE2399BFB1C60E70BFB0B81475AF25694CF8...   \n\n                        project_0  project_1  project_2       ODO  \\\nconsultationId                                                      \nuid-162509762110151072          0          0          1  1.760231   \nuid-162509762110151072          0          0          1  1.760231   \nuid-162509762110151072          0          0          1  1.760231   \nuid-162509762110151072          0          0          1  1.760231   \nuid-162509762110151072          0          0          1  1.760231   \n...                           ...        ...        ...       ...   \nuid-162513522884055541          0          0          1 -0.636043   \nuid-162513522884055541          0          0          1 -0.636043   \nuid-162513522884055541          0          0          1 -0.636043   \nuid-162513522884055541          0          0          1 -0.636043   \nuid-162513522884055541          0          0          1 -0.636043   \n\n                        activityName_0  activityName_1  activityName_2  \\\nconsultationId                                                           \nuid-162509762110151072               0               0               0   \nuid-162509762110151072               0               0               0   \nuid-162509762110151072               0               0               0   \nuid-162509762110151072               0               0               0   \nuid-162509762110151072               0               0               0   \n...                                ...             ...             ...   \nuid-162513522884055541               0               0               0   \nuid-162513522884055541               0               0               0   \nuid-162513522884055541               0               0               0   \nuid-162513522884055541               0               0               0   \nuid-162513522884055541               0               0               0   \n\n                        activityName_3  activityName_4  ...  C_ODO_VALUE  \\\nconsultationId                                          ...                \nuid-162509762110151072               0               0  ...     1.760069   \nuid-162509762110151072               0               0  ...     1.760069   \nuid-162509762110151072               0               0  ...     1.760069   \nuid-162509762110151072               0               0  ...     1.760069   \nuid-162509762110151072               0               0  ...     1.760069   \n...                                ...             ...  ...          ...   \nuid-162513522884055541               0               0  ...    -0.636354   \nuid-162513522884055541               0               0  ...    -0.636354   \nuid-162513522884055541               0               0  ...    -0.636354   \nuid-162513522884055541               0               0  ...    -0.636354   \nuid-162513522884055541               0               0  ...    -0.636354   \n\n                        dealerCode_0 dealerCode_1 dealerCode_2  dealerCode_3  \\\nconsultationId                                                                 \nuid-162509762110151072             0            0            0             0   \nuid-162509762110151072             0            0            0             0   \nuid-162509762110151072             0            0            0             0   \nuid-162509762110151072             0            0            0             0   \nuid-162509762110151072             0            0            0             0   \n...                              ...          ...          ...           ...   \nuid-162513522884055541             0            0            1             0   \nuid-162513522884055541             0            0            1             0   \nuid-162513522884055541             0            0            1             0   \nuid-162513522884055541             0            0            1             0   \nuid-162513522884055541             0            0            1             0   \n\n                        dealerCode_4  dealerCode_5  distributorCode_0  \\\nconsultationId                                                          \nuid-162509762110151072             0             1                  0   \nuid-162509762110151072             0             1                  0   \nuid-162509762110151072             0             1                  0   \nuid-162509762110151072             0             1                  0   \nuid-162509762110151072             0             1                  0   \n...                              ...           ...                ...   \nuid-162513522884055541             0             0                  0   \nuid-162513522884055541             0             0                  0   \nuid-162513522884055541             0             0                  0   \nuid-162513522884055541             0             0                  0   \nuid-162513522884055541             0             0                  0   \n\n                        distributorCode_1  distributorCode_2  \nconsultationId                                                \nuid-162509762110151072                  0                  1  \nuid-162509762110151072                  0                  1  \nuid-162509762110151072                  0                  1  \nuid-162509762110151072                  0                  1  \nuid-162509762110151072                  0                  1  \n...                                   ...                ...  \nuid-162513522884055541                  0                  1  \nuid-162513522884055541                  0                  1  \nuid-162513522884055541                  0                  1  \nuid-162513522884055541                  0                  1  \nuid-162513522884055541                  0                  1  \n\n[6632 rows x 50 columns]",
      "text/html": "<div>\n<style scoped>\n    .dataframe tbody tr th:only-of-type {\n        vertical-align: middle;\n    }\n\n    .dataframe tbody tr th {\n        vertical-align: top;\n    }\n\n    .dataframe thead th {\n        text-align: right;\n    }\n</style>\n<table border=\"1\" class=\"dataframe\">\n  <thead>\n    <tr style=\"text-align: right;\">\n      <th></th>\n      <th>vin</th>\n      <th>project_0</th>\n      <th>project_1</th>\n      <th>project_2</th>\n      <th>ODO</th>\n      <th>activityName_0</th>\n      <th>activityName_1</th>\n      <th>activityName_2</th>\n      <th>activityName_3</th>\n      <th>activityName_4</th>\n      <th>...</th>\n      <th>C_ODO_VALUE</th>\n      <th>dealerCode_0</th>\n      <th>dealerCode_1</th>\n      <th>dealerCode_2</th>\n      <th>dealerCode_3</th>\n      <th>dealerCode_4</th>\n      <th>dealerCode_5</th>\n      <th>distributorCode_0</th>\n      <th>distributorCode_1</th>\n      <th>distributorCode_2</th>\n    </tr>\n    <tr>\n      <th>consultationId</th>\n      <th></th>\n      <th></th>\n      <th></th>\n      <th></th>\n      <th></th>\n      <th></th>\n      <th></th>\n      <th></th>\n      <th></th>\n      <th></th>\n      <th></th>\n      <th></th>\n      <th></th>\n      <th></th>\n      <th></th>\n      <th></th>\n      <th></th>\n      <th></th>\n      <th></th>\n      <th></th>\n      <th></th>\n    </tr>\n  </thead>\n  <tbody>\n    <tr>\n      <th>uid-162509762110151072</th>\n      <td>1A914EAC99CE2399BFB1C60E70BFB0B81475AF25694CF8...</td>\n      <td>0</td>\n      <td>0</td>\n      <td>1</td>\n      <td>1.760231</td>\n      <td>0</td>\n      <td>0</td>\n      <td>0</td>\n      <td>0</td>\n      <td>0</td>\n      <td>...</td>\n      <td>1.760069</td>\n      <td>0</td>\n      <td>0</td>\n      <td>0</td>\n      <td>0</td>\n      <td>0</td>\n      <td>1</td>\n      <td>0</td>\n      <td>0</td>\n      <td>1</td>\n    </tr>\n    <tr>\n      <th>uid-162509762110151072</th>\n      <td>1A914EAC99CE2399BFB1C60E70BFB0B81475AF25694CF8...</td>\n      <td>0</td>\n      <td>0</td>\n      <td>1</td>\n      <td>1.760231</td>\n      <td>0</td>\n      <td>0</td>\n      <td>0</td>\n      <td>0</td>\n      <td>0</td>\n      <td>...</td>\n      <td>1.760069</td>\n      <td>0</td>\n      <td>0</td>\n      <td>0</td>\n      <td>0</td>\n      <td>0</td>\n      <td>1</td>\n      <td>0</td>\n      <td>0</td>\n      <td>1</td>\n    </tr>\n    <tr>\n      <th>uid-162509762110151072</th>\n      <td>1A914EAC99CE2399BFB1C60E70BFB0B81475AF25694CF8...</td>\n      <td>0</td>\n      <td>0</td>\n      <td>1</td>\n      <td>1.760231</td>\n      <td>0</td>\n      <td>0</td>\n      <td>0</td>\n      <td>0</td>\n      <td>0</td>\n      <td>...</td>\n      <td>1.760069</td>\n      <td>0</td>\n      <td>0</td>\n      <td>0</td>\n      <td>0</td>\n      <td>0</td>\n      <td>1</td>\n      <td>0</td>\n      <td>0</td>\n      <td>1</td>\n    </tr>\n    <tr>\n      <th>uid-162509762110151072</th>\n      <td>1A914EAC99CE2399BFB1C60E70BFB0B81475AF25694CF8...</td>\n      <td>0</td>\n      <td>0</td>\n      <td>1</td>\n      <td>1.760231</td>\n      <td>0</td>\n      <td>0</td>\n      <td>0</td>\n      <td>0</td>\n      <td>0</td>\n      <td>...</td>\n      <td>1.760069</td>\n      <td>0</td>\n      <td>0</td>\n      <td>0</td>\n      <td>0</td>\n      <td>0</td>\n      <td>1</td>\n      <td>0</td>\n      <td>0</td>\n      <td>1</td>\n    </tr>\n    <tr>\n      <th>uid-162509762110151072</th>\n      <td>1A914EAC99CE2399BFB1C60E70BFB0B81475AF25694CF8...</td>\n      <td>0</td>\n      <td>0</td>\n      <td>1</td>\n      <td>1.760231</td>\n      <td>0</td>\n      <td>0</td>\n      <td>0</td>\n      <td>0</td>\n      <td>0</td>\n      <td>...</td>\n      <td>1.760069</td>\n      <td>0</td>\n      <td>0</td>\n      <td>0</td>\n      <td>0</td>\n      <td>0</td>\n      <td>1</td>\n      <td>0</td>\n      <td>0</td>\n      <td>1</td>\n    </tr>\n    <tr>\n      <th>...</th>\n      <td>...</td>\n      <td>...</td>\n      <td>...</td>\n      <td>...</td>\n      <td>...</td>\n      <td>...</td>\n      <td>...</td>\n      <td>...</td>\n      <td>...</td>\n      <td>...</td>\n      <td>...</td>\n      <td>...</td>\n      <td>...</td>\n      <td>...</td>\n      <td>...</td>\n      <td>...</td>\n      <td>...</td>\n      <td>...</td>\n      <td>...</td>\n      <td>...</td>\n      <td>...</td>\n    </tr>\n    <tr>\n      <th>uid-162513522884055541</th>\n      <td>1A914EAC99CE2399BFB1C60E70BFB0B81475AF25694CF8...</td>\n      <td>0</td>\n      <td>0</td>\n      <td>1</td>\n      <td>-0.636043</td>\n      <td>0</td>\n      <td>0</td>\n      <td>0</td>\n      <td>0</td>\n      <td>0</td>\n      <td>...</td>\n      <td>-0.636354</td>\n      <td>0</td>\n      <td>0</td>\n      <td>1</td>\n      <td>0</td>\n      <td>0</td>\n      <td>0</td>\n      <td>0</td>\n      <td>0</td>\n      <td>1</td>\n    </tr>\n    <tr>\n      <th>uid-162513522884055541</th>\n      <td>1A914EAC99CE2399BFB1C60E70BFB0B81475AF25694CF8...</td>\n      <td>0</td>\n      <td>0</td>\n      <td>1</td>\n      <td>-0.636043</td>\n      <td>0</td>\n      <td>0</td>\n      <td>0</td>\n      <td>0</td>\n      <td>0</td>\n      <td>...</td>\n      <td>-0.636354</td>\n      <td>0</td>\n      <td>0</td>\n      <td>1</td>\n      <td>0</td>\n      <td>0</td>\n      <td>0</td>\n      <td>0</td>\n      <td>0</td>\n      <td>1</td>\n    </tr>\n    <tr>\n      <th>uid-162513522884055541</th>\n      <td>1A914EAC99CE2399BFB1C60E70BFB0B81475AF25694CF8...</td>\n      <td>0</td>\n      <td>0</td>\n      <td>1</td>\n      <td>-0.636043</td>\n      <td>0</td>\n      <td>0</td>\n      <td>0</td>\n      <td>0</td>\n      <td>0</td>\n      <td>...</td>\n      <td>-0.636354</td>\n      <td>0</td>\n      <td>0</td>\n      <td>1</td>\n      <td>0</td>\n      <td>0</td>\n      <td>0</td>\n      <td>0</td>\n      <td>0</td>\n      <td>1</td>\n    </tr>\n    <tr>\n      <th>uid-162513522884055541</th>\n      <td>1A914EAC99CE2399BFB1C60E70BFB0B81475AF25694CF8...</td>\n      <td>0</td>\n      <td>0</td>\n      <td>1</td>\n      <td>-0.636043</td>\n      <td>0</td>\n      <td>0</td>\n      <td>0</td>\n      <td>0</td>\n      <td>0</td>\n      <td>...</td>\n      <td>-0.636354</td>\n      <td>0</td>\n      <td>0</td>\n      <td>1</td>\n      <td>0</td>\n      <td>0</td>\n      <td>0</td>\n      <td>0</td>\n      <td>0</td>\n      <td>1</td>\n    </tr>\n    <tr>\n      <th>uid-162513522884055541</th>\n      <td>1A914EAC99CE2399BFB1C60E70BFB0B81475AF25694CF8...</td>\n      <td>0</td>\n      <td>0</td>\n      <td>1</td>\n      <td>-0.636043</td>\n      <td>0</td>\n      <td>0</td>\n      <td>0</td>\n      <td>0</td>\n      <td>0</td>\n      <td>...</td>\n      <td>-0.636354</td>\n      <td>0</td>\n      <td>0</td>\n      <td>1</td>\n      <td>0</td>\n      <td>0</td>\n      <td>0</td>\n      <td>0</td>\n      <td>0</td>\n      <td>1</td>\n    </tr>\n  </tbody>\n</table>\n<p>6632 rows × 50 columns</p>\n</div>"
     },
     "execution_count": 15,
     "metadata": {},
     "output_type": "execute_result"
    }
   ],
   "source": [
    "encoder = ce.BinaryEncoder(cols = ['project', 'activityName', 'odxShortName', 'FullCode', 'StatusCode', 'dealerCode', 'distributorCode', 'dayOfWeek', 'weekOfYear', 'month', 'season'], return_df = True)\n",
    "encoded_data = encoder.fit_transform(data)\n",
    "encoded_data"
   ],
   "metadata": {
    "collapsed": false,
    "ExecuteTime": {
     "start_time": "2023-07-18T17:07:48.350039Z",
     "end_time": "2023-07-18T17:07:49.485935Z"
    }
   }
  },
  {
   "cell_type": "markdown",
   "source": [
    "## Save Preprocessed Data\n",
    "Here we are saving the preprocessed data into a CSV file in the 'data' directory. The index=True parameter ensures that the index column is saved in the CSV file."
   ],
   "metadata": {
    "collapsed": false
   }
  },
  {
   "cell_type": "code",
   "execution_count": 16,
   "outputs": [],
   "source": [
    "data.to_csv('data/preprocessed_data.csv', index=True)\n",
    "encoded_data.to_csv('data/encoded_preprocessed_data.csv', index=True)"
   ],
   "metadata": {
    "collapsed": false,
    "ExecuteTime": {
     "start_time": "2023-07-18T17:07:48.850571Z",
     "end_time": "2023-07-18T17:07:50.007656Z"
    }
   }
  }
 ],
 "metadata": {
  "kernelspec": {
   "display_name": "Python 3 (ipykernel)",
   "language": "python",
   "name": "python3"
  },
  "language_info": {
   "codemirror_mode": {
    "name": "ipython",
    "version": 3
   },
   "file_extension": ".py",
   "mimetype": "text/x-python",
   "name": "python",
   "nbconvert_exporter": "python",
   "pygments_lexer": "ipython3",
   "version": "3.10.9"
  }
 },
 "nbformat": 4,
 "nbformat_minor": 5
}
