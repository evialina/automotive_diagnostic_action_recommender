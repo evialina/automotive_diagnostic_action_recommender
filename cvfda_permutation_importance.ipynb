{
 "cells": [
  {
   "cell_type": "code",
   "execution_count": 1,
   "metadata": {
    "collapsed": true,
    "ExecuteTime": {
     "start_time": "2023-08-08T12:17:19.908742Z",
     "end_time": "2023-08-08T12:17:38.859713Z"
    }
   },
   "outputs": [
    {
     "name": "stderr",
     "output_type": "stream",
     "text": [
      "2023-08-08 12:17:27.527138: I tensorflow/core/platform/cpu_feature_guard.cc:182] This TensorFlow binary is optimized to use available CPU instructions in performance-critical operations.\n",
      "To enable the following instructions: AVX2 FMA, in other operations, rebuild TensorFlow with the appropriate compiler flags.\n"
     ]
    }
   ],
   "source": [
    "import keras\n",
    "import numpy as np\n",
    "from sklearn.preprocessing import LabelEncoder\n",
    "from sklearn.metrics import f1_score\n",
    "from cvf_da_model import encode_categorical_features, CATEGORICAL_FEATURES, NUMERICAL_FEATURES\n",
    "from data_preprocessing import process_data_for_training\n",
    "from sklearn.utils import shuffle"
   ]
  },
  {
   "cell_type": "markdown",
   "source": [
    "## Compute CVF-DA Model's Permutation Importance"
   ],
   "metadata": {
    "collapsed": false
   }
  },
  {
   "cell_type": "code",
   "execution_count": 12,
   "outputs": [],
   "source": [
    "# Load the trained model\n",
    "cvf_da_model = keras.models.load_model('out/models/cvf_da_20230808_113839.keras')"
   ],
   "metadata": {
    "collapsed": false,
    "ExecuteTime": {
     "start_time": "2023-08-08T13:42:18.792055Z",
     "end_time": "2023-08-08T13:42:20.960722Z"
    }
   }
  },
  {
   "cell_type": "code",
   "execution_count": null,
   "outputs": [
    {
     "name": "stdout",
     "output_type": "stream",
     "text": [
      "test_data/recommender_testing_data2.csv - Data import complete\n",
      "\n",
      "test_data/recommender_testing_data2.csv - Diagnostic consultation initiated\n",
      "\n",
      "test_data/recommender_testing_data2.csv - Vehicle state data derived\n",
      "\n"
     ]
    }
   ],
   "source": [
    "# Prepare data that we are evaluating with\n",
    "prepared_data = process_data_for_training('test_data/recommender_testing_data2.csv')\n",
    "prepared_data = encode_categorical_features(prepared_data, LabelEncoder())\n",
    "prepared_data_input = [prepared_data[feature].values for feature in CATEGORICAL_FEATURES] + \\\n",
    "                      [prepared_data[NUMERICAL_FEATURES].values]"
   ],
   "metadata": {
    "collapsed": false,
    "ExecuteTime": {
     "start_time": "2023-08-08T13:42:20.965194Z",
     "end_time": "2023-08-08T13:42:21.210663Z"
    },
    "pycharm": {
     "is_executing": true
    }
   }
  },
  {
   "cell_type": "code",
   "execution_count": null,
   "outputs": [],
   "source": [
    "# Get the original predictions and compute original performance\n",
    "original_predictions = cvf_da_model.predict(prepared_data_input)\n",
    "original_class_predictions = np.argmax(original_predictions, axis=1)\n",
    "original_f1 = f1_score(original_class_predictions, np.argmax(original_predictions, axis=1), average='weighted')\n",
    "\n",
    "original_predictions"
   ],
   "metadata": {
    "collapsed": false,
    "ExecuteTime": {
     "start_time": "2023-08-08T13:42:22.300145Z",
     "end_time": "2023-08-08T13:42:23.479207Z"
    },
    "pycharm": {
     "is_executing": true
    }
   }
  },
  {
   "cell_type": "code",
   "execution_count": 16,
   "outputs": [
    {
     "name": "stdout",
     "output_type": "stream",
     "text": [
      "1/1 [==============================] - 0s 83ms/step\n",
      "Feature: model, Shuffled F1: 1.0\n",
      "1/1 [==============================] - 0s 92ms/step\n",
      "Feature: modelyear, Shuffled F1: 1.0\n",
      "1/1 [==============================] - 0s 93ms/step\n",
      "Feature: driver, Shuffled F1: 1.0\n",
      "1/1 [==============================] - 0s 75ms/step\n",
      "Feature: plant, Shuffled F1: 1.0\n",
      "1/1 [==============================] - 0s 72ms/step\n",
      "Feature: engine, Shuffled F1: 1.0\n",
      "1/1 [==============================] - 0s 69ms/step\n",
      "Feature: transmission, Shuffled F1: 1.0\n",
      "1/1 [==============================] - 0s 68ms/step\n",
      "Feature: module, Shuffled F1: 1.0\n",
      "1/1 [==============================] - 0s 67ms/step\n",
      "Feature: dtcbase, Shuffled F1: 1.0\n",
      "1/1 [==============================] - 0s 66ms/step\n",
      "Feature: faulttype, Shuffled F1: 1.0\n",
      "1/1 [==============================] - 0s 68ms/step\n",
      "Feature: dtcfull, Shuffled F1: 1.0\n",
      "1/1 [==============================] - 0s 63ms/step\n",
      "Feature: year, Shuffled F1: 1.0\n",
      "1/1 [==============================] - 0s 65ms/step\n",
      "Feature: month, Shuffled F1: 1.0\n",
      "1/1 [==============================] - 0s 62ms/step\n",
      "Feature: dayOfWeek, Shuffled F1: 1.0\n",
      "1/1 [==============================] - 0s 64ms/step\n",
      "Feature: weekOfYear, Shuffled F1: 1.0\n",
      "1/1 [==============================] - 0s 66ms/step\n",
      "Feature: season, Shuffled F1: 1.0\n",
      "1/1 [==============================] - 0s 61ms/step\n",
      "Feature: i_original_vfg_code, Shuffled F1: 1.0\n",
      "1/1 [==============================] - 0s 67ms/step\n",
      "Feature: softwarepartnumber, Shuffled F1: 1.0\n",
      "1/1 [==============================] - 0s 65ms/step\n",
      "Feature: hardwarepartnumber, Shuffled F1: 1.0\n",
      "1/1 [==============================] - 0s 66ms/step\n",
      "Feature: i_p_css_code, Shuffled F1: 1.0\n",
      "1/1 [==============================] - 0s 65ms/step\n",
      "Feature: i_original_ccc_code, Shuffled F1: 1.0\n",
      "1/1 [==============================] - 0s 64ms/step\n",
      "Feature: i_original_function_code, Shuffled F1: 1.0\n",
      "1/1 [==============================] - 0s 64ms/step\n",
      "Feature: i_original_vrt_code, Shuffled F1: 1.0\n",
      "1/1 [==============================] - 0s 65ms/step\n",
      "Feature: i_current_vfg_code, Shuffled F1: 1.0\n",
      "1/1 [==============================] - 0s 67ms/step\n",
      "Feature: i_current_function_code, Shuffled F1: 1.0\n",
      "1/1 [==============================] - 0s 67ms/step\n",
      "Feature: i_current_vrt_code, Shuffled F1: 1.0\n",
      "1/1 [==============================] - 0s 70ms/step\n",
      "Feature: i_cpsc_code, Shuffled F1: 1.0\n",
      "1/1 [==============================] - 0s 67ms/step\n",
      "Feature: i_cpsc_vfg_code, Shuffled F1: 1.0\n",
      "1/1 [==============================] - 0s 69ms/step\n",
      "Feature: i_css_code, Shuffled F1: 1.0\n",
      "1/1 [==============================] - 0s 73ms/step\n",
      "Feature: v_transmission_code, Shuffled F1: 1.0\n",
      "1/1 [==============================] - 0s 87ms/step\n",
      "Feature: v_drive_code, Shuffled F1: 1.0\n",
      "1/1 [==============================] - 0s 73ms/step\n",
      "Feature: v_engine_code, Shuffled F1: 1.0\n",
      "1/1 [==============================] - 0s 64ms/step\n",
      "Feature: ic_repair_dealer_id, Shuffled F1: 1.0\n",
      "1/1 [==============================] - 0s 65ms/step\n",
      "Feature: ic_eng_part_number, Shuffled F1: 1.0\n",
      "1/1 [==============================] - 0s 80ms/step\n",
      "Feature: ic_serv_part_number, Shuffled F1: 1.0\n",
      "1/1 [==============================] - 0s 69ms/step\n",
      "Feature: ic_part_suffix, Shuffled F1: 1.0\n",
      "1/1 [==============================] - 0s 67ms/step\n",
      "Feature: ic_part_base, Shuffled F1: 1.0\n",
      "1/1 [==============================] - 0s 67ms/step\n",
      "Feature: ic_part_prefix, Shuffled F1: 1.0\n",
      "1/1 [==============================] - 0s 67ms/step\n",
      "Feature: ic_causal_part_id, Shuffled F1: 1.0\n",
      "1/1 [==============================] - 0s 67ms/step\n",
      "Feature: ic_repair_country_code, Shuffled F1: 1.0\n",
      "1/1 [==============================] - 0s 67ms/step\n",
      "Feature: elapsedTimeSec, Shuffled F1: 1.0\n",
      "1/1 [==============================] - 0s 67ms/step\n",
      "Feature: timeSinceLastActivitySec, Shuffled F1: 1.0\n",
      "1/1 [==============================] - 0s 69ms/step\n",
      "Feature: odomiles, Shuffled F1: 1.0\n",
      "1/1 [==============================] - 0s 74ms/step\n",
      "Feature: vehicleAgeAtSession, Shuffled F1: 1.0\n",
      "1/1 [==============================] - 0s 73ms/step\n",
      "Feature: daysSinceWarrantyStart, Shuffled F1: 1.0\n",
      "1/1 [==============================] - 0s 72ms/step\n",
      "Feature: i_mileage, Shuffled F1: 1.0\n",
      "1/1 [==============================] - 0s 82ms/step\n",
      "Feature: i_time_in_service, Shuffled F1: 1.0\n",
      "1/1 [==============================] - 0s 87ms/step\n",
      "Feature: i_months_in_service, Shuffled F1: 1.0\n"
     ]
    }
   ],
   "source": [
    "# For storing the drop in performance for each feature\n",
    "importance_scores = {}\n",
    "\n",
    "# Compute Permutation Importance for each feature\n",
    "for feature in CATEGORICAL_FEATURES + NUMERICAL_FEATURES:\n",
    "    shuffled_data = prepared_data.copy()\n",
    "    shuffled_data[feature] = shuffle(shuffled_data[feature].values)\n",
    "\n",
    "    shuffled_data_input = [shuffled_data[f].values for f in CATEGORICAL_FEATURES] + \\\n",
    "                          [shuffled_data[NUMERICAL_FEATURES].values]\n",
    "\n",
    "    # Get predictions on shuffled data\n",
    "    shuffled_predictions = cvf_da_model.predict(shuffled_data_input)\n",
    "    shuffled_class_predictions = np.argmax(shuffled_predictions, axis=1)\n",
    "\n",
    "    # Compute drop in performance using F1 score with weighted average\n",
    "    shuffled_f1 = f1_score(shuffled_class_predictions, np.argmax(original_predictions, axis=1), average='weighted')\n",
    "    drop_in_f1 = original_f1 - shuffled_f1\n",
    "    print(f\"Feature: {feature}, Shuffled F1: {shuffled_f1}\")\n",
    "    importance_scores[feature] = drop_in_f1"
   ],
   "metadata": {
    "collapsed": false,
    "ExecuteTime": {
     "start_time": "2023-08-08T13:42:49.804192Z",
     "end_time": "2023-08-08T13:43:01.214658Z"
    }
   }
  },
  {
   "cell_type": "code",
   "execution_count": 18,
   "outputs": [
    {
     "name": "stdout",
     "output_type": "stream",
     "text": [
      "model: 0.0\n",
      "modelyear: 0.0\n",
      "driver: 0.0\n",
      "plant: 0.0\n",
      "engine: 0.0\n",
      "transmission: 0.0\n",
      "module: 0.0\n",
      "dtcbase: 0.0\n",
      "faulttype: 0.0\n",
      "dtcfull: 0.0\n",
      "year: 0.0\n",
      "month: 0.0\n",
      "dayOfWeek: 0.0\n",
      "weekOfYear: 0.0\n",
      "season: 0.0\n",
      "i_original_vfg_code: 0.0\n",
      "softwarepartnumber: 0.0\n",
      "hardwarepartnumber: 0.0\n",
      "i_p_css_code: 0.0\n",
      "i_original_ccc_code: 0.0\n",
      "i_original_function_code: 0.0\n",
      "i_original_vrt_code: 0.0\n",
      "i_current_vfg_code: 0.0\n",
      "i_current_function_code: 0.0\n",
      "i_current_vrt_code: 0.0\n",
      "i_cpsc_code: 0.0\n",
      "i_cpsc_vfg_code: 0.0\n",
      "i_css_code: 0.0\n",
      "v_transmission_code: 0.0\n",
      "v_drive_code: 0.0\n",
      "v_engine_code: 0.0\n",
      "ic_repair_dealer_id: 0.0\n",
      "ic_eng_part_number: 0.0\n",
      "ic_serv_part_number: 0.0\n",
      "ic_part_suffix: 0.0\n",
      "ic_part_base: 0.0\n",
      "ic_part_prefix: 0.0\n",
      "ic_causal_part_id: 0.0\n",
      "ic_repair_country_code: 0.0\n",
      "elapsedTimeSec: 0.0\n",
      "timeSinceLastActivitySec: 0.0\n",
      "odomiles: 0.0\n",
      "vehicleAgeAtSession: 0.0\n",
      "daysSinceWarrantyStart: 0.0\n",
      "i_mileage: 0.0\n",
      "i_time_in_service: 0.0\n",
      "i_months_in_service: 0.0\n"
     ]
    }
   ],
   "source": [
    "# Print out importance scores\n",
    "sorted_importances = sorted(importance_scores.items(), key=lambda x: x[1], reverse=True)\n",
    "for feature, score in sorted_importances:\n",
    "    print(f\"{feature}: {score}\")"
   ],
   "metadata": {
    "collapsed": false,
    "ExecuteTime": {
     "start_time": "2023-08-08T13:43:09.013078Z",
     "end_time": "2023-08-08T13:43:09.024646Z"
    }
   }
  }
 ],
 "metadata": {
  "kernelspec": {
   "display_name": "Python 3",
   "language": "python",
   "name": "python3"
  },
  "language_info": {
   "codemirror_mode": {
    "name": "ipython",
    "version": 2
   },
   "file_extension": ".py",
   "mimetype": "text/x-python",
   "name": "python",
   "nbconvert_exporter": "python",
   "pygments_lexer": "ipython2",
   "version": "2.7.6"
  }
 },
 "nbformat": 4,
 "nbformat_minor": 0
}
