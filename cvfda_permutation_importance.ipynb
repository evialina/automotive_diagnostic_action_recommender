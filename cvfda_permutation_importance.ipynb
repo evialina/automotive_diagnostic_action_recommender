{
 "cells": [
  {
   "cell_type": "code",
   "execution_count": 1,
   "metadata": {
    "collapsed": true,
    "ExecuteTime": {
     "start_time": "2023-08-08T12:17:19.908742Z",
     "end_time": "2023-08-08T12:17:38.859713Z"
    }
   },
   "outputs": [
    {
     "name": "stderr",
     "output_type": "stream",
     "text": [
      "2023-08-08 12:17:27.527138: I tensorflow/core/platform/cpu_feature_guard.cc:182] This TensorFlow binary is optimized to use available CPU instructions in performance-critical operations.\n",
      "To enable the following instructions: AVX2 FMA, in other operations, rebuild TensorFlow with the appropriate compiler flags.\n"
     ]
    }
   ],
   "source": [
    "import keras\n",
    "import numpy as np\n",
    "from sklearn.preprocessing import LabelEncoder\n",
    "from sklearn.metrics import f1_score\n",
    "from cvf_da_model import encode_categorical_features, CATEGORICAL_FEATURES, NUMERICAL_FEATURES\n",
    "from data_preprocessing import process_data_for_training\n",
    "from sklearn.utils import shuffle"
   ]
  },
  {
   "cell_type": "markdown",
   "source": [
    "## Compute CVF-DA Model's Permutation Importance"
   ],
   "metadata": {
    "collapsed": false
   }
  },
  {
   "cell_type": "code",
   "execution_count": 20,
   "outputs": [],
   "source": [
    "# Load the trained model\n",
    "cvf_da_model = keras.models.load_model('out/models/cvf_da_fully_trained.keras')"
   ],
   "metadata": {
    "collapsed": false,
    "ExecuteTime": {
     "start_time": "2023-08-08T15:18:31.787699Z",
     "end_time": "2023-08-08T15:18:35.702675Z"
    }
   }
  },
  {
   "cell_type": "code",
   "execution_count": 22,
   "outputs": [
    {
     "name": "stdout",
     "output_type": "stream",
     "text": [
      "test_data/recommender_testing_data2.csv - Data import complete\n",
      "\n",
      "test_data/recommender_testing_data2.csv - Diagnostic consultation initiated\n",
      "\n",
      "test_data/recommender_testing_data2.csv - Vehicle state data derived\n",
      "\n",
      "test_data/recommender_testing_data2.csv - Diagnostic and warranty data merged\n",
      "\n",
      "test_data/recommender_testing_data2.csv - Temporal features derived\n",
      "\n",
      "There are no missing values in the DataFrame.\n",
      "Total number of records in the DataFrame: 17311\n",
      "test_data/recommender_testing_data2.csv - Missing values addressed\n",
      "\n",
      "Number of duplicate records removed: 0\n",
      "test_data/recommender_testing_data2.csv - Duplicates removed\n",
      "\n",
      "test_data/recommender_testing_data2.csv - Numerical data normalised\n",
      "\n"
     ]
    }
   ],
   "source": [
    "# Prepare data that we are evaluating with\n",
    "prepared_data = process_data_for_training('test_data/recommender_testing_data2.csv', 'test_data/continuous_learning_claims.csv')\n",
    "prepared_data = encode_categorical_features(prepared_data, LabelEncoder())\n",
    "prepared_data_input = [prepared_data[feature].values for feature in CATEGORICAL_FEATURES] + \\\n",
    "                      [prepared_data[NUMERICAL_FEATURES].values]"
   ],
   "metadata": {
    "collapsed": false,
    "ExecuteTime": {
     "start_time": "2023-08-08T15:19:39.300376Z",
     "end_time": "2023-08-08T15:20:38.431600Z"
    }
   }
  },
  {
   "cell_type": "code",
   "execution_count": 23,
   "outputs": [
    {
     "name": "stdout",
     "output_type": "stream",
     "text": [
      "541/541 [==============================] - 27s 47ms/step\n"
     ]
    },
    {
     "data": {
      "text/plain": "array([[2.74642080e-04, 3.33144931e-06, 6.48242831e-02, ...,\n        5.96736527e-08, 3.97920758e-06, 7.12803505e-09],\n       [4.14901551e-05, 1.77633821e-03, 4.62857857e-02, ...,\n        6.09815800e-07, 2.40562577e-03, 8.23548180e-06],\n       [3.46953639e-05, 1.56476090e-04, 1.68816432e-01, ...,\n        3.16750146e-07, 2.83305912e-04, 1.39949054e-06],\n       ...,\n       [1.01659188e-08, 2.80881753e-08, 3.91312460e-06, ...,\n        1.06174635e-11, 2.46548325e-06, 1.31194166e-12],\n       [3.24131179e-05, 1.39412470e-04, 3.36720841e-05, ...,\n        2.71309887e-06, 1.40130534e-04, 1.39366122e-07],\n       [2.05328862e-11, 9.38525126e-12, 2.96967007e-09, ...,\n        1.02661781e-12, 8.03336286e-11, 5.16221722e-13]], dtype=float32)"
     },
     "execution_count": 23,
     "metadata": {},
     "output_type": "execute_result"
    }
   ],
   "source": [
    "# Get the original predictions and compute original performance\n",
    "original_predictions = cvf_da_model.predict(prepared_data_input)\n",
    "original_class_predictions = np.argmax(original_predictions, axis=1)\n",
    "original_f1 = f1_score(original_class_predictions, np.argmax(original_predictions, axis=1), average='weighted')\n",
    "\n",
    "original_predictions"
   ],
   "metadata": {
    "collapsed": false,
    "ExecuteTime": {
     "start_time": "2023-08-08T15:21:32.555477Z",
     "end_time": "2023-08-08T15:22:00.143146Z"
    }
   }
  },
  {
   "cell_type": "code",
   "execution_count": 24,
   "outputs": [
    {
     "name": "stdout",
     "output_type": "stream",
     "text": [
      "541/541 [==============================] - 25s 47ms/step\n",
      "Feature: model, Shuffled F1: 0.8134043570914804\n",
      "541/541 [==============================] - 27s 50ms/step\n",
      "Feature: modelyear, Shuffled F1: 0.7221024231303808\n",
      "541/541 [==============================] - 29s 54ms/step\n",
      "Feature: driver, Shuffled F1: 0.8255924158520221\n",
      "541/541 [==============================] - 20s 36ms/step\n",
      "Feature: plant, Shuffled F1: 0.705882053423774\n",
      "541/541 [==============================] - 19s 35ms/step\n",
      "Feature: engine, Shuffled F1: 0.6370478821583078\n",
      "541/541 [==============================] - 19s 36ms/step\n",
      "Feature: transmission, Shuffled F1: 0.9878959324479679\n",
      "541/541 [==============================] - 19s 35ms/step\n",
      "Feature: module, Shuffled F1: 0.8176737309572158\n",
      "541/541 [==============================] - 19s 35ms/step\n",
      "Feature: dtcbase, Shuffled F1: 0.692011194696601\n",
      "541/541 [==============================] - 19s 34ms/step\n",
      "Feature: faulttype, Shuffled F1: 0.8849174182362952\n",
      "541/541 [==============================] - 19s 36ms/step\n",
      "Feature: dtcfull, Shuffled F1: 0.7766497859143233\n",
      "541/541 [==============================] - 19s 35ms/step\n",
      "Feature: year, Shuffled F1: 0.8246419447402729\n",
      "541/541 [==============================] - 19s 35ms/step\n",
      "Feature: month, Shuffled F1: 0.7340541138506639\n",
      "541/541 [==============================] - 19s 36ms/step\n",
      "Feature: dayOfWeek, Shuffled F1: 0.6102759309505019\n",
      "541/541 [==============================] - 19s 35ms/step\n",
      "Feature: weekOfYear, Shuffled F1: 0.564972850868265\n",
      "541/541 [==============================] - 19s 35ms/step\n",
      "Feature: season, Shuffled F1: 0.8848122410652328\n",
      "541/541 [==============================] - 19s 35ms/step\n",
      "Feature: i_original_vfg_code, Shuffled F1: 1.0\n",
      "541/541 [==============================] - 21s 39ms/step\n",
      "Feature: softwarepartnumber, Shuffled F1: 0.6263708306062661\n",
      "541/541 [==============================] - 23s 42ms/step\n",
      "Feature: hardwarepartnumber, Shuffled F1: 0.7839126596644349\n",
      "541/541 [==============================] - 21s 38ms/step\n",
      "Feature: i_p_css_code, Shuffled F1: 1.0\n",
      "541/541 [==============================] - 22s 41ms/step\n",
      "Feature: i_original_ccc_code, Shuffled F1: 1.0\n",
      "541/541 [==============================] - 27s 49ms/step\n",
      "Feature: i_original_function_code, Shuffled F1: 1.0\n",
      "541/541 [==============================] - 25s 45ms/step\n",
      "Feature: i_original_vrt_code, Shuffled F1: 1.0\n",
      "541/541 [==============================] - 26s 48ms/step\n",
      "Feature: i_current_vfg_code, Shuffled F1: 1.0\n",
      "541/541 [==============================] - 25s 45ms/step\n",
      "Feature: i_current_function_code, Shuffled F1: 1.0\n",
      "541/541 [==============================] - 21s 38ms/step\n",
      "Feature: i_current_vrt_code, Shuffled F1: 1.0\n",
      "541/541 [==============================] - 20s 37ms/step\n",
      "Feature: i_cpsc_code, Shuffled F1: 1.0\n",
      "541/541 [==============================] - 21s 39ms/step\n",
      "Feature: i_cpsc_vfg_code, Shuffled F1: 1.0\n",
      "541/541 [==============================] - 21s 38ms/step\n",
      "Feature: i_css_code, Shuffled F1: 1.0\n",
      "541/541 [==============================] - 20s 37ms/step\n",
      "Feature: v_transmission_code, Shuffled F1: 1.0\n",
      "541/541 [==============================] - 19s 36ms/step\n",
      "Feature: v_drive_code, Shuffled F1: 1.0\n",
      "541/541 [==============================] - 19s 36ms/step\n",
      "Feature: v_engine_code, Shuffled F1: 1.0\n",
      "541/541 [==============================] - 19s 36ms/step\n",
      "Feature: ic_repair_dealer_id, Shuffled F1: 1.0\n",
      "541/541 [==============================] - 21s 39ms/step\n",
      "Feature: ic_eng_part_number, Shuffled F1: 1.0\n",
      "541/541 [==============================] - 21s 39ms/step\n",
      "Feature: ic_serv_part_number, Shuffled F1: 1.0\n",
      "541/541 [==============================] - 33s 60ms/step\n",
      "Feature: ic_part_suffix, Shuffled F1: 1.0\n",
      "541/541 [==============================] - 27s 50ms/step\n",
      "Feature: ic_part_base, Shuffled F1: 1.0\n",
      "541/541 [==============================] - 21s 38ms/step\n",
      "Feature: ic_part_prefix, Shuffled F1: 1.0\n",
      "541/541 [==============================] - 20s 38ms/step\n",
      "Feature: ic_causal_part_id, Shuffled F1: 1.0\n",
      "541/541 [==============================] - 20s 38ms/step\n",
      "Feature: ic_repair_country_code, Shuffled F1: 1.0\n",
      "541/541 [==============================] - 21s 39ms/step\n",
      "Feature: elapsedTimeSec, Shuffled F1: 0.9177636073286928\n",
      "541/541 [==============================] - 21s 38ms/step\n",
      "Feature: timeSinceLastActivitySec, Shuffled F1: 0.9935037189016603\n",
      "541/541 [==============================] - 23s 42ms/step\n",
      "Feature: odomiles, Shuffled F1: 0.9354517001820548\n",
      "541/541 [==============================] - 21s 39ms/step\n",
      "Feature: vehicleAgeAtSession, Shuffled F1: 0.66450432631191\n",
      "541/541 [==============================] - 21s 39ms/step\n",
      "Feature: daysSinceWarrantyStart, Shuffled F1: 0.7118038051569991\n",
      "541/541 [==============================] - 21s 39ms/step\n",
      "Feature: i_mileage, Shuffled F1: 0.9169029982371455\n",
      "541/541 [==============================] - 21s 39ms/step\n",
      "Feature: i_time_in_service, Shuffled F1: 0.7842393679151274\n",
      "541/541 [==============================] - 22s 41ms/step\n",
      "Feature: i_months_in_service, Shuffled F1: 0.7608600682968452\n"
     ]
    }
   ],
   "source": [
    "# For storing the drop in performance for each feature\n",
    "importance_scores = {}\n",
    "\n",
    "# Compute Permutation Importance for each feature\n",
    "for feature in CATEGORICAL_FEATURES + NUMERICAL_FEATURES:\n",
    "    shuffled_data = prepared_data.copy()\n",
    "    shuffled_data[feature] = shuffle(shuffled_data[feature].values)\n",
    "\n",
    "    shuffled_data_input = [shuffled_data[f].values for f in CATEGORICAL_FEATURES] + \\\n",
    "                          [shuffled_data[NUMERICAL_FEATURES].values]\n",
    "\n",
    "    # Get predictions on shuffled data\n",
    "    shuffled_predictions = cvf_da_model.predict(shuffled_data_input)\n",
    "    shuffled_class_predictions = np.argmax(shuffled_predictions, axis=1)\n",
    "\n",
    "    # Compute drop in performance using F1 score with weighted average\n",
    "    shuffled_f1 = f1_score(shuffled_class_predictions, np.argmax(original_predictions, axis=1), average='weighted')\n",
    "    drop_in_f1 = original_f1 - shuffled_f1\n",
    "    print(f\"Feature: {feature}, Shuffled F1: {shuffled_f1}\")\n",
    "    importance_scores[feature] = drop_in_f1"
   ],
   "metadata": {
    "collapsed": false,
    "ExecuteTime": {
     "start_time": "2023-08-08T15:28:58.342438Z",
     "end_time": "2023-08-08T15:46:42.606066Z"
    }
   }
  },
  {
   "cell_type": "code",
   "execution_count": 25,
   "outputs": [
    {
     "name": "stdout",
     "output_type": "stream",
     "text": [
      "weekOfYear: 0.435027149131735\n",
      "dayOfWeek: 0.3897240690494981\n",
      "softwarepartnumber: 0.3736291693937339\n",
      "engine: 0.36295211784169223\n",
      "vehicleAgeAtSession: 0.33549567368808997\n",
      "dtcbase: 0.307988805303399\n",
      "plant: 0.29411794657622603\n",
      "daysSinceWarrantyStart: 0.28819619484300085\n",
      "modelyear: 0.27789757686961924\n",
      "month: 0.2659458861493361\n",
      "i_months_in_service: 0.23913993170315484\n",
      "dtcfull: 0.22335021408567668\n",
      "hardwarepartnumber: 0.2160873403355651\n",
      "i_time_in_service: 0.21576063208487262\n",
      "model: 0.1865956429085196\n",
      "module: 0.18232626904278415\n",
      "year: 0.17535805525972714\n",
      "driver: 0.17440758414797786\n",
      "season: 0.11518775893476718\n",
      "faulttype: 0.11508258176370478\n",
      "i_mileage: 0.0830970017628545\n",
      "elapsedTimeSec: 0.08223639267130722\n",
      "odomiles: 0.06454829981794519\n",
      "transmission: 0.012104067552032083\n",
      "timeSinceLastActivitySec: 0.006496281098339662\n",
      "i_original_vfg_code: 0.0\n",
      "i_p_css_code: 0.0\n",
      "i_original_ccc_code: 0.0\n",
      "i_original_function_code: 0.0\n",
      "i_original_vrt_code: 0.0\n",
      "i_current_vfg_code: 0.0\n",
      "i_current_function_code: 0.0\n",
      "i_current_vrt_code: 0.0\n",
      "i_cpsc_code: 0.0\n",
      "i_cpsc_vfg_code: 0.0\n",
      "i_css_code: 0.0\n",
      "v_transmission_code: 0.0\n",
      "v_drive_code: 0.0\n",
      "v_engine_code: 0.0\n",
      "ic_repair_dealer_id: 0.0\n",
      "ic_eng_part_number: 0.0\n",
      "ic_serv_part_number: 0.0\n",
      "ic_part_suffix: 0.0\n",
      "ic_part_base: 0.0\n",
      "ic_part_prefix: 0.0\n",
      "ic_causal_part_id: 0.0\n",
      "ic_repair_country_code: 0.0\n"
     ]
    }
   ],
   "source": [
    "# Print out importance scores\n",
    "sorted_importances = sorted(importance_scores.items(), key=lambda x: x[1], reverse=True)\n",
    "for feature, score in sorted_importances:\n",
    "    print(f\"{feature}: {score}\")"
   ],
   "metadata": {
    "collapsed": false,
    "ExecuteTime": {
     "start_time": "2023-08-08T15:53:44.917683Z",
     "end_time": "2023-08-08T15:53:44.959725Z"
    }
   }
  },
  {
   "cell_type": "code",
   "execution_count": null,
   "outputs": [],
   "source": [],
   "metadata": {
    "collapsed": false
   }
  }
 ],
 "metadata": {
  "kernelspec": {
   "display_name": "Python 3",
   "language": "python",
   "name": "python3"
  },
  "language_info": {
   "codemirror_mode": {
    "name": "ipython",
    "version": 2
   },
   "file_extension": ".py",
   "mimetype": "text/x-python",
   "name": "python",
   "nbconvert_exporter": "python",
   "pygments_lexer": "ipython2",
   "version": "2.7.6"
  }
 },
 "nbformat": 4,
 "nbformat_minor": 0
}
