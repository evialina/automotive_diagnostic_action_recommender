{
 "cells": [
  {
   "cell_type": "markdown",
   "metadata": {},
   "source": [
    "# Diagnostic Action Sequence Prediction (DAS) Model\n",
    "\n",
    "This model uses past sequences of diagnostic actions to predict the most likely sequence of future actions. It does not consider the fault or claim history of a vehicle."
   ]
  },
  {
   "cell_type": "code",
   "execution_count": 1,
   "metadata": {
    "ExecuteTime": {
     "start_time": "2023-08-04T18:54:54.462489Z",
     "end_time": "2023-08-04T18:55:16.480744Z"
    }
   },
   "outputs": [
    {
     "name": "stderr",
     "output_type": "stream",
     "text": [
      "2023-08-04 18:55:06.907244: I tensorflow/core/platform/cpu_feature_guard.cc:182] This TensorFlow binary is optimized to use available CPU instructions in performance-critical operations.\n",
      "To enable the following instructions: AVX2 FMA, in other operations, rebuild TensorFlow with the appropriate compiler flags.\n"
     ]
    }
   ],
   "source": [
    "import numpy as np\n",
    "import pandas as pd\n",
    "import keras_nlp\n",
    "import matplotlib.pyplot as plt\n",
    "from keras.models import Sequential\n",
    "from keras.layers import Dense, Embedding, Bidirectional, LSTM\n",
    "from sklearn.model_selection import train_test_split\n",
    "from keras.layers import TimeDistributed\n",
    "from keras.optimizers import Adam\n",
    "from keras.callbacks import EarlyStopping\n",
    "from keras.utils import plot_model, pad_sequences\n",
    "from datetime import datetime"
   ]
  },
  {
   "cell_type": "code",
   "execution_count": 2,
   "metadata": {
    "ExecuteTime": {
     "start_time": "2023-08-04T18:55:16.517778Z",
     "end_time": "2023-08-04T18:55:17.222096Z"
    },
    "collapsed": false,
    "jupyter": {
     "outputs_hidden": false
    }
   },
   "outputs": [],
   "source": [
    "# Load prepared data\n",
    "df = pd.read_csv('./data_out/prepared_data_half.csv', low_memory=False)"
   ]
  },
  {
   "cell_type": "code",
   "execution_count": 3,
   "metadata": {
    "ExecuteTime": {
     "start_time": "2023-08-04T18:55:17.264123Z",
     "end_time": "2023-08-04T18:55:17.516784Z"
    },
    "collapsed": false,
    "jupyter": {
     "outputs_hidden": false
    }
   },
   "outputs": [
    {
     "data": {
      "text/plain": "      consultationid                                        otxsequence\n0                 80                                               [72]\n1                 95                                                [1]\n2               1196                                       [72, 72, 72]\n3               2569  [89, 89, 89, 89, 89, 89, 89, 89, 89, 89, 89, 8...\n4               2823  [72, 72, 72, 72, 72, 72, 72, 72, 72, 72, 72, 7...\n...              ...                                                ...\n1985          646416   [56, 56, 56, 56, 56, 56, 56, 56, 56, 56, 56, 56]\n1986          656555  [72, 72, 72, 72, 72, 72, 72, 72, 72, 72, 72, 7...\n1987          658364               [72, 72, 72, 72, 72, 72, 72, 72, 72]\n1988          660582  [72, 72, 72, 72, 72, 72, 72, 72, 72, 72, 72, 7...\n1989          665101                       [56, 56, 56, 56, 56, 56, 56]\n\n[1990 rows x 2 columns]",
      "text/html": "<div>\n<style scoped>\n    .dataframe tbody tr th:only-of-type {\n        vertical-align: middle;\n    }\n\n    .dataframe tbody tr th {\n        vertical-align: top;\n    }\n\n    .dataframe thead th {\n        text-align: right;\n    }\n</style>\n<table border=\"1\" class=\"dataframe\">\n  <thead>\n    <tr style=\"text-align: right;\">\n      <th></th>\n      <th>consultationid</th>\n      <th>otxsequence</th>\n    </tr>\n  </thead>\n  <tbody>\n    <tr>\n      <th>0</th>\n      <td>80</td>\n      <td>[72]</td>\n    </tr>\n    <tr>\n      <th>1</th>\n      <td>95</td>\n      <td>[1]</td>\n    </tr>\n    <tr>\n      <th>2</th>\n      <td>1196</td>\n      <td>[72, 72, 72]</td>\n    </tr>\n    <tr>\n      <th>3</th>\n      <td>2569</td>\n      <td>[89, 89, 89, 89, 89, 89, 89, 89, 89, 89, 89, 8...</td>\n    </tr>\n    <tr>\n      <th>4</th>\n      <td>2823</td>\n      <td>[72, 72, 72, 72, 72, 72, 72, 72, 72, 72, 72, 7...</td>\n    </tr>\n    <tr>\n      <th>...</th>\n      <td>...</td>\n      <td>...</td>\n    </tr>\n    <tr>\n      <th>1985</th>\n      <td>646416</td>\n      <td>[56, 56, 56, 56, 56, 56, 56, 56, 56, 56, 56, 56]</td>\n    </tr>\n    <tr>\n      <th>1986</th>\n      <td>656555</td>\n      <td>[72, 72, 72, 72, 72, 72, 72, 72, 72, 72, 72, 7...</td>\n    </tr>\n    <tr>\n      <th>1987</th>\n      <td>658364</td>\n      <td>[72, 72, 72, 72, 72, 72, 72, 72, 72]</td>\n    </tr>\n    <tr>\n      <th>1988</th>\n      <td>660582</td>\n      <td>[72, 72, 72, 72, 72, 72, 72, 72, 72, 72, 72, 7...</td>\n    </tr>\n    <tr>\n      <th>1989</th>\n      <td>665101</td>\n      <td>[56, 56, 56, 56, 56, 56, 56]</td>\n    </tr>\n  </tbody>\n</table>\n<p>1990 rows × 2 columns</p>\n</div>"
     },
     "execution_count": 3,
     "metadata": {},
     "output_type": "execute_result"
    }
   ],
   "source": [
    "# Sort values by 'consultationid' to ensure actions for the same consultation are together\n",
    "df.sort_values(['consultationid', 'timestamp'], inplace=True)\n",
    "df['otxsequence'] = df['otxsequence'].astype(str)\n",
    "\n",
    "# Group by consultationid and join the activities\n",
    "grouped = df.groupby('consultationid')['otxsequence'].apply(list).reset_index()\n",
    "\n",
    "# Drop duplicates\n",
    "grouped = grouped.drop_duplicates('consultationid')\n",
    "grouped"
   ]
  },
  {
   "cell_type": "code",
   "execution_count": 4,
   "metadata": {
    "ExecuteTime": {
     "start_time": "2023-08-04T18:55:17.530331Z",
     "end_time": "2023-08-04T18:55:17.984522Z"
    },
    "collapsed": false,
    "jupyter": {
     "outputs_hidden": false
    }
   },
   "outputs": [],
   "source": [
    "sequences = grouped['otxsequence'].apply(lambda x: list(map(int, x)))\n",
    "\n",
    "# Compute the average length of the unique actions in each sequence,\n",
    "# this is the number of actions the model will be predicting\n",
    "seq_length = int(np.mean([len(set(seq)) for seq in sequences]))\n",
    "\n",
    "# prepare the sequences\n",
    "X, y = [], []\n",
    "for seq in sequences:\n",
    "    for i in range(seq_length, len(seq)):\n",
    "        X.append(seq[i-seq_length:i])\n",
    "        y.append(seq[i:i+seq_length])\n",
    "\n",
    "# Pad sequences to ensure consistent length\n",
    "X = pad_sequences(X, maxlen=seq_length, padding='post')\n",
    "y = pad_sequences(y, maxlen=seq_length, padding='post')\n",
    "\n",
    "# Train-test split\n",
    "X_train, X_test, y_train, y_test = train_test_split(X, y, test_size=0.2, random_state=42)"
   ]
  },
  {
   "cell_type": "code",
   "execution_count": 10,
   "metadata": {
    "ExecuteTime": {
     "start_time": "2023-08-04T18:55:17.995581Z",
     "end_time": "2023-08-04T18:55:20.471458Z"
    },
    "collapsed": false,
    "jupyter": {
     "outputs_hidden": false
    }
   },
   "outputs": [
    {
     "name": "stderr",
     "output_type": "stream",
     "text": [
      "2023-08-04 21:27:11.736759: I tensorflow/core/common_runtime/executor.cc:1197] [/device:CPU:0] (DEBUG INFO) Executor start aborting (this does not indicate an error and you can ignore this message): INVALID_ARGUMENT: You must feed a value for placeholder tensor 'gradients/split_2_grad/concat/split_2/split_dim' with dtype int32\n",
      "\t [[{{node gradients/split_2_grad/concat/split_2/split_dim}}]]\n",
      "2023-08-04 21:27:11.742191: I tensorflow/core/common_runtime/executor.cc:1197] [/device:CPU:0] (DEBUG INFO) Executor start aborting (this does not indicate an error and you can ignore this message): INVALID_ARGUMENT: You must feed a value for placeholder tensor 'gradients/split_grad/concat/split/split_dim' with dtype int32\n",
      "\t [[{{node gradients/split_grad/concat/split/split_dim}}]]\n",
      "2023-08-04 21:27:11.748387: I tensorflow/core/common_runtime/executor.cc:1197] [/device:CPU:0] (DEBUG INFO) Executor start aborting (this does not indicate an error and you can ignore this message): INVALID_ARGUMENT: You must feed a value for placeholder tensor 'gradients/split_1_grad/concat/split_1/split_dim' with dtype int32\n",
      "\t [[{{node gradients/split_1_grad/concat/split_1/split_dim}}]]\n",
      "2023-08-04 21:27:12.464125: I tensorflow/core/common_runtime/executor.cc:1197] [/device:CPU:0] (DEBUG INFO) Executor start aborting (this does not indicate an error and you can ignore this message): INVALID_ARGUMENT: You must feed a value for placeholder tensor 'gradients/ReverseV2_grad/ReverseV2/ReverseV2/axis' with dtype int32 and shape [1]\n",
      "\t [[{{node gradients/ReverseV2_grad/ReverseV2/ReverseV2/axis}}]]\n",
      "2023-08-04 21:27:12.818833: I tensorflow/core/common_runtime/executor.cc:1197] [/device:CPU:0] (DEBUG INFO) Executor start aborting (this does not indicate an error and you can ignore this message): INVALID_ARGUMENT: You must feed a value for placeholder tensor 'gradients/split_2_grad/concat/split_2/split_dim' with dtype int32\n",
      "\t [[{{node gradients/split_2_grad/concat/split_2/split_dim}}]]\n",
      "2023-08-04 21:27:12.823756: I tensorflow/core/common_runtime/executor.cc:1197] [/device:CPU:0] (DEBUG INFO) Executor start aborting (this does not indicate an error and you can ignore this message): INVALID_ARGUMENT: You must feed a value for placeholder tensor 'gradients/split_grad/concat/split/split_dim' with dtype int32\n",
      "\t [[{{node gradients/split_grad/concat/split/split_dim}}]]\n",
      "2023-08-04 21:27:12.832383: I tensorflow/core/common_runtime/executor.cc:1197] [/device:CPU:0] (DEBUG INFO) Executor start aborting (this does not indicate an error and you can ignore this message): INVALID_ARGUMENT: You must feed a value for placeholder tensor 'gradients/split_1_grad/concat/split_1/split_dim' with dtype int32\n",
      "\t [[{{node gradients/split_1_grad/concat/split_1/split_dim}}]]\n"
     ]
    },
    {
     "ename": "NameError",
     "evalue": "name 'keras_nlp' is not defined",
     "output_type": "error",
     "traceback": [
      "\u001B[0;31m---------------------------------------------------------------------------\u001B[0m",
      "\u001B[0;31mNameError\u001B[0m                                 Traceback (most recent call last)",
      "Cell \u001B[0;32mIn[10], line 9\u001B[0m\n\u001B[1;32m      6\u001B[0m model\u001B[38;5;241m.\u001B[39madd(TimeDistributed(Dense(num_activities\u001B[38;5;241m+\u001B[39m\u001B[38;5;241m1\u001B[39m, activation\u001B[38;5;241m=\u001B[39m\u001B[38;5;124m'\u001B[39m\u001B[38;5;124msoftmax\u001B[39m\u001B[38;5;124m'\u001B[39m)))\n\u001B[1;32m      8\u001B[0m \u001B[38;5;66;03m# Compile the model\u001B[39;00m\n\u001B[0;32m----> 9\u001B[0m model\u001B[38;5;241m.\u001B[39mcompile(loss\u001B[38;5;241m=\u001B[39m\u001B[38;5;124m'\u001B[39m\u001B[38;5;124msparse_categorical_crossentropy\u001B[39m\u001B[38;5;124m'\u001B[39m, optimizer\u001B[38;5;241m=\u001B[39m\u001B[38;5;124m'\u001B[39m\u001B[38;5;124madam\u001B[39m\u001B[38;5;124m'\u001B[39m, metrics\u001B[38;5;241m=\u001B[39m[\u001B[43mkeras_nlp\u001B[49m\u001B[38;5;241m.\u001B[39mmetrics\u001B[38;5;241m.\u001B[39mPerplexity,])\n\u001B[1;32m     11\u001B[0m model\u001B[38;5;241m.\u001B[39msummary()\n\u001B[1;32m     12\u001B[0m plot_model(model, to_file\u001B[38;5;241m=\u001B[39m\u001B[38;5;124m'\u001B[39m\u001B[38;5;124mfixtures/models/das_layers.png\u001B[39m\u001B[38;5;124m'\u001B[39m, show_shapes\u001B[38;5;241m=\u001B[39m\u001B[38;5;28;01mTrue\u001B[39;00m, show_layer_names\u001B[38;5;241m=\u001B[39m\u001B[38;5;28;01mTrue\u001B[39;00m)\n",
      "\u001B[0;31mNameError\u001B[0m: name 'keras_nlp' is not defined"
     ]
    }
   ],
   "source": [
    "num_activities = df['otxsequence'].nunique()\n",
    "\n",
    "model = Sequential()\n",
    "model.add(Embedding(input_dim=num_activities+1, output_dim=64, input_length=seq_length))\n",
    "model.add(Bidirectional(LSTM(100, return_sequences=True)))\n",
    "model.add(TimeDistributed(Dense(num_activities+1, activation='softmax')))\n",
    "\n",
    "# Compile the model\n",
    "model.compile(loss='sparse_categorical_crossentropy', optimizer='adam', metrics=['accuracy',\n",
    "                                                                                 keras_nlp.metrics.Perplexity,\n",
    "                                                                                 keras_nlp.metrics.EditDistance])\n",
    "\n",
    "model.summary()\n",
    "plot_model(model, to_file='fixtures/models/das_layers.png', show_shapes=True, show_layer_names=True)"
   ]
  },
  {
   "cell_type": "code",
   "execution_count": 6,
   "metadata": {
    "ExecuteTime": {
     "start_time": "2023-08-04T18:55:20.479271Z",
     "end_time": "2023-08-04T18:56:10.334243Z"
    },
    "collapsed": false,
    "jupyter": {
     "outputs_hidden": false
    }
   },
   "outputs": [
    {
     "name": "stdout",
     "output_type": "stream",
     "text": [
      "Epoch 1/50\n"
     ]
    },
    {
     "name": "stderr",
     "output_type": "stream",
     "text": [
      "2023-08-04 18:55:21.205959: I tensorflow/core/common_runtime/executor.cc:1197] [/device:CPU:0] (DEBUG INFO) Executor start aborting (this does not indicate an error and you can ignore this message): INVALID_ARGUMENT: You must feed a value for placeholder tensor 'gradients/split_2_grad/concat/split_2/split_dim' with dtype int32\n",
      "\t [[{{node gradients/split_2_grad/concat/split_2/split_dim}}]]\n",
      "2023-08-04 18:55:21.209021: I tensorflow/core/common_runtime/executor.cc:1197] [/device:CPU:0] (DEBUG INFO) Executor start aborting (this does not indicate an error and you can ignore this message): INVALID_ARGUMENT: You must feed a value for placeholder tensor 'gradients/split_grad/concat/split/split_dim' with dtype int32\n",
      "\t [[{{node gradients/split_grad/concat/split/split_dim}}]]\n",
      "2023-08-04 18:55:21.210867: I tensorflow/core/common_runtime/executor.cc:1197] [/device:CPU:0] (DEBUG INFO) Executor start aborting (this does not indicate an error and you can ignore this message): INVALID_ARGUMENT: You must feed a value for placeholder tensor 'gradients/split_1_grad/concat/split_1/split_dim' with dtype int32\n",
      "\t [[{{node gradients/split_1_grad/concat/split_1/split_dim}}]]\n",
      "2023-08-04 18:55:21.386073: I tensorflow/core/common_runtime/executor.cc:1197] [/device:CPU:0] (DEBUG INFO) Executor start aborting (this does not indicate an error and you can ignore this message): INVALID_ARGUMENT: You must feed a value for placeholder tensor 'gradients/ReverseV2_grad/ReverseV2/ReverseV2/axis' with dtype int32 and shape [1]\n",
      "\t [[{{node gradients/ReverseV2_grad/ReverseV2/ReverseV2/axis}}]]\n",
      "2023-08-04 18:55:21.466627: I tensorflow/core/common_runtime/executor.cc:1197] [/device:CPU:0] (DEBUG INFO) Executor start aborting (this does not indicate an error and you can ignore this message): INVALID_ARGUMENT: You must feed a value for placeholder tensor 'gradients/split_2_grad/concat/split_2/split_dim' with dtype int32\n",
      "\t [[{{node gradients/split_2_grad/concat/split_2/split_dim}}]]\n",
      "2023-08-04 18:55:21.471799: I tensorflow/core/common_runtime/executor.cc:1197] [/device:CPU:0] (DEBUG INFO) Executor start aborting (this does not indicate an error and you can ignore this message): INVALID_ARGUMENT: You must feed a value for placeholder tensor 'gradients/split_grad/concat/split/split_dim' with dtype int32\n",
      "\t [[{{node gradients/split_grad/concat/split/split_dim}}]]\n",
      "2023-08-04 18:55:21.476890: I tensorflow/core/common_runtime/executor.cc:1197] [/device:CPU:0] (DEBUG INFO) Executor start aborting (this does not indicate an error and you can ignore this message): INVALID_ARGUMENT: You must feed a value for placeholder tensor 'gradients/split_1_grad/concat/split_1/split_dim' with dtype int32\n",
      "\t [[{{node gradients/split_1_grad/concat/split_1/split_dim}}]]\n",
      "2023-08-04 18:55:22.150021: I tensorflow/core/common_runtime/executor.cc:1197] [/device:CPU:0] (DEBUG INFO) Executor start aborting (this does not indicate an error and you can ignore this message): INVALID_ARGUMENT: You must feed a value for placeholder tensor 'gradients/ReverseV2_grad/ReverseV2/ReverseV2/axis' with dtype int32 and shape [1]\n",
      "\t [[{{node gradients/ReverseV2_grad/ReverseV2/ReverseV2/axis}}]]\n",
      "2023-08-04 18:55:22.561900: I tensorflow/core/common_runtime/executor.cc:1197] [/device:CPU:0] (DEBUG INFO) Executor start aborting (this does not indicate an error and you can ignore this message): INVALID_ARGUMENT: You must feed a value for placeholder tensor 'gradients/split_2_grad/concat/split_2/split_dim' with dtype int32\n",
      "\t [[{{node gradients/split_2_grad/concat/split_2/split_dim}}]]\n",
      "2023-08-04 18:55:22.563750: I tensorflow/core/common_runtime/executor.cc:1197] [/device:CPU:0] (DEBUG INFO) Executor start aborting (this does not indicate an error and you can ignore this message): INVALID_ARGUMENT: You must feed a value for placeholder tensor 'gradients/split_grad/concat/split/split_dim' with dtype int32\n",
      "\t [[{{node gradients/split_grad/concat/split/split_dim}}]]\n",
      "2023-08-04 18:55:22.565690: I tensorflow/core/common_runtime/executor.cc:1197] [/device:CPU:0] (DEBUG INFO) Executor start aborting (this does not indicate an error and you can ignore this message): INVALID_ARGUMENT: You must feed a value for placeholder tensor 'gradients/split_1_grad/concat/split_1/split_dim' with dtype int32\n",
      "\t [[{{node gradients/split_1_grad/concat/split_1/split_dim}}]]\n",
      "2023-08-04 18:55:22.740972: I tensorflow/core/common_runtime/executor.cc:1197] [/device:CPU:0] (DEBUG INFO) Executor start aborting (this does not indicate an error and you can ignore this message): INVALID_ARGUMENT: You must feed a value for placeholder tensor 'gradients/ReverseV2_grad/ReverseV2/ReverseV2/axis' with dtype int32 and shape [1]\n",
      "\t [[{{node gradients/ReverseV2_grad/ReverseV2/ReverseV2/axis}}]]\n",
      "2023-08-04 18:55:22.824263: I tensorflow/core/common_runtime/executor.cc:1197] [/device:CPU:0] (DEBUG INFO) Executor start aborting (this does not indicate an error and you can ignore this message): INVALID_ARGUMENT: You must feed a value for placeholder tensor 'gradients/split_2_grad/concat/split_2/split_dim' with dtype int32\n",
      "\t [[{{node gradients/split_2_grad/concat/split_2/split_dim}}]]\n",
      "2023-08-04 18:55:22.827788: I tensorflow/core/common_runtime/executor.cc:1197] [/device:CPU:0] (DEBUG INFO) Executor start aborting (this does not indicate an error and you can ignore this message): INVALID_ARGUMENT: You must feed a value for placeholder tensor 'gradients/split_grad/concat/split/split_dim' with dtype int32\n",
      "\t [[{{node gradients/split_grad/concat/split/split_dim}}]]\n",
      "2023-08-04 18:55:22.829571: I tensorflow/core/common_runtime/executor.cc:1197] [/device:CPU:0] (DEBUG INFO) Executor start aborting (this does not indicate an error and you can ignore this message): INVALID_ARGUMENT: You must feed a value for placeholder tensor 'gradients/split_1_grad/concat/split_1/split_dim' with dtype int32\n",
      "\t [[{{node gradients/split_1_grad/concat/split_1/split_dim}}]]\n",
      "2023-08-04 18:55:23.462147: I tensorflow/core/common_runtime/executor.cc:1197] [/device:CPU:0] (DEBUG INFO) Executor start aborting (this does not indicate an error and you can ignore this message): INVALID_ARGUMENT: You must feed a value for placeholder tensor 'gradients/ReverseV2_grad/ReverseV2/ReverseV2/axis' with dtype int32 and shape [1]\n",
      "\t [[{{node gradients/ReverseV2_grad/ReverseV2/ReverseV2/axis}}]]\n"
     ]
    },
    {
     "name": "stdout",
     "output_type": "stream",
     "text": [
      "1055/1059 [============================>.] - ETA: 0s - loss: 0.6272 - accuracy: 0.8794"
     ]
    },
    {
     "name": "stderr",
     "output_type": "stream",
     "text": [
      "2023-08-04 18:55:29.776056: I tensorflow/core/common_runtime/executor.cc:1197] [/device:CPU:0] (DEBUG INFO) Executor start aborting (this does not indicate an error and you can ignore this message): INVALID_ARGUMENT: You must feed a value for placeholder tensor 'gradients/split_2_grad/concat/split_2/split_dim' with dtype int32\n",
      "\t [[{{node gradients/split_2_grad/concat/split_2/split_dim}}]]\n",
      "2023-08-04 18:55:29.778156: I tensorflow/core/common_runtime/executor.cc:1197] [/device:CPU:0] (DEBUG INFO) Executor start aborting (this does not indicate an error and you can ignore this message): INVALID_ARGUMENT: You must feed a value for placeholder tensor 'gradients/split_grad/concat/split/split_dim' with dtype int32\n",
      "\t [[{{node gradients/split_grad/concat/split/split_dim}}]]\n",
      "2023-08-04 18:55:29.779981: I tensorflow/core/common_runtime/executor.cc:1197] [/device:CPU:0] (DEBUG INFO) Executor start aborting (this does not indicate an error and you can ignore this message): INVALID_ARGUMENT: You must feed a value for placeholder tensor 'gradients/split_1_grad/concat/split_1/split_dim' with dtype int32\n",
      "\t [[{{node gradients/split_1_grad/concat/split_1/split_dim}}]]\n",
      "2023-08-04 18:55:29.946043: I tensorflow/core/common_runtime/executor.cc:1197] [/device:CPU:0] (DEBUG INFO) Executor start aborting (this does not indicate an error and you can ignore this message): INVALID_ARGUMENT: You must feed a value for placeholder tensor 'gradients/ReverseV2_grad/ReverseV2/ReverseV2/axis' with dtype int32 and shape [1]\n",
      "\t [[{{node gradients/ReverseV2_grad/ReverseV2/ReverseV2/axis}}]]\n",
      "2023-08-04 18:55:30.006400: I tensorflow/core/common_runtime/executor.cc:1197] [/device:CPU:0] (DEBUG INFO) Executor start aborting (this does not indicate an error and you can ignore this message): INVALID_ARGUMENT: You must feed a value for placeholder tensor 'gradients/split_2_grad/concat/split_2/split_dim' with dtype int32\n",
      "\t [[{{node gradients/split_2_grad/concat/split_2/split_dim}}]]\n",
      "2023-08-04 18:55:30.009612: I tensorflow/core/common_runtime/executor.cc:1197] [/device:CPU:0] (DEBUG INFO) Executor start aborting (this does not indicate an error and you can ignore this message): INVALID_ARGUMENT: You must feed a value for placeholder tensor 'gradients/split_grad/concat/split/split_dim' with dtype int32\n",
      "\t [[{{node gradients/split_grad/concat/split/split_dim}}]]\n",
      "2023-08-04 18:55:30.011510: I tensorflow/core/common_runtime/executor.cc:1197] [/device:CPU:0] (DEBUG INFO) Executor start aborting (this does not indicate an error and you can ignore this message): INVALID_ARGUMENT: You must feed a value for placeholder tensor 'gradients/split_1_grad/concat/split_1/split_dim' with dtype int32\n",
      "\t [[{{node gradients/split_1_grad/concat/split_1/split_dim}}]]\n"
     ]
    },
    {
     "name": "stdout",
     "output_type": "stream",
     "text": [
      "1059/1059 [==============================] - 10s 6ms/step - loss: 0.6255 - accuracy: 0.8798 - val_loss: 0.0874 - val_accuracy: 0.9867\n",
      "Epoch 2/50\n",
      "1059/1059 [==============================] - 5s 5ms/step - loss: 0.0675 - accuracy: 0.9901 - val_loss: 0.0548 - val_accuracy: 0.9928\n",
      "Epoch 3/50\n",
      "1059/1059 [==============================] - 5s 5ms/step - loss: 0.0486 - accuracy: 0.9932 - val_loss: 0.0454 - val_accuracy: 0.9937\n",
      "Epoch 4/50\n",
      "1059/1059 [==============================] - 5s 5ms/step - loss: 0.0417 - accuracy: 0.9941 - val_loss: 0.0440 - val_accuracy: 0.9943\n",
      "Epoch 5/50\n",
      "1059/1059 [==============================] - 4s 4ms/step - loss: 0.0391 - accuracy: 0.9944 - val_loss: 0.0427 - val_accuracy: 0.9949\n",
      "Epoch 6/50\n",
      "1059/1059 [==============================] - 4s 4ms/step - loss: 0.0380 - accuracy: 0.9946 - val_loss: 0.0404 - val_accuracy: 0.9949\n",
      "Epoch 7/50\n",
      "1059/1059 [==============================] - 4s 4ms/step - loss: 0.0374 - accuracy: 0.9946 - val_loss: 0.0402 - val_accuracy: 0.9950\n",
      "Epoch 8/50\n",
      "1059/1059 [==============================] - 4s 4ms/step - loss: 0.0370 - accuracy: 0.9946 - val_loss: 0.0412 - val_accuracy: 0.9950\n",
      "Epoch 9/50\n",
      "1059/1059 [==============================] - 4s 4ms/step - loss: 0.0369 - accuracy: 0.9947 - val_loss: 0.0414 - val_accuracy: 0.9949\n",
      "Epoch 10/50\n",
      "1047/1059 [============================>.] - ETA: 0s - loss: 0.0364 - accuracy: 0.9947Restoring model weights from the end of the best epoch: 5.\n",
      "1059/1059 [==============================] - 4s 4ms/step - loss: 0.0367 - accuracy: 0.9947 - val_loss: 0.0400 - val_accuracy: 0.9949\n",
      "Epoch 10: early stopping\n",
      "CPU times: user 1min 33s, sys: 9.43 s, total: 1min 42s\n",
      "Wall time: 49.9 s\n"
     ]
    }
   ],
   "source": [
    "%%time\n",
    "early_stopping_monitor = EarlyStopping(\n",
    "    monitor='accuracy',\n",
    "    min_delta=0.001,  # minimum change to qualify as an improvement\n",
    "    patience=5,  # number of epochs with no improvement after which training will be stopped\n",
    "    verbose=1,\n",
    "    mode='auto',\n",
    "    baseline=None,\n",
    "    restore_best_weights=True\n",
    ")\n",
    "\n",
    "# Train the model\n",
    "history = model.fit(\n",
    "    X_train,\n",
    "    np.expand_dims(y_train, -1),\n",
    "    epochs=50,\n",
    "    validation_data=(X_test, np.expand_dims(y_test, -1)),\n",
    "    callbacks=[early_stopping_monitor])"
   ]
  },
  {
   "cell_type": "code",
   "execution_count": 7,
   "metadata": {
    "ExecuteTime": {
     "start_time": "2023-08-04T18:56:10.338548Z",
     "end_time": "2023-08-04T18:56:11.091697Z"
    },
    "collapsed": false,
    "jupyter": {
     "outputs_hidden": false
    }
   },
   "outputs": [
    {
     "data": {
      "text/plain": "<Figure size 1200x400 with 2 Axes>",
      "image/png": "[encoded data removed]"
     },
     "metadata": {},
     "output_type": "display_data"
    }
   ],
   "source": [
    "# Plot training & validation accuracy values\n",
    "plt.figure(figsize=(12, 4))\n",
    "\n",
    "plt.subplot(1, 2, 1)\n",
    "plt.plot(history.history['accuracy'])\n",
    "plt.plot(history.history['val_accuracy'])\n",
    "plt.title('DAS Model accuracy')\n",
    "plt.ylabel('Accuracy')\n",
    "plt.xlabel('Epoch')\n",
    "plt.legend(['Train', 'Test'], loc='upper left')\n",
    "\n",
    "# Plot training & validation loss values\n",
    "plt.subplot(1, 2, 2)\n",
    "plt.plot(history.history['loss'])\n",
    "plt.plot(history.history['val_loss'])\n",
    "plt.title('DAS Model loss')\n",
    "plt.ylabel('Loss')\n",
    "plt.xlabel('Epoch')\n",
    "plt.legend(['Train', 'Test'], loc='upper left')\n",
    "\n",
    "plt.savefig('fixtures/models/das_training.png')\n"
   ]
  },
  {
   "cell_type": "code",
   "execution_count": 9,
   "metadata": {
    "ExecuteTime": {
     "start_time": "2023-08-04T19:15:42.864986Z",
     "end_time": "2023-08-04T19:15:44.484222Z"
    },
    "collapsed": false,
    "jupyter": {
     "outputs_hidden": false
    }
   },
   "outputs": [
    {
     "name": "stdout",
     "output_type": "stream",
     "text": [
      "265/265 [==============================] - 1s 3ms/step - loss: 0.0427 - accuracy: 0.9949\n",
      "Test Loss: 0.04270774498581886\n",
      "Test Accuracy: 0.9949226379394531\n"
     ]
    }
   ],
   "source": [
    "from data_preprocessing import save_csv\n",
    "\n",
    "# Evaluate the model\n",
    "test_loss, test_accuracy = model.evaluate(X_test, np.expand_dims(y_test, -1))\n",
    "save_csv(pd.DataFrame(y_test), 'models_test/da_y_test.csv')\n",
    "save_csv(pd.DataFrame(X_test), 'models_test/da_X_test_input.csv')\n",
    "print(f\"Test Loss: {test_loss}\")\n",
    "print(f\"Test Accuracy: {test_accuracy}\")"
   ]
  },
  {
   "cell_type": "markdown",
   "source": [
    "This will save the architecture of the model, the weights of the model, the training configuration (loss, optimizer), and the state of the optimizer, allowing us to resume training exactly where we left off."
   ],
   "metadata": {
    "collapsed": false
   }
  },
  {
   "cell_type": "code",
   "execution_count": null,
   "outputs": [],
   "source": [
    "timestamp = datetime.now().strftime(\"%Y%m%d_%H%M%S\")\n",
    "model.save(f'fixtures/models/das_{timestamp}.h5')"
   ],
   "metadata": {
    "collapsed": false,
    "ExecuteTime": {
     "start_time": "2023-08-03T17:35:40.731337Z",
     "end_time": "2023-08-03T17:35:40.832729Z"
    }
   }
  }
 ],
 "metadata": {
  "kernelspec": {
   "name": "python3",
   "language": "python",
   "display_name": "Python 3 (ipykernel)"
  },
  "language_info": {
   "codemirror_mode": {
    "name": "ipython",
    "version": 3
   },
   "file_extension": ".py",
   "mimetype": "text/x-python",
   "name": "python",
   "nbconvert_exporter": "python",
   "pygments_lexer": "ipython3",
   "version": "3.9.17"
  }
 },
 "nbformat": 4,
 "nbformat_minor": 4
}
